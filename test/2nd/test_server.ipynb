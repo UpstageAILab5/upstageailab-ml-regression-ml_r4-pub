{
 "cells": [
  {
   "cell_type": "markdown",
   "metadata": {},
   "source": [
    "# Setup"
   ]
  },
  {
   "cell_type": "code",
   "execution_count": null,
   "metadata": {},
   "outputs": [
    {
     "name": "stdout",
     "output_type": "stream",
     "text": [
      "Project root found: /data/ephemeral/home/dev/upstageailab5-ml-regression-ml_r4\n",
      "2024-11-14 01:33:41,665 - root - INFO - Initialized Logger.\n",
      "2024-11-14 01:33:41,666 - root - INFO - Linux platform. Font: ['NanumGothic']\n",
      "2024-11-14 01:33:41,667 - root - INFO - #### Current workspalce: /data/ephemeral/home/dev/upstageailab5-ml-regression-ml_r4\n",
      "2024-11-14 01:33:41,667 - root - INFO - Linux platform. Path: /data/ephemeral/home/dev/upstageailab5-ml-regression-ml_r4\n",
      "{'base_path': '/data/ephemeral/home/dev/upstageailab5-ml-regression-ml_r4',\n",
      " 'config': PosixPath('/data/ephemeral/home/dev/upstageailab5-ml-regression-ml_r4/config'),\n",
      " 'data': PosixPath('/data/ephemeral/home/dev/upstageailab5-ml-regression-ml_r4/data'),\n",
      " 'data_paths': {'bus_feature': '/data/ephemeral/home/dev/upstageailab5-ml-regression-ml_r4/data/bus_feature.csv',\n",
      "                'subway_feature': '/data/ephemeral/home/dev/upstageailab5-ml-regression-ml_r4/data/subway_feature.csv'},\n",
      " 'logger': <src.logger.Logger object at 0x7f82558cb400>,\n",
      " 'logs': PosixPath('/data/ephemeral/home/dev/upstageailab5-ml-regression-ml_r4/logs'),\n",
      " 'models_path': PosixPath('/data/ephemeral/home/dev/upstageailab5-ml-regression-ml_r4/output/models'),\n",
      " 'out_path': '/data/ephemeral/home/dev/upstageailab5-ml-regression-ml_r4/output',\n",
      " 'output': PosixPath('/data/ephemeral/home/dev/upstageailab5-ml-regression-ml_r4/output'),\n",
      " 'prep_paths': {'auto': '/data/ephemeral/home/dev/upstageailab5-ml-regression-ml_r4/data/preprocessed/df_auto_prep.csv',\n",
      "                'baseline': '/data/ephemeral/home/dev/upstageailab5-ml-regression-ml_r4/data/preprocessed/df_base_prep.csv',\n",
      "                'feat': '/data/ephemeral/home/dev/upstageailab5-ml-regression-ml_r4/data/preprocessed/df_feat.csv',\n",
      "                'feat_add': '/data/ephemeral/home/dev/upstageailab5-ml-regression-ml_r4/data/preprocessed/df_feat_add.csv'},\n",
      " 'processed_path': PosixPath('/data/ephemeral/home/dev/upstageailab5-ml-regression-ml_r4/data/preprocessed'),\n",
      " 'report_path': PosixPath('/data/ephemeral/home/dev/upstageailab5-ml-regression-ml_r4/output/report')}\n"
     ]
    }
   ],
   "source": [
    "\n",
    "from pathlib import Path\n",
    "import os\n",
    "import pprint\n",
    "import pandas as pd\n",
    "import pygwalker as pyg\n",
    "import dabl\n",
    "\n",
    "import sys\n",
    "from pathlib import Path\n",
    "#### For Path setup\n",
    "def setup_project_path():\n",
    "    \"\"\"프로젝트 루트 경로를 찾아서 파이썬 경로에 추가\"\"\"\n",
    "    current = Path.cwd()\n",
    "    while current != current.parent:\n",
    "        if (current / '.git').exists():\n",
    "            if str(current) not in sys.path:\n",
    "                sys.path.append(str(current))\n",
    "                print(f'Project root found: {current}')\n",
    "            return current\n",
    "        current = current.parent\n",
    "    return None\n",
    "\n",
    "# 프로젝트 경로 설정\n",
    "project_root = setup_project_path()\n",
    "if project_root is None:\n",
    "    # 프로젝트 루트를 찾지 못했다면 직접 지정\n",
    "    project_root = Path(\"D:/dev/upstageailab5-ml-regression-ml_r4\")\n",
    "    if str(project_root) not in sys.path:\n",
    "        sys.path.append(str(project_root))\n",
    "\n",
    "#jupyter nbextension enable --py widgetsnbextension\n",
    "\n",
    "import seaborn as sns\n",
    "import matplotlib.pyplot as plt\n",
    "plt.rc('font', family='Malgun Gothic')\n",
    "plt.rcParams['axes.unicode_minus'] = False\n",
    "from src.logger import Logger\n",
    "from src.preprocessing import DataPrep\n",
    "from src.eda import EDA\n",
    "from src.feature import FeatureEngineer, Clustering, XAI\n",
    "from src.train import Model\n",
    "from src.visualization import Visualizer\n",
    "from src.utils import Utils, PathManager\n",
    "## memory management\n",
    "import gc\n",
    "gc.collect()\n",
    "########################################################################################################################################\n",
    "logger_instance = Logger()\n",
    "logger = logger_instance.logger\n",
    "utils = Utils(logger)\n",
    "utils.setup_font_and_path_platform()\n",
    "current_platform = utils.current_platform\n",
    "#os.environ['PYTHONPATH'] = r'D:\\dev\\upstageailab5-ml-regression-ml_r4'\n",
    "current_path = os.path.abspath(os.path.join(os.getcwd(), '..'))\n",
    "logger.info(f'#### Current workspalce: {current_path}')\n",
    "if current_platform == 'Windows':\n",
    "    base_path = Path(r'D:\\dev\\upstageailab5-ml-regression-ml_r4')\n",
    "    logger.info(f'{current_platform} platform. Path: {base_path}')\n",
    "elif current_platform == 'Darwin':          # Mac\n",
    "    base_path = Path('/data/ephemeral/home/dev/upstageailab5-ml-regression-ml_r4')\n",
    "    logger.info(f'{current_platform} platform. Path: {base_path}')\n",
    "else:\n",
    "    base_path = Path('/data/ephemeral/home/dev/upstageailab5-ml-regression-ml_r4')    # Linux\n",
    "    logger.info(f'{current_platform} platform. Path: {base_path}')\n",
    "########################################################################################################################################\n",
    "\n",
    "\n",
    "########################################################################################################################################\n",
    "### Data Prep\n",
    "\n",
    "\n",
    "pm = PathManager(base_path)\n",
    "pm.config\n",
    "\n",
    "# PathManager에서 경로 가져오기\n",
    "data_path = pm.get_path('data', as_str=True)\n",
    "prep_path = pm.get_path('processed_path', as_str=True)\n",
    "output_path = pm.get_path('output', as_str=True)\n",
    "\n",
    "# 설정 딕셔너리 생성\n",
    "config = {   \n",
    "    'out_path': output_path,\n",
    "    'base_path': str(pm.base_path),\n",
    "    'data_paths': {\n",
    "        'subway_feature': str(Path(data_path) / 'subway_feature.csv'),\n",
    "        'bus_feature': str(Path(data_path) / 'bus_feature.csv'),\n",
    "    },\n",
    "    'prep_paths': {\n",
    "        'baseline': str(Path(prep_path) / 'df_feature.csv'),\n",
    "        'auto': str(Path(prep_path) / 'df_auto_prep.csv'),\n",
    "        'scaled': str(Path(prep_path) / 'df_scaled.csv'),\n",
    "        'encoded': str(Path(prep_path) / 'df_encoded.csv')\n",
    "    },\n",
    "    'logger': logger_instance\n",
    "}\n",
    "\n",
    "# 필요한 경우 개별 경로 접근\n",
    "path_baseline = config['prep_paths']['baseline']\n",
    "path_auto = config['prep_paths']['auto']\n",
    "path_feat = config['prep_paths']['feat']\n",
    "path_feat_add = config['prep_paths']['feat_add']\n",
    "\n",
    "config.update(pm.paths)\n",
    "pprint.pprint(config)\n",
    "\n",
    "# from src.utils import Utils\n",
    "# concat =Utils.clean_df(concat)\n",
    "# feat_cluster =Utils.clean_df(feat_cluster)\n",
    "# feat_transport =Utils.clean_df(feat_transport)\n",
    "\n",
    "\n"
   ]
  },
  {
   "cell_type": "code",
   "execution_count": 4,
   "metadata": {},
   "outputs": [
    {
     "ename": "FileNotFoundError",
     "evalue": "[Errno 2] No such file or directory: '/data/ephemeral/home/dev/upstageailab5-ml-regression-ml_r4/data/preprocessed/df_baseline.csv'",
     "output_type": "error",
     "traceback": [
      "\u001b[0;31m---------------------------------------------------------------------------\u001b[0m",
      "\u001b[0;31mFileNotFoundError\u001b[0m                         Traceback (most recent call last)",
      "Cell \u001b[0;32mIn[4], line 1\u001b[0m\n\u001b[0;32m----> 1\u001b[0m concat \u001b[38;5;241m=\u001b[39m \u001b[43mpd\u001b[49m\u001b[38;5;241;43m.\u001b[39;49m\u001b[43mread_csv\u001b[49m\u001b[43m(\u001b[49m\u001b[43mos\u001b[49m\u001b[38;5;241;43m.\u001b[39;49m\u001b[43mpath\u001b[49m\u001b[38;5;241;43m.\u001b[39;49m\u001b[43mjoin\u001b[49m\u001b[43m(\u001b[49m\u001b[43mprep_path\u001b[49m\u001b[43m,\u001b[49m\u001b[43m \u001b[49m\u001b[38;5;124;43m'\u001b[39;49m\u001b[38;5;124;43mdf_baseline.csv\u001b[39;49m\u001b[38;5;124;43m'\u001b[39;49m\u001b[43m)\u001b[49m\u001b[43m,\u001b[49m\u001b[43m \u001b[49m\u001b[43mindex_col\u001b[49m\u001b[38;5;241;43m=\u001b[39;49m\u001b[38;5;241;43m0\u001b[39;49m\u001b[43m)\u001b[49m\n\u001b[1;32m      2\u001b[0m feat_cluster \u001b[38;5;241m=\u001b[39m pd\u001b[38;5;241m.\u001b[39mread_csv(os\u001b[38;5;241m.\u001b[39mpath\u001b[38;5;241m.\u001b[39mjoin(prep_path, \u001b[38;5;124m'\u001b[39m\u001b[38;5;124mfeat_cluster.csv\u001b[39m\u001b[38;5;124m'\u001b[39m), index_col\u001b[38;5;241m=\u001b[39m\u001b[38;5;241m0\u001b[39m)\n\u001b[1;32m      3\u001b[0m feat_transport \u001b[38;5;241m=\u001b[39m pd\u001b[38;5;241m.\u001b[39mread_csv(os\u001b[38;5;241m.\u001b[39mpath\u001b[38;5;241m.\u001b[39mjoin(prep_path, \u001b[38;5;124m'\u001b[39m\u001b[38;5;124mfeat_transport.csv\u001b[39m\u001b[38;5;124m'\u001b[39m), index_col\u001b[38;5;241m=\u001b[39m\u001b[38;5;241m0\u001b[39m)\n",
      "File \u001b[0;32m~/miniconda3/envs/ml4/lib/python3.9/site-packages/pandas/util/_decorators.py:211\u001b[0m, in \u001b[0;36mdeprecate_kwarg.<locals>._deprecate_kwarg.<locals>.wrapper\u001b[0;34m(*args, **kwargs)\u001b[0m\n\u001b[1;32m    209\u001b[0m     \u001b[38;5;28;01melse\u001b[39;00m:\n\u001b[1;32m    210\u001b[0m         kwargs[new_arg_name] \u001b[38;5;241m=\u001b[39m new_arg_value\n\u001b[0;32m--> 211\u001b[0m \u001b[38;5;28;01mreturn\u001b[39;00m \u001b[43mfunc\u001b[49m\u001b[43m(\u001b[49m\u001b[38;5;241;43m*\u001b[39;49m\u001b[43margs\u001b[49m\u001b[43m,\u001b[49m\u001b[43m \u001b[49m\u001b[38;5;241;43m*\u001b[39;49m\u001b[38;5;241;43m*\u001b[39;49m\u001b[43mkwargs\u001b[49m\u001b[43m)\u001b[49m\n",
      "File \u001b[0;32m~/miniconda3/envs/ml4/lib/python3.9/site-packages/pandas/util/_decorators.py:331\u001b[0m, in \u001b[0;36mdeprecate_nonkeyword_arguments.<locals>.decorate.<locals>.wrapper\u001b[0;34m(*args, **kwargs)\u001b[0m\n\u001b[1;32m    325\u001b[0m \u001b[38;5;28;01mif\u001b[39;00m \u001b[38;5;28mlen\u001b[39m(args) \u001b[38;5;241m>\u001b[39m num_allow_args:\n\u001b[1;32m    326\u001b[0m     warnings\u001b[38;5;241m.\u001b[39mwarn(\n\u001b[1;32m    327\u001b[0m         msg\u001b[38;5;241m.\u001b[39mformat(arguments\u001b[38;5;241m=\u001b[39m_format_argument_list(allow_args)),\n\u001b[1;32m    328\u001b[0m         \u001b[38;5;167;01mFutureWarning\u001b[39;00m,\n\u001b[1;32m    329\u001b[0m         stacklevel\u001b[38;5;241m=\u001b[39mfind_stack_level(),\n\u001b[1;32m    330\u001b[0m     )\n\u001b[0;32m--> 331\u001b[0m \u001b[38;5;28;01mreturn\u001b[39;00m \u001b[43mfunc\u001b[49m\u001b[43m(\u001b[49m\u001b[38;5;241;43m*\u001b[39;49m\u001b[43margs\u001b[49m\u001b[43m,\u001b[49m\u001b[43m \u001b[49m\u001b[38;5;241;43m*\u001b[39;49m\u001b[38;5;241;43m*\u001b[39;49m\u001b[43mkwargs\u001b[49m\u001b[43m)\u001b[49m\n",
      "File \u001b[0;32m~/miniconda3/envs/ml4/lib/python3.9/site-packages/pandas/io/parsers/readers.py:950\u001b[0m, in \u001b[0;36mread_csv\u001b[0;34m(filepath_or_buffer, sep, delimiter, header, names, index_col, usecols, squeeze, prefix, mangle_dupe_cols, dtype, engine, converters, true_values, false_values, skipinitialspace, skiprows, skipfooter, nrows, na_values, keep_default_na, na_filter, verbose, skip_blank_lines, parse_dates, infer_datetime_format, keep_date_col, date_parser, dayfirst, cache_dates, iterator, chunksize, compression, thousands, decimal, lineterminator, quotechar, quoting, doublequote, escapechar, comment, encoding, encoding_errors, dialect, error_bad_lines, warn_bad_lines, on_bad_lines, delim_whitespace, low_memory, memory_map, float_precision, storage_options)\u001b[0m\n\u001b[1;32m    935\u001b[0m kwds_defaults \u001b[38;5;241m=\u001b[39m _refine_defaults_read(\n\u001b[1;32m    936\u001b[0m     dialect,\n\u001b[1;32m    937\u001b[0m     delimiter,\n\u001b[0;32m   (...)\u001b[0m\n\u001b[1;32m    946\u001b[0m     defaults\u001b[38;5;241m=\u001b[39m{\u001b[38;5;124m\"\u001b[39m\u001b[38;5;124mdelimiter\u001b[39m\u001b[38;5;124m\"\u001b[39m: \u001b[38;5;124m\"\u001b[39m\u001b[38;5;124m,\u001b[39m\u001b[38;5;124m\"\u001b[39m},\n\u001b[1;32m    947\u001b[0m )\n\u001b[1;32m    948\u001b[0m kwds\u001b[38;5;241m.\u001b[39mupdate(kwds_defaults)\n\u001b[0;32m--> 950\u001b[0m \u001b[38;5;28;01mreturn\u001b[39;00m \u001b[43m_read\u001b[49m\u001b[43m(\u001b[49m\u001b[43mfilepath_or_buffer\u001b[49m\u001b[43m,\u001b[49m\u001b[43m \u001b[49m\u001b[43mkwds\u001b[49m\u001b[43m)\u001b[49m\n",
      "File \u001b[0;32m~/miniconda3/envs/ml4/lib/python3.9/site-packages/pandas/io/parsers/readers.py:605\u001b[0m, in \u001b[0;36m_read\u001b[0;34m(filepath_or_buffer, kwds)\u001b[0m\n\u001b[1;32m    602\u001b[0m _validate_names(kwds\u001b[38;5;241m.\u001b[39mget(\u001b[38;5;124m\"\u001b[39m\u001b[38;5;124mnames\u001b[39m\u001b[38;5;124m\"\u001b[39m, \u001b[38;5;28;01mNone\u001b[39;00m))\n\u001b[1;32m    604\u001b[0m \u001b[38;5;66;03m# Create the parser.\u001b[39;00m\n\u001b[0;32m--> 605\u001b[0m parser \u001b[38;5;241m=\u001b[39m \u001b[43mTextFileReader\u001b[49m\u001b[43m(\u001b[49m\u001b[43mfilepath_or_buffer\u001b[49m\u001b[43m,\u001b[49m\u001b[43m \u001b[49m\u001b[38;5;241;43m*\u001b[39;49m\u001b[38;5;241;43m*\u001b[39;49m\u001b[43mkwds\u001b[49m\u001b[43m)\u001b[49m\n\u001b[1;32m    607\u001b[0m \u001b[38;5;28;01mif\u001b[39;00m chunksize \u001b[38;5;129;01mor\u001b[39;00m iterator:\n\u001b[1;32m    608\u001b[0m     \u001b[38;5;28;01mreturn\u001b[39;00m parser\n",
      "File \u001b[0;32m~/miniconda3/envs/ml4/lib/python3.9/site-packages/pandas/io/parsers/readers.py:1442\u001b[0m, in \u001b[0;36mTextFileReader.__init__\u001b[0;34m(self, f, engine, **kwds)\u001b[0m\n\u001b[1;32m   1439\u001b[0m     \u001b[38;5;28mself\u001b[39m\u001b[38;5;241m.\u001b[39moptions[\u001b[38;5;124m\"\u001b[39m\u001b[38;5;124mhas_index_names\u001b[39m\u001b[38;5;124m\"\u001b[39m] \u001b[38;5;241m=\u001b[39m kwds[\u001b[38;5;124m\"\u001b[39m\u001b[38;5;124mhas_index_names\u001b[39m\u001b[38;5;124m\"\u001b[39m]\n\u001b[1;32m   1441\u001b[0m \u001b[38;5;28mself\u001b[39m\u001b[38;5;241m.\u001b[39mhandles: IOHandles \u001b[38;5;241m|\u001b[39m \u001b[38;5;28;01mNone\u001b[39;00m \u001b[38;5;241m=\u001b[39m \u001b[38;5;28;01mNone\u001b[39;00m\n\u001b[0;32m-> 1442\u001b[0m \u001b[38;5;28mself\u001b[39m\u001b[38;5;241m.\u001b[39m_engine \u001b[38;5;241m=\u001b[39m \u001b[38;5;28;43mself\u001b[39;49m\u001b[38;5;241;43m.\u001b[39;49m\u001b[43m_make_engine\u001b[49m\u001b[43m(\u001b[49m\u001b[43mf\u001b[49m\u001b[43m,\u001b[49m\u001b[43m \u001b[49m\u001b[38;5;28;43mself\u001b[39;49m\u001b[38;5;241;43m.\u001b[39;49m\u001b[43mengine\u001b[49m\u001b[43m)\u001b[49m\n",
      "File \u001b[0;32m~/miniconda3/envs/ml4/lib/python3.9/site-packages/pandas/io/parsers/readers.py:1735\u001b[0m, in \u001b[0;36mTextFileReader._make_engine\u001b[0;34m(self, f, engine)\u001b[0m\n\u001b[1;32m   1733\u001b[0m     \u001b[38;5;28;01mif\u001b[39;00m \u001b[38;5;124m\"\u001b[39m\u001b[38;5;124mb\u001b[39m\u001b[38;5;124m\"\u001b[39m \u001b[38;5;129;01mnot\u001b[39;00m \u001b[38;5;129;01min\u001b[39;00m mode:\n\u001b[1;32m   1734\u001b[0m         mode \u001b[38;5;241m+\u001b[39m\u001b[38;5;241m=\u001b[39m \u001b[38;5;124m\"\u001b[39m\u001b[38;5;124mb\u001b[39m\u001b[38;5;124m\"\u001b[39m\n\u001b[0;32m-> 1735\u001b[0m \u001b[38;5;28mself\u001b[39m\u001b[38;5;241m.\u001b[39mhandles \u001b[38;5;241m=\u001b[39m \u001b[43mget_handle\u001b[49m\u001b[43m(\u001b[49m\n\u001b[1;32m   1736\u001b[0m \u001b[43m    \u001b[49m\u001b[43mf\u001b[49m\u001b[43m,\u001b[49m\n\u001b[1;32m   1737\u001b[0m \u001b[43m    \u001b[49m\u001b[43mmode\u001b[49m\u001b[43m,\u001b[49m\n\u001b[1;32m   1738\u001b[0m \u001b[43m    \u001b[49m\u001b[43mencoding\u001b[49m\u001b[38;5;241;43m=\u001b[39;49m\u001b[38;5;28;43mself\u001b[39;49m\u001b[38;5;241;43m.\u001b[39;49m\u001b[43moptions\u001b[49m\u001b[38;5;241;43m.\u001b[39;49m\u001b[43mget\u001b[49m\u001b[43m(\u001b[49m\u001b[38;5;124;43m\"\u001b[39;49m\u001b[38;5;124;43mencoding\u001b[39;49m\u001b[38;5;124;43m\"\u001b[39;49m\u001b[43m,\u001b[49m\u001b[43m \u001b[49m\u001b[38;5;28;43;01mNone\u001b[39;49;00m\u001b[43m)\u001b[49m\u001b[43m,\u001b[49m\n\u001b[1;32m   1739\u001b[0m \u001b[43m    \u001b[49m\u001b[43mcompression\u001b[49m\u001b[38;5;241;43m=\u001b[39;49m\u001b[38;5;28;43mself\u001b[39;49m\u001b[38;5;241;43m.\u001b[39;49m\u001b[43moptions\u001b[49m\u001b[38;5;241;43m.\u001b[39;49m\u001b[43mget\u001b[49m\u001b[43m(\u001b[49m\u001b[38;5;124;43m\"\u001b[39;49m\u001b[38;5;124;43mcompression\u001b[39;49m\u001b[38;5;124;43m\"\u001b[39;49m\u001b[43m,\u001b[49m\u001b[43m \u001b[49m\u001b[38;5;28;43;01mNone\u001b[39;49;00m\u001b[43m)\u001b[49m\u001b[43m,\u001b[49m\n\u001b[1;32m   1740\u001b[0m \u001b[43m    \u001b[49m\u001b[43mmemory_map\u001b[49m\u001b[38;5;241;43m=\u001b[39;49m\u001b[38;5;28;43mself\u001b[39;49m\u001b[38;5;241;43m.\u001b[39;49m\u001b[43moptions\u001b[49m\u001b[38;5;241;43m.\u001b[39;49m\u001b[43mget\u001b[49m\u001b[43m(\u001b[49m\u001b[38;5;124;43m\"\u001b[39;49m\u001b[38;5;124;43mmemory_map\u001b[39;49m\u001b[38;5;124;43m\"\u001b[39;49m\u001b[43m,\u001b[49m\u001b[43m \u001b[49m\u001b[38;5;28;43;01mFalse\u001b[39;49;00m\u001b[43m)\u001b[49m\u001b[43m,\u001b[49m\n\u001b[1;32m   1741\u001b[0m \u001b[43m    \u001b[49m\u001b[43mis_text\u001b[49m\u001b[38;5;241;43m=\u001b[39;49m\u001b[43mis_text\u001b[49m\u001b[43m,\u001b[49m\n\u001b[1;32m   1742\u001b[0m \u001b[43m    \u001b[49m\u001b[43merrors\u001b[49m\u001b[38;5;241;43m=\u001b[39;49m\u001b[38;5;28;43mself\u001b[39;49m\u001b[38;5;241;43m.\u001b[39;49m\u001b[43moptions\u001b[49m\u001b[38;5;241;43m.\u001b[39;49m\u001b[43mget\u001b[49m\u001b[43m(\u001b[49m\u001b[38;5;124;43m\"\u001b[39;49m\u001b[38;5;124;43mencoding_errors\u001b[39;49m\u001b[38;5;124;43m\"\u001b[39;49m\u001b[43m,\u001b[49m\u001b[43m \u001b[49m\u001b[38;5;124;43m\"\u001b[39;49m\u001b[38;5;124;43mstrict\u001b[39;49m\u001b[38;5;124;43m\"\u001b[39;49m\u001b[43m)\u001b[49m\u001b[43m,\u001b[49m\n\u001b[1;32m   1743\u001b[0m \u001b[43m    \u001b[49m\u001b[43mstorage_options\u001b[49m\u001b[38;5;241;43m=\u001b[39;49m\u001b[38;5;28;43mself\u001b[39;49m\u001b[38;5;241;43m.\u001b[39;49m\u001b[43moptions\u001b[49m\u001b[38;5;241;43m.\u001b[39;49m\u001b[43mget\u001b[49m\u001b[43m(\u001b[49m\u001b[38;5;124;43m\"\u001b[39;49m\u001b[38;5;124;43mstorage_options\u001b[39;49m\u001b[38;5;124;43m\"\u001b[39;49m\u001b[43m,\u001b[49m\u001b[43m \u001b[49m\u001b[38;5;28;43;01mNone\u001b[39;49;00m\u001b[43m)\u001b[49m\u001b[43m,\u001b[49m\n\u001b[1;32m   1744\u001b[0m \u001b[43m\u001b[49m\u001b[43m)\u001b[49m\n\u001b[1;32m   1745\u001b[0m \u001b[38;5;28;01massert\u001b[39;00m \u001b[38;5;28mself\u001b[39m\u001b[38;5;241m.\u001b[39mhandles \u001b[38;5;129;01mis\u001b[39;00m \u001b[38;5;129;01mnot\u001b[39;00m \u001b[38;5;28;01mNone\u001b[39;00m\n\u001b[1;32m   1746\u001b[0m f \u001b[38;5;241m=\u001b[39m \u001b[38;5;28mself\u001b[39m\u001b[38;5;241m.\u001b[39mhandles\u001b[38;5;241m.\u001b[39mhandle\n",
      "File \u001b[0;32m~/miniconda3/envs/ml4/lib/python3.9/site-packages/pandas/io/common.py:856\u001b[0m, in \u001b[0;36mget_handle\u001b[0;34m(path_or_buf, mode, encoding, compression, memory_map, is_text, errors, storage_options)\u001b[0m\n\u001b[1;32m    851\u001b[0m \u001b[38;5;28;01melif\u001b[39;00m \u001b[38;5;28misinstance\u001b[39m(handle, \u001b[38;5;28mstr\u001b[39m):\n\u001b[1;32m    852\u001b[0m     \u001b[38;5;66;03m# Check whether the filename is to be opened in binary mode.\u001b[39;00m\n\u001b[1;32m    853\u001b[0m     \u001b[38;5;66;03m# Binary mode does not support 'encoding' and 'newline'.\u001b[39;00m\n\u001b[1;32m    854\u001b[0m     \u001b[38;5;28;01mif\u001b[39;00m ioargs\u001b[38;5;241m.\u001b[39mencoding \u001b[38;5;129;01mand\u001b[39;00m \u001b[38;5;124m\"\u001b[39m\u001b[38;5;124mb\u001b[39m\u001b[38;5;124m\"\u001b[39m \u001b[38;5;129;01mnot\u001b[39;00m \u001b[38;5;129;01min\u001b[39;00m ioargs\u001b[38;5;241m.\u001b[39mmode:\n\u001b[1;32m    855\u001b[0m         \u001b[38;5;66;03m# Encoding\u001b[39;00m\n\u001b[0;32m--> 856\u001b[0m         handle \u001b[38;5;241m=\u001b[39m \u001b[38;5;28;43mopen\u001b[39;49m\u001b[43m(\u001b[49m\n\u001b[1;32m    857\u001b[0m \u001b[43m            \u001b[49m\u001b[43mhandle\u001b[49m\u001b[43m,\u001b[49m\n\u001b[1;32m    858\u001b[0m \u001b[43m            \u001b[49m\u001b[43mioargs\u001b[49m\u001b[38;5;241;43m.\u001b[39;49m\u001b[43mmode\u001b[49m\u001b[43m,\u001b[49m\n\u001b[1;32m    859\u001b[0m \u001b[43m            \u001b[49m\u001b[43mencoding\u001b[49m\u001b[38;5;241;43m=\u001b[39;49m\u001b[43mioargs\u001b[49m\u001b[38;5;241;43m.\u001b[39;49m\u001b[43mencoding\u001b[49m\u001b[43m,\u001b[49m\n\u001b[1;32m    860\u001b[0m \u001b[43m            \u001b[49m\u001b[43merrors\u001b[49m\u001b[38;5;241;43m=\u001b[39;49m\u001b[43merrors\u001b[49m\u001b[43m,\u001b[49m\n\u001b[1;32m    861\u001b[0m \u001b[43m            \u001b[49m\u001b[43mnewline\u001b[49m\u001b[38;5;241;43m=\u001b[39;49m\u001b[38;5;124;43m\"\u001b[39;49m\u001b[38;5;124;43m\"\u001b[39;49m\u001b[43m,\u001b[49m\n\u001b[1;32m    862\u001b[0m \u001b[43m        \u001b[49m\u001b[43m)\u001b[49m\n\u001b[1;32m    863\u001b[0m     \u001b[38;5;28;01melse\u001b[39;00m:\n\u001b[1;32m    864\u001b[0m         \u001b[38;5;66;03m# Binary mode\u001b[39;00m\n\u001b[1;32m    865\u001b[0m         handle \u001b[38;5;241m=\u001b[39m \u001b[38;5;28mopen\u001b[39m(handle, ioargs\u001b[38;5;241m.\u001b[39mmode)\n",
      "\u001b[0;31mFileNotFoundError\u001b[0m: [Errno 2] No such file or directory: '/data/ephemeral/home/dev/upstageailab5-ml-regression-ml_r4/data/preprocessed/df_baseline.csv'"
     ]
    }
   ],
   "source": [
    "\n",
    "concat = pd.read_csv(os.path.join(prep_path, 'df_baseline.csv'), index_col=0)\n",
    "feat_cluster = pd.read_csv(os.path.join(prep_path, 'feat_cluster.csv'), index_col=0)\n",
    "feat_transport = pd.read_csv(os.path.join(prep_path, 'feat_transport.csv'), index_col=0)\n",
    "\n",
    "print(concat.shape, concat.columns, feat_cluster.shape, feat_cluster.columns, feat_transport.shape, feat_transport.columns)"
   ]
  },
  {
   "cell_type": "code",
   "execution_count": null,
   "metadata": {},
   "outputs": [],
   "source": [
    "from src.preprocessing import DataPrep\n",
    "\n",
    "df_raw = pd.read_csv(os.path.join(prep_path, 'df_raw.csv'), index_col=0)\n",
    "\n",
    "profile_df = DataPrep.get_data_profile(df_raw, 'raw')"
   ]
  },
  {
   "cell_type": "code",
   "execution_count": 1,
   "metadata": {},
   "outputs": [
    {
     "ename": "NameError",
     "evalue": "name 'concat' is not defined",
     "output_type": "error",
     "traceback": [
      "\u001b[0;31m---------------------------------------------------------------------------\u001b[0m",
      "\u001b[0;31mNameError\u001b[0m                                 Traceback (most recent call last)",
      "Cell \u001b[0;32mIn[1], line 1\u001b[0m\n\u001b[0;32m----> 1\u001b[0m \u001b[43mconcat\u001b[49m\u001b[38;5;241m.\u001b[39mhead()\n",
      "\u001b[0;31mNameError\u001b[0m: name 'concat' is not defined"
     ]
    }
   ],
   "source": [
    "concat.head()"
   ]
  },
  {
   "cell_type": "code",
   "execution_count": null,
   "metadata": {},
   "outputs": [],
   "source": [
    "dict_feat = {'feat_baseline': '',\n",
    "            'feat_cluster': '', \n",
    "            'feat_transport': '', \n",
    "            'feat_gangnam_apt_dist': ''}\n",
    "\n",
    "def load_feat(dict_feat, prep_path):\n",
    "    for key, _ in dict_feat.items():\n",
    "        df=pd.read_csv(os.path.join(prep_path,f'{key}.csv'))\n",
    "        df = df.loc[:, ~df.columns.str.contains('^Unnamed')]\n",
    "        print(f'{len(df.columns)}', df.shape, df.columns)\n",
    "        dict_feat[key] = df\n",
    "    return dict_feat\n",
    "\n"
   ]
  },
  {
   "cell_type": "code",
   "execution_count": null,
   "metadata": {},
   "outputs": [
    {
     "name": "stdout",
     "output_type": "stream",
     "text": [
      "6 (1128094, 6) Index(['구', '동', '계약년', '계약월', '강남여부', '신축여부'], dtype='object')\n",
      "4 (1128094, 4) Index(['cluster_dist_transport', 'cluster_dist_transport_count',\n",
      "       'cluster_select', 'cluster_select_count'],\n",
      "      dtype='object')\n",
      "10 (1128094, 10) Index(['subway_station_area_count', 'subway_direct_influence_count',\n",
      "       'subway_indirect_influence_count', 'subway_shortest_distance',\n",
      "       'subway_zone_type', 'bus_station_area_count',\n",
      "       'bus_direct_influence_count', 'bus_indirect_influence_count',\n",
      "       'bus_shortest_distance', 'bus_zone_type'],\n",
      "      dtype='object')\n",
      "1 (1128094, 1) Index(['대장아파트_거리'], dtype='object')\n"
     ]
    }
   ],
   "source": [
    "dict_feat = load_feat(dict_feat, prep_path)\n",
    "\n"
   ]
  },
  {
   "cell_type": "code",
   "execution_count": null,
   "metadata": {},
   "outputs": [],
   "source": []
  },
  {
   "cell_type": "code",
   "execution_count": 24,
   "metadata": {},
   "outputs": [],
   "source": [
    "renamed_dfs = {key: df.add_prefix(f\"\") for key, df in dict_feat.items()}\n",
    "df_feat = pd.concat(renamed_dfs.values(),axis=1)"
   ]
  },
  {
   "cell_type": "code",
   "execution_count": 25,
   "metadata": {},
   "outputs": [],
   "source": [
    "df_feat.head()\n",
    "df_feat.to_csv(os.path.join(prep_path, 'feat_concat_raw.csv'))"
   ]
  },
  {
   "cell_type": "code",
   "execution_count": 26,
   "metadata": {},
   "outputs": [
    {
     "data": {
      "text/plain": [
       "Index(['구', '동', '계약년', '계약월', '강남여부', '신축여부', 'cluster_dist_transport',\n",
       "       'cluster_dist_transport_count', 'cluster_select',\n",
       "       'cluster_select_count', 'subway_station_area_count',\n",
       "       'subway_direct_influence_count', 'subway_indirect_influence_count',\n",
       "       'subway_shortest_distance', 'subway_zone_type',\n",
       "       'bus_station_area_count', 'bus_direct_influence_count',\n",
       "       'bus_indirect_influence_count', 'bus_shortest_distance',\n",
       "       'bus_zone_type', '대장아파트_거리'],\n",
       "      dtype='object')"
      ]
     },
     "execution_count": 26,
     "metadata": {},
     "output_type": "execute_result"
    }
   ],
   "source": [
    "df_feat.columns"
   ]
  },
  {
   "cell_type": "code",
   "execution_count": 22,
   "metadata": {},
   "outputs": [
    {
     "name": "stdout",
     "output_type": "stream",
     "text": [
      "<class 'pandas.core.frame.DataFrame'>\n",
      "RangeIndex: 1128094 entries, 0 to 1128093\n",
      "Data columns (total 21 columns):\n",
      " #   Column                                          Non-Null Count    Dtype  \n",
      "---  ------                                          --------------    -----  \n",
      " 0   feat_baseline_구                                 1128094 non-null  object \n",
      " 1   feat_baseline_동                                 1128094 non-null  object \n",
      " 2   feat_baseline_계약년                               1128094 non-null  int64  \n",
      " 3   feat_baseline_계약월                               1128094 non-null  int64  \n",
      " 4   feat_baseline_강남여부                              1128094 non-null  int64  \n",
      " 5   feat_baseline_신축여부                              1128094 non-null  int64  \n",
      " 6   feat_cluster_cluster_dist_transport             1128094 non-null  int64  \n",
      " 7   feat_cluster_cluster_dist_transport_count       1128094 non-null  int64  \n",
      " 8   feat_cluster_cluster_select                     1128094 non-null  int64  \n",
      " 9   feat_cluster_cluster_select_count               1128094 non-null  int64  \n",
      " 10  feat_transport_subway_station_area_count        1128094 non-null  int64  \n",
      " 11  feat_transport_subway_direct_influence_count    1128094 non-null  int64  \n",
      " 12  feat_transport_subway_indirect_influence_count  1128094 non-null  int64  \n",
      " 13  feat_transport_subway_shortest_distance         1128094 non-null  float64\n",
      " 14  feat_transport_subway_zone_type                 1128094 non-null  int64  \n",
      " 15  feat_transport_bus_station_area_count           1128094 non-null  int64  \n",
      " 16  feat_transport_bus_direct_influence_count       1128094 non-null  int64  \n",
      " 17  feat_transport_bus_indirect_influence_count     1128094 non-null  int64  \n",
      " 18  feat_transport_bus_shortest_distance            1128094 non-null  float64\n",
      " 19  feat_transport_bus_zone_type                    1128094 non-null  int64  \n",
      " 20  feat_gangnam_apt_dist_대장아파트_거리                  1128094 non-null  float64\n",
      "dtypes: float64(3), int64(16), object(2)\n",
      "memory usage: 180.7+ MB\n"
     ]
    }
   ],
   "source": [
    "df_feat.info()\n"
   ]
  },
  {
   "cell_type": "code",
   "execution_count": null,
   "metadata": {},
   "outputs": [],
   "source": []
  }
 ],
 "metadata": {
  "kernelspec": {
   "display_name": "Python 3",
   "language": "python",
   "name": "python3"
  },
  "language_info": {
   "codemirror_mode": {
    "name": "ipython",
    "version": 3
   },
   "file_extension": ".py",
   "mimetype": "text/x-python",
   "name": "python",
   "nbconvert_exporter": "python",
   "pygments_lexer": "ipython3",
   "version": "3.9.20"
  }
 },
 "nbformat": 4,
 "nbformat_minor": 2
}
