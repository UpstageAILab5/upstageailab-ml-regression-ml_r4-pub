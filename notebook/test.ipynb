{
 "cells": [
  {
   "cell_type": "markdown",
   "metadata": {},
   "source": [
    "# Setup"
   ]
  },
  {
   "cell_type": "code",
   "execution_count": null,
   "metadata": {},
   "outputs": [
    {
     "name": "stdout",
     "output_type": "stream",
     "text": [
      "2024-11-14 01:35:43,684 - root - INFO - Initialized Logger.\n",
      "2024-11-14 01:35:43,685 - root - INFO - Linux platform. Font: ['NanumGothic']\n",
      "2024-11-14 01:35:43,686 - root - INFO - #### Current workspalce: /data/ephemeral/home/dev/upstageailab5-ml-regression-ml_r4\n",
      "2024-11-14 01:35:43,686 - root - INFO - Linux platform. Path: /data/ephemeral/home/dev/upstageailab5-ml-regression-ml_r4\n",
      "{'base_path': '/data/ephemeral/home/dev/upstageailab5-ml-regression-ml_r4',\n",
      " 'config': PosixPath('/data/ephemeral/home/dev/upstageailab5-ml-regression-ml_r4/config'),\n",
      " 'data': PosixPath('/data/ephemeral/home/dev/upstageailab5-ml-regression-ml_r4/data'),\n",
      " 'data_paths': {'bus_feature': '/data/ephemeral/home/dev/upstageailab5-ml-regression-ml_r4/data/bus_feature.csv',\n",
      "                'subway_feature': '/data/ephemeral/home/dev/upstageailab5-ml-regression-ml_r4/data/subway_feature.csv'},\n",
      " 'logger': <src.logger.Logger object at 0x7f82fd8fda00>,\n",
      " 'logs': PosixPath('/data/ephemeral/home/dev/upstageailab5-ml-regression-ml_r4/logs'),\n",
      " 'models_path': PosixPath('/data/ephemeral/home/dev/upstageailab5-ml-regression-ml_r4/output/models'),\n",
      " 'out_path': '/data/ephemeral/home/dev/upstageailab5-ml-regression-ml_r4/output',\n",
      " 'output': PosixPath('/data/ephemeral/home/dev/upstageailab5-ml-regression-ml_r4/output'),\n",
      " 'prep_paths': {'auto': '/data/ephemeral/home/dev/upstageailab5-ml-regression-ml_r4/data/preprocessed/df_auto_prep.csv',\n",
      "                'baseline': '/data/ephemeral/home/dev/upstageailab5-ml-regression-ml_r4/data/preprocessed/df_feature.csv',\n",
      "                'encoded': '/data/ephemeral/home/dev/upstageailab5-ml-regression-ml_r4/data/preprocessed/df_encoded.csv',\n",
      "                'scaled': '/data/ephemeral/home/dev/upstageailab5-ml-regression-ml_r4/data/preprocessed/df_scaled.csv'},\n",
      " 'processed_path': PosixPath('/data/ephemeral/home/dev/upstageailab5-ml-regression-ml_r4/data/preprocessed'),\n",
      " 'report_path': PosixPath('/data/ephemeral/home/dev/upstageailab5-ml-regression-ml_r4/output/report')}\n"
     ]
    }
   ],
   "source": [
    "\n",
    "from pathlib import Path\n",
    "import os\n",
    "import pprint\n",
    "import pandas as pd\n",
    "import pygwalker as pyg\n",
    "import dabl\n",
    "\n",
    "import sys\n",
    "from pathlib import Path\n",
    "#### For Path setup\n",
    "def setup_project_path():\n",
    "    \"\"\"프로젝트 루트 경로를 찾아서 파이썬 경로에 추가\"\"\"\n",
    "    current = Path.cwd()\n",
    "    while current != current.parent:\n",
    "        if (current / '.git').exists():\n",
    "            if str(current) not in sys.path:\n",
    "                sys.path.append(str(current))\n",
    "                print(f'Project root found: {current}')\n",
    "            return current\n",
    "        current = current.parent\n",
    "    return None\n",
    "\n",
    "# 프로젝트 경로 설정\n",
    "project_root = setup_project_path()\n",
    "if project_root is None:\n",
    "    # 프로젝트 루트를 찾지 못했다면 직접 지정\n",
    "    project_root = Path(\"D:/dev/upstageailab5-ml-regression-ml_r4\")\n",
    "    if str(project_root) not in sys.path:\n",
    "        sys.path.append(str(project_root))\n",
    "\n",
    "#jupyter nbextension enable --py widgetsnbextension\n",
    "\n",
    "import seaborn as sns\n",
    "import matplotlib.pyplot as plt\n",
    "plt.rc('font', family='Malgun Gothic')\n",
    "plt.rcParams['axes.unicode_minus'] = False\n",
    "from src.logger import Logger\n",
    "from src.preprocessing import DataPrep\n",
    "from src.eda import EDA\n",
    "from src.feature import FeatureEngineer, Clustering, XAI\n",
    "from src.train import Model\n",
    "from src.visualization import Visualizer\n",
    "from src.utils import Utils, PathManager\n",
    "## memory management\n",
    "import gc\n",
    "gc.collect()\n",
    "########################################################################################################################################\n",
    "logger_instance = Logger()\n",
    "logger = logger_instance.logger\n",
    "utils = Utils(logger)\n",
    "utils.setup_font_and_path_platform()\n",
    "current_platform = utils.current_platform\n",
    "#os.environ['PYTHONPATH'] = r'D:\\dev\\upstageailab5-ml-regression-ml_r4'\n",
    "current_path = os.path.abspath(os.path.join(os.getcwd(), '..'))\n",
    "logger.info(f'#### Current workspalce: {current_path}')\n",
    "if current_platform == 'Windows':\n",
    "    base_path = Path(r'D:\\dev\\upstageailab5-ml-regression-ml_r4')\n",
    "    logger.info(f'{current_platform} platform. Path: {base_path}')\n",
    "elif current_platform == 'Darwin':          # Mac\n",
    "    base_path = Path('/data/ephemeral/home/dev/upstageailab5-ml-regression-ml_r4')\n",
    "    logger.info(f'{current_platform} platform. Path: {base_path}')\n",
    "else:\n",
    "    base_path = Path('/data/ephemeral/home/dev/upstageailab5-ml-regression-ml_r4')    # Linux\n",
    "    logger.info(f'{current_platform} platform. Path: {base_path}')\n",
    "########################################################################################################################################\n",
    "\n",
    "\n",
    "########################################################################################################################################\n",
    "### Data Prep\n",
    "\n",
    "\n",
    "pm = PathManager(base_path)\n",
    "pm.config\n",
    "\n",
    "# PathManager에서 경로 가져오기\n",
    "data_path = pm.get_path('data', as_str=True)\n",
    "prep_path = pm.get_path('processed_path', as_str=True)\n",
    "output_path = pm.get_path('output', as_str=True)\n",
    "\n",
    "# 설정 딕셔너리 생성\n",
    "config = {   \n",
    "    'out_path': output_path,\n",
    "    'base_path': str(pm.base_path),\n",
    "    'data_paths': {\n",
    "        'subway_feature': str(Path(data_path) / 'subway_feature.csv'),\n",
    "        'bus_feature': str(Path(data_path) / 'bus_feature.csv'),\n",
    "    },\n",
    "    'prep_paths': {\n",
    "        'baseline': str(Path(prep_path) / 'df_feature.csv'),\n",
    "        'auto': str(Path(prep_path) / 'df_auto_prep.csv'),\n",
    "        'scaled': str(Path(prep_path) / 'df_scaled.csv'),\n",
    "        'encoded': str(Path(prep_path) / 'df_encoded.csv')\n",
    "    },\n",
    "    'logger': logger_instance\n",
    "}\n",
    "\n",
    "# 필요한 경우 개별 경로 접근\n",
    "path_baseline = config['prep_paths']['baseline']\n",
    "path_auto = config['prep_paths']['auto']\n",
    "path_scaled = config['prep_paths']['scaled']\n",
    "path_encoded = config['prep_paths']['encoded']\n",
    "\n",
    "config.update(pm.paths)\n",
    "pprint.pprint(config)\n",
    "\n",
    "# from src.utils import Utils\n",
    "# concat =Utils.clean_df(concat)\n",
    "# feat_cluster =Utils.clean_df(feat_cluster)\n",
    "# feat_transport =Utils.clean_df(feat_transport)\n",
    "\n",
    "\n"
   ]
  },
  {
   "cell_type": "code",
   "execution_count": 7,
   "metadata": {},
   "outputs": [],
   "source": [
    "\n",
    "#concat = pd.read_csv(os.path.join(prep_path, 'df_baseline.csv'), index_col=0)\n",
    "# feat_cluster = pd.read_csv(os.path.join(prep_path, 'feat_cluster.csv'), index_col=0)\n",
    "# feat_transport = pd.read_csv(os.path.join(prep_path, 'feat_transport.csv'), index_col=0)\n",
    "baseline =pd.read_csv(path_baseline)\n",
    "auto = pd.read_csv(path_auto)\n",
    "\n"
   ]
  },
  {
   "cell_type": "code",
   "execution_count": 18,
   "metadata": {},
   "outputs": [],
   "source": [
    "df=pd.read_csv(os.path.join(prep_path, 'df_null-preped_freq-encoded.csv'))"
   ]
  },
  {
   "cell_type": "code",
   "execution_count": 19,
   "metadata": {},
   "outputs": [
    {
     "data": {
      "text/plain": [
       "Index(['Unnamed: 0', '시군구', '번지', '본번', '부번', '아파트명', '도로명',\n",
       "       'k-단지분류(아파트,주상복합등등)', 'k-세대타입(분양형태)', 'k-관리방식', 'k-복도유형', 'k-난방방식',\n",
       "       'k-건설사(시공사)', 'k-시행사', 'k-사용검사일-사용승인일', 'k-홈페이지', 'k-수정일자', '경비비관리형태',\n",
       "       '세대전기계약방법', '청소비관리형태', '기타/의무/임대/임의=1/2/3/4', '단지승인일', '사용허가여부',\n",
       "       '관리비 업로드', '단지신청일', '전용면적', '계약년월', '계약일', '층', '건축년도', 'k-전체동수',\n",
       "       'k-전체세대수', 'k-연면적', 'k-주거전용면적', 'k-관리비부과면적', 'k-전용면적별세대현황(60㎡이하)',\n",
       "       'k-전용면적별세대현황(60㎡~85㎡이하)', 'k-85㎡~135㎡이하', '건축면적', '주차대수', '좌표X', '좌표Y',\n",
       "       'target', 'is_test'],\n",
       "      dtype='object')"
      ]
     },
     "execution_count": 19,
     "metadata": {},
     "output_type": "execute_result"
    }
   ],
   "source": [
    "df.columns"
   ]
  },
  {
   "cell_type": "code",
   "execution_count": 17,
   "metadata": {},
   "outputs": [
    {
     "data": {
      "text/plain": [
       "Index(['번지', '본번', '부번', '아파트명', '전용면적', '계약일', '층', '건축년도', '도로명',\n",
       "       'k-단지분류(아파트,주상복합등등)', 'k-세대타입(분양형태)', 'k-관리방식', 'k-복도유형', 'k-난방방식',\n",
       "       'k-전체동수', 'k-전체세대수', 'k-건설사(시공사)', 'k-시행사', 'k-사용검사일-사용승인일', 'k-연면적',\n",
       "       'k-주거전용면적', 'k-관리비부과면적', 'k-전용면적별세대현황(60㎡이하)', 'k-전용면적별세대현황(60㎡~85㎡이하)',\n",
       "       'k-85㎡~135㎡이하', 'k-수정일자', '경비비관리형태', '세대전기계약방법', '청소비관리형태', '건축면적',\n",
       "       '주차대수', '기타/의무/임대/임의=1/2/3/4', '단지승인일', '사용허가여부', '관리비 업로드', '좌표X',\n",
       "       '좌표Y', '단지신청일', 'target', '구', '동', '계약년', '계약월', '강남여부', '신축여부',\n",
       "       'is_test'],\n",
       "      dtype='object')"
      ]
     },
     "execution_count": 17,
     "metadata": {},
     "output_type": "execute_result"
    }
   ],
   "source": [
    "baseline.columns"
   ]
  },
  {
   "cell_type": "code",
   "execution_count": 16,
   "metadata": {},
   "outputs": [
    {
     "data": {
      "text/plain": [
       "Index(['k-건설사(시공사)', 'k-관리방식', 'k-난방방식', 'k-단지분류(아파트,주상복합등등)', 'k-복도유형',\n",
       "       'k-사용검사일-사용승인일', 'k-세대타입(분양형태)', 'k-수정일자', 'k-시행사', '경비비관리형태',\n",
       "       '관리비 업로드', '기타/의무/임대/임의=1/2/3/4', '단지승인일', '단지신청일', '도로명', '번지',\n",
       "       '사용허가여부', '세대전기계약방법', '아파트명', '청소비관리형태', '강남여부', '신축여부', '구', '동',\n",
       "       'cluster_dist_transport', 'cluster_dist_transport_count',\n",
       "       'cluster_select', 'cluster_select_count', 'bus_direct_influence_count',\n",
       "       'subway_zone_type', 'subway_station_area_count', 'bus_zone_type',\n",
       "       'bus_indirect_influence_count', 'bus_station_area_count',\n",
       "       'subway_indirect_influence_count', 'subway_direct_influence_count',\n",
       "       'k-85㎡~135㎡이하', 'k-관리비부과면적', 'k-연면적', 'k-전용면적별세대현황(60㎡~85㎡이하)',\n",
       "       'k-전용면적별세대현황(60㎡이하)', 'k-전체동수', 'k-전체세대수', 'k-주거전용면적', '건축년도', '건축면적',\n",
       "       '계약일', '본번', '부번', '전용면적', '좌표X', '좌표Y', '주차대수', '층', '계약년', '계약월',\n",
       "       'subway_shortest_distance', 'bus_shortest_distance', 'is_test',\n",
       "       'target'],\n",
       "      dtype='object')"
      ]
     },
     "execution_count": 16,
     "metadata": {},
     "output_type": "execute_result"
    }
   ],
   "source": [
    "encoded.columns"
   ]
  },
  {
   "cell_type": "code",
   "execution_count": 14,
   "metadata": {},
   "outputs": [],
   "source": [
    "scaled = pd.read_csv(path_scaled)\n"
   ]
  },
  {
   "cell_type": "code",
   "execution_count": 15,
   "metadata": {},
   "outputs": [
    {
     "data": {
      "text/html": [
       "<div>\n",
       "<style scoped>\n",
       "    .dataframe tbody tr th:only-of-type {\n",
       "        vertical-align: middle;\n",
       "    }\n",
       "\n",
       "    .dataframe tbody tr th {\n",
       "        vertical-align: top;\n",
       "    }\n",
       "\n",
       "    .dataframe thead th {\n",
       "        text-align: right;\n",
       "    }\n",
       "</style>\n",
       "<table border=\"1\" class=\"dataframe\">\n",
       "  <thead>\n",
       "    <tr style=\"text-align: right;\">\n",
       "      <th></th>\n",
       "      <th>k-85㎡~135㎡이하</th>\n",
       "      <th>k-관리비부과면적</th>\n",
       "      <th>k-연면적</th>\n",
       "      <th>k-전용면적별세대현황(60㎡~85㎡이하)</th>\n",
       "      <th>k-전용면적별세대현황(60㎡이하)</th>\n",
       "      <th>k-전체동수</th>\n",
       "      <th>k-전체세대수</th>\n",
       "      <th>k-주거전용면적</th>\n",
       "      <th>건축년도</th>\n",
       "      <th>건축면적</th>\n",
       "      <th>...</th>\n",
       "      <th>bus_direct_influence_count</th>\n",
       "      <th>subway_zone_type</th>\n",
       "      <th>subway_station_area_count</th>\n",
       "      <th>bus_zone_type</th>\n",
       "      <th>bus_indirect_influence_count</th>\n",
       "      <th>bus_station_area_count</th>\n",
       "      <th>subway_indirect_influence_count</th>\n",
       "      <th>subway_direct_influence_count</th>\n",
       "      <th>target</th>\n",
       "      <th>is_test</th>\n",
       "    </tr>\n",
       "  </thead>\n",
       "  <tbody>\n",
       "    <tr>\n",
       "      <th>0</th>\n",
       "      <td>-1.421189</td>\n",
       "      <td>-1.408835</td>\n",
       "      <td>-1.627235</td>\n",
       "      <td>0.011021</td>\n",
       "      <td>-1.361858</td>\n",
       "      <td>-0.036579</td>\n",
       "      <td>-1.266376</td>\n",
       "      <td>-1.337363</td>\n",
       "      <td>-1.0</td>\n",
       "      <td>-0.054029</td>\n",
       "      <td>...</td>\n",
       "      <td>16</td>\n",
       "      <td>3</td>\n",
       "      <td>0</td>\n",
       "      <td>1</td>\n",
       "      <td>150</td>\n",
       "      <td>5</td>\n",
       "      <td>7</td>\n",
       "      <td>0</td>\n",
       "      <td>124000.0</td>\n",
       "      <td>0</td>\n",
       "    </tr>\n",
       "    <tr>\n",
       "      <th>1</th>\n",
       "      <td>-1.421189</td>\n",
       "      <td>-1.408835</td>\n",
       "      <td>-1.627235</td>\n",
       "      <td>0.011021</td>\n",
       "      <td>-1.361858</td>\n",
       "      <td>-0.036579</td>\n",
       "      <td>-1.266376</td>\n",
       "      <td>-1.337363</td>\n",
       "      <td>-1.0</td>\n",
       "      <td>-0.054029</td>\n",
       "      <td>...</td>\n",
       "      <td>16</td>\n",
       "      <td>3</td>\n",
       "      <td>0</td>\n",
       "      <td>1</td>\n",
       "      <td>150</td>\n",
       "      <td>5</td>\n",
       "      <td>7</td>\n",
       "      <td>0</td>\n",
       "      <td>123500.0</td>\n",
       "      <td>0</td>\n",
       "    </tr>\n",
       "    <tr>\n",
       "      <th>2</th>\n",
       "      <td>-1.421189</td>\n",
       "      <td>-1.408835</td>\n",
       "      <td>-1.627235</td>\n",
       "      <td>0.011021</td>\n",
       "      <td>-1.361858</td>\n",
       "      <td>-0.036579</td>\n",
       "      <td>-1.266376</td>\n",
       "      <td>-1.337363</td>\n",
       "      <td>-1.0</td>\n",
       "      <td>-0.054029</td>\n",
       "      <td>...</td>\n",
       "      <td>16</td>\n",
       "      <td>3</td>\n",
       "      <td>0</td>\n",
       "      <td>1</td>\n",
       "      <td>150</td>\n",
       "      <td>5</td>\n",
       "      <td>7</td>\n",
       "      <td>0</td>\n",
       "      <td>91500.0</td>\n",
       "      <td>0</td>\n",
       "    </tr>\n",
       "    <tr>\n",
       "      <th>3</th>\n",
       "      <td>-1.421189</td>\n",
       "      <td>-1.408835</td>\n",
       "      <td>-1.627235</td>\n",
       "      <td>0.011021</td>\n",
       "      <td>-1.361858</td>\n",
       "      <td>-0.036579</td>\n",
       "      <td>-1.266376</td>\n",
       "      <td>-1.337363</td>\n",
       "      <td>-1.0</td>\n",
       "      <td>-0.054029</td>\n",
       "      <td>...</td>\n",
       "      <td>16</td>\n",
       "      <td>3</td>\n",
       "      <td>0</td>\n",
       "      <td>1</td>\n",
       "      <td>150</td>\n",
       "      <td>5</td>\n",
       "      <td>7</td>\n",
       "      <td>0</td>\n",
       "      <td>130000.0</td>\n",
       "      <td>0</td>\n",
       "    </tr>\n",
       "    <tr>\n",
       "      <th>4</th>\n",
       "      <td>-1.421189</td>\n",
       "      <td>-1.408835</td>\n",
       "      <td>-1.627235</td>\n",
       "      <td>0.011021</td>\n",
       "      <td>-1.361858</td>\n",
       "      <td>-0.036579</td>\n",
       "      <td>-1.266376</td>\n",
       "      <td>-1.337363</td>\n",
       "      <td>-1.0</td>\n",
       "      <td>-0.054029</td>\n",
       "      <td>...</td>\n",
       "      <td>16</td>\n",
       "      <td>3</td>\n",
       "      <td>0</td>\n",
       "      <td>1</td>\n",
       "      <td>150</td>\n",
       "      <td>5</td>\n",
       "      <td>7</td>\n",
       "      <td>0</td>\n",
       "      <td>117000.0</td>\n",
       "      <td>0</td>\n",
       "    </tr>\n",
       "  </tbody>\n",
       "</table>\n",
       "<p>5 rows × 60 columns</p>\n",
       "</div>"
      ],
      "text/plain": [
       "   k-85㎡~135㎡이하  k-관리비부과면적     k-연면적  k-전용면적별세대현황(60㎡~85㎡이하)  \\\n",
       "0     -1.421189  -1.408835 -1.627235                0.011021   \n",
       "1     -1.421189  -1.408835 -1.627235                0.011021   \n",
       "2     -1.421189  -1.408835 -1.627235                0.011021   \n",
       "3     -1.421189  -1.408835 -1.627235                0.011021   \n",
       "4     -1.421189  -1.408835 -1.627235                0.011021   \n",
       "\n",
       "   k-전용면적별세대현황(60㎡이하)    k-전체동수   k-전체세대수  k-주거전용면적  건축년도      건축면적  ...  \\\n",
       "0           -1.361858 -0.036579 -1.266376 -1.337363  -1.0 -0.054029  ...   \n",
       "1           -1.361858 -0.036579 -1.266376 -1.337363  -1.0 -0.054029  ...   \n",
       "2           -1.361858 -0.036579 -1.266376 -1.337363  -1.0 -0.054029  ...   \n",
       "3           -1.361858 -0.036579 -1.266376 -1.337363  -1.0 -0.054029  ...   \n",
       "4           -1.361858 -0.036579 -1.266376 -1.337363  -1.0 -0.054029  ...   \n",
       "\n",
       "   bus_direct_influence_count  subway_zone_type  subway_station_area_count  \\\n",
       "0                          16                 3                          0   \n",
       "1                          16                 3                          0   \n",
       "2                          16                 3                          0   \n",
       "3                          16                 3                          0   \n",
       "4                          16                 3                          0   \n",
       "\n",
       "   bus_zone_type  bus_indirect_influence_count  bus_station_area_count  \\\n",
       "0              1                           150                       5   \n",
       "1              1                           150                       5   \n",
       "2              1                           150                       5   \n",
       "3              1                           150                       5   \n",
       "4              1                           150                       5   \n",
       "\n",
       "   subway_indirect_influence_count  subway_direct_influence_count    target  \\\n",
       "0                                7                              0  124000.0   \n",
       "1                                7                              0  123500.0   \n",
       "2                                7                              0   91500.0   \n",
       "3                                7                              0  130000.0   \n",
       "4                                7                              0  117000.0   \n",
       "\n",
       "   is_test  \n",
       "0        0  \n",
       "1        0  \n",
       "2        0  \n",
       "3        0  \n",
       "4        0  \n",
       "\n",
       "[5 rows x 60 columns]"
      ]
     },
     "execution_count": 15,
     "metadata": {},
     "output_type": "execute_result"
    }
   ],
   "source": [
    "scaled.head()"
   ]
  },
  {
   "cell_type": "code",
   "execution_count": null,
   "metadata": {},
   "outputs": [],
   "source": [
    "from src.preprocessing import DataPrep\n",
    "\n",
    "df_raw = pd.read_csv(os.path.join(prep_path, 'df_raw.csv'), index_col=0)\n",
    "\n",
    "profile_df = DataPrep.get_data_profile(df_raw, 'raw')"
   ]
  },
  {
   "cell_type": "code",
   "execution_count": 1,
   "metadata": {},
   "outputs": [
    {
     "ename": "NameError",
     "evalue": "name 'concat' is not defined",
     "output_type": "error",
     "traceback": [
      "\u001b[0;31m---------------------------------------------------------------------------\u001b[0m",
      "\u001b[0;31mNameError\u001b[0m                                 Traceback (most recent call last)",
      "Cell \u001b[0;32mIn[1], line 1\u001b[0m\n\u001b[0;32m----> 1\u001b[0m \u001b[43mconcat\u001b[49m\u001b[38;5;241m.\u001b[39mhead()\n",
      "\u001b[0;31mNameError\u001b[0m: name 'concat' is not defined"
     ]
    }
   ],
   "source": [
    "concat.head()"
   ]
  },
  {
   "cell_type": "code",
   "execution_count": null,
   "metadata": {},
   "outputs": [],
   "source": [
    "dict_feat = {'feat_baseline': '',\n",
    "            'feat_cluster': '', \n",
    "            'feat_transport': '', \n",
    "            'feat_gangnam_apt_dist': ''}\n",
    "\n",
    "def load_feat(dict_feat, prep_path):\n",
    "    for key, _ in dict_feat.items():\n",
    "        df=pd.read_csv(os.path.join(prep_path,f'{key}.csv'))\n",
    "        df = df.loc[:, ~df.columns.str.contains('^Unnamed')]\n",
    "        print(f'{len(df.columns)}', df.shape, df.columns)\n",
    "        dict_feat[key] = df\n",
    "    return dict_feat\n",
    "\n"
   ]
  },
  {
   "cell_type": "code",
   "execution_count": null,
   "metadata": {},
   "outputs": [
    {
     "name": "stdout",
     "output_type": "stream",
     "text": [
      "6 (1128094, 6) Index(['구', '동', '계약년', '계약월', '강남여부', '신축여부'], dtype='object')\n",
      "4 (1128094, 4) Index(['cluster_dist_transport', 'cluster_dist_transport_count',\n",
      "       'cluster_select', 'cluster_select_count'],\n",
      "      dtype='object')\n",
      "10 (1128094, 10) Index(['subway_station_area_count', 'subway_direct_influence_count',\n",
      "       'subway_indirect_influence_count', 'subway_shortest_distance',\n",
      "       'subway_zone_type', 'bus_station_area_count',\n",
      "       'bus_direct_influence_count', 'bus_indirect_influence_count',\n",
      "       'bus_shortest_distance', 'bus_zone_type'],\n",
      "      dtype='object')\n",
      "1 (1128094, 1) Index(['대장아파트_거리'], dtype='object')\n"
     ]
    }
   ],
   "source": [
    "dict_feat = load_feat(dict_feat, prep_path)\n",
    "\n"
   ]
  },
  {
   "cell_type": "code",
   "execution_count": null,
   "metadata": {},
   "outputs": [],
   "source": []
  },
  {
   "cell_type": "code",
   "execution_count": 24,
   "metadata": {},
   "outputs": [],
   "source": [
    "renamed_dfs = {key: df.add_prefix(f\"\") for key, df in dict_feat.items()}\n",
    "df_feat = pd.concat(renamed_dfs.values(),axis=1)"
   ]
  },
  {
   "cell_type": "code",
   "execution_count": 25,
   "metadata": {},
   "outputs": [],
   "source": [
    "df_feat.head()\n",
    "df_feat.to_csv(os.path.join(prep_path, 'feat_concat_raw.csv'))"
   ]
  },
  {
   "cell_type": "code",
   "execution_count": null,
   "metadata": {},
   "outputs": [],
   "source": []
  }
 ],
 "metadata": {
  "kernelspec": {
   "display_name": "Python 3",
   "language": "python",
   "name": "python3"
  },
  "language_info": {
   "codemirror_mode": {
    "name": "ipython",
    "version": 3
   },
   "file_extension": ".py",
   "mimetype": "text/x-python",
   "name": "python",
   "nbconvert_exporter": "python",
   "pygments_lexer": "ipython3",
   "version": "3.9.20"
  }
 },
 "nbformat": 4,
 "nbformat_minor": 2
}
