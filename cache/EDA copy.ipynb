{
 "cells": [
  {
   "cell_type": "markdown",
   "metadata": {},
   "source": []
  },
  {
   "cell_type": "markdown",
   "metadata": {},
   "source": [
    "# Setup"
   ]
  },
  {
   "cell_type": "code",
   "execution_count": 1,
   "metadata": {},
   "outputs": [
    {
     "name": "stdout",
     "output_type": "stream",
     "text": [
      "Project root found: d:\\dev\\upstageailab5-ml-regression-ml_r4\n"
     ]
    }
   ],
   "source": [
    "\n",
    "from pathlib import Path\n",
    "import os\n",
    "import pprint\n",
    "import pandas as pd\n",
    "import pygwalker as pyg\n",
    "import dabl\n",
    "\n",
    "import sys\n",
    "from pathlib import Path\n",
    "#### For Path setup\n",
    "def setup_project_path():\n",
    "    \"\"\"프로젝트 루트 경로를 찾아서 파이썬 경로에 추가\"\"\"\n",
    "    current = Path.cwd()\n",
    "    while current != current.parent:\n",
    "        if (current / '.git').exists():\n",
    "            if str(current) not in sys.path:\n",
    "                sys.path.append(str(current))\n",
    "                print(f'Project root found: {current}')\n",
    "            return current\n",
    "        current = current.parent\n",
    "    return None\n",
    "\n",
    "# 프로젝트 경로 설정\n",
    "project_root = setup_project_path()\n",
    "if project_root is None:\n",
    "    # 프로젝트 루트를 찾지 못했다면 직접 지정\n",
    "    project_root = Path(\"D:/dev/upstageailab5-ml-regression-ml_r4\")\n",
    "    if str(project_root) not in sys.path:\n",
    "        sys.path.append(str(project_root))\n",
    "\n",
    "#jupyter nbextension enable --py widgetsnbextension"
   ]
  },
  {
   "cell_type": "code",
   "execution_count": 2,
   "metadata": {},
   "outputs": [],
   "source": [
    "import seaborn as sns\n",
    "import matplotlib.pyplot as plt\n",
    "plt.rc('font', family='Malgun Gothic')\n",
    "plt.rcParams['axes.unicode_minus'] = False\n"
   ]
  },
  {
   "cell_type": "code",
   "execution_count": 3,
   "metadata": {},
   "outputs": [
    {
     "name": "stdout",
     "output_type": "stream",
     "text": [
      "2024-11-10 03:45:18,700 - root - INFO - Initialized Logger.\n",
      "2024-11-10 03:45:18,701 - root - INFO - Windows platform. Font: ['Malgun Gothic']\n",
      "2024-11-10 03:45:18,702 - root - INFO - #### Current workspalce: d:\\dev\\upstageailab5-ml-regression-ml_r4\n",
      "2024-11-10 03:45:18,703 - root - INFO - Windows platform. Path: D:\\dev\\upstageailab5-ml-regression-ml_r4\n"
     ]
    },
    {
     "data": {
      "text/plain": [
       "{'thr_ratio_outlier': 0.01,\n",
       " 'thr_ratio_null': 0.9,\n",
       " 'time_delay': 3,\n",
       " 'random_seed': 2024,\n",
       " 'target': 'target',\n",
       " 'model_params': {'n_estimators': 3000, 'max_depth': 5, 'learning_rate': 0.01},\n",
       " 'data_paths': {'train': 'data/train.csv', 'test': 'data/test.csv'},\n",
       " 'features': ['feature1', 'feature2', 'feature3'],\n",
       " 'wandb': {'project': 'project-regression_house_price',\n",
       "  'entity': 'joon',\n",
       "  'group': 'group-ml4'},\n",
       " 'sweep_configs': {'xgboost': {'method': 'bayes',\n",
       "   'metric': {'name': 'rmse', 'goal': 'minimize'},\n",
       "   'parameters': {'eta': 0.3,\n",
       "    'max_depth': 10,\n",
       "    'subsample': 0.6239,\n",
       "    'colsample_bytree': 0.5305,\n",
       "    'gamma': 4.717,\n",
       "    'reg_lambda': 5.081,\n",
       "    'alpha': 0.4902,\n",
       "    'n_estimators': 551}},\n",
       "  'random_forest': {'method': 'bayes',\n",
       "   'metric': {'name': 'rmse', 'goal': 'minimize'},\n",
       "   'parameters': {'n_estimators': 200,\n",
       "    'max_depth': 20,\n",
       "    'min_samples_split': 2,\n",
       "    'min_samples_leaf': 1,\n",
       "    'max_features': 'log2'}}},\n",
       " 'name': {'dataset_name': 'baseline',\n",
       "  'split_type': 'hold_out',\n",
       "  'model_name': 'random_forest'},\n",
       " 'models': {'xgboost': {'n_estimators': {'min': 100,\n",
       "    'max': 1000,\n",
       "    'distribution': 'int_uniform'},\n",
       "   'max_depth': {'min': 3, 'max': 10, 'distribution': 'int_uniform'},\n",
       "   'learning_rate': {'min': 0.01, 'max': 0.3, 'distribution': 'log_uniform'},\n",
       "   'subsample': {'min': 0.6, 'max': 1.0, 'distribution': 'uniform'},\n",
       "   'colsample_bytree': {'min': 0.4, 'max': 1.0, 'distribution': 'uniform'},\n",
       "   'gamma': {'min': 0.0, 'max': 5.0, 'distribution': 'uniform'},\n",
       "   'reg_lambda': {'min': 0.0, 'max': 10.0, 'distribution': 'uniform'},\n",
       "   'alpha': {'min': 0.0, 'max': 10.0, 'distribution': 'uniform'},\n",
       "   'min_child_weight': {'distribution': 'int', 'min': 1, 'max': 7}},\n",
       "  'lightgbm': {'n_estimators': {'min': 100,\n",
       "    'max': 1000,\n",
       "    'distribution': 'int_uniform'},\n",
       "   'max_depth': {'min': 3, 'max': 10, 'distribution': 'int_uniform'},\n",
       "   'learning_rate': {'min': 0.01, 'max': 0.3, 'distribution': 'log_uniform'},\n",
       "   'subsample': {'min': 0.6, 'max': 1.0, 'distribution': 'uniform'},\n",
       "   'colsample_bytree': {'min': 0.4, 'max': 1.0, 'distribution': 'uniform'},\n",
       "   'lambda_l1': {'min': 0.0, 'max': 10.0, 'distribution': 'uniform'},\n",
       "   'lambda_l2': {'min': 0.0, 'max': 10.0, 'distribution': 'uniform'},\n",
       "   'min_data_in_leaf': {'min': 10, 'max': 100, 'distribution': 'int_uniform'},\n",
       "   'feature_fraction': {'min': 0.4, 'max': 1.0, 'distribution': 'uniform'}}},\n",
       " 'logs': 'D:/dev/upstageailab5-ml-regression-ml_r4/logs',\n",
       " 'config': 'D:/dev/upstageailab5-ml-regression-ml_r4/config',\n",
       " 'output': 'D:/dev/upstageailab5-ml-regression-ml_r4/output',\n",
       " 'data': 'D:/dev/upstageailab5-ml-regression-ml_r4/data',\n",
       " 'models_path': 'D:/dev/upstageailab5-ml-regression-ml_r4/output/models',\n",
       " 'report_path': 'D:/dev/upstageailab5-ml-regression-ml_r4/output/report',\n",
       " 'processed_path': 'D:/dev/upstageailab5-ml-regression-ml_r4/data/processed'}"
      ]
     },
     "execution_count": 3,
     "metadata": {},
     "output_type": "execute_result"
    }
   ],
   "source": [
    "from src.logger import Logger\n",
    "from src.preprocessing import DataPrep\n",
    "from src.eda import EDA\n",
    "from src.feature import FeatureEngineer, Clustering, XAI\n",
    "from src.train import Model\n",
    "from src.visualization import Visualizer\n",
    "from src.utils import Utils, PathManager\n",
    "## memory management\n",
    "import gc\n",
    "gc.collect()\n",
    "########################################################################################################################################\n",
    "logger_instance = Logger()\n",
    "logger = logger_instance.logger\n",
    "utils = Utils(logger)\n",
    "utils.setup_font_and_path_platform()\n",
    "current_platform = utils.current_platform\n",
    "#os.environ['PYTHONPATH'] = r'D:\\dev\\upstageailab5-ml-regression-ml_r4'\n",
    "current_path = os.path.abspath(os.path.join(os.getcwd(), '..'))\n",
    "logger.info(f'#### Current workspalce: {current_path}')\n",
    "if current_platform == 'Windows':\n",
    "    base_path = Path(r'D:\\dev\\upstageailab5-ml-regression-ml_r4')\n",
    "    logger.info(f'{current_platform} platform. Path: {base_path}')\n",
    "elif current_platform == 'Darwin':          # Mac\n",
    "    base_path = Path('/data/ephemeral/home/dev/upstageailab5-ml-regression-ml_r4')\n",
    "    logger.info(f'{current_platform} platform. Path: {base_path}')\n",
    "else:\n",
    "    base_path = Path('/data/ephemeral/home/dev/upstageailab5-ml-regression-ml_r4')    # Linux\n",
    "    logger.info(f'{current_platform} platform. Path: {base_path}')\n",
    "########################################################################################################################################\n",
    "\n",
    "\n",
    "########################################################################################################################################\n",
    "### Data Prep\n",
    "\n",
    "\n",
    "pm = PathManager(base_path)\n",
    "pm.config\n",
    "\n",
    "\n"
   ]
  },
  {
   "cell_type": "markdown",
   "metadata": {},
   "source": [
    "## Path Config"
   ]
  },
  {
   "cell_type": "code",
   "execution_count": 4,
   "metadata": {},
   "outputs": [
    {
     "name": "stdout",
     "output_type": "stream",
     "text": [
      "{'base_path': 'D:\\\\dev\\\\upstageailab5-ml-regression-ml_r4',\n",
      " 'config': WindowsPath('D:/dev/upstageailab5-ml-regression-ml_r4/config'),\n",
      " 'data': WindowsPath('D:/dev/upstageailab5-ml-regression-ml_r4/data'),\n",
      " 'data_paths': {'bus_feature': 'D:\\\\dev\\\\upstageailab5-ml-regression-ml_r4\\\\data\\\\bus_feature.csv',\n",
      "                'subway_feature': 'D:\\\\dev\\\\upstageailab5-ml-regression-ml_r4\\\\data\\\\subway_feature.csv'},\n",
      " 'logger': <src.logger.Logger object at 0x0000025A6EBCC4F0>,\n",
      " 'logs': WindowsPath('D:/dev/upstageailab5-ml-regression-ml_r4/logs'),\n",
      " 'models_path': WindowsPath('D:/dev/upstageailab5-ml-regression-ml_r4/output/models'),\n",
      " 'out_path': 'D:\\\\dev\\\\upstageailab5-ml-regression-ml_r4\\\\output',\n",
      " 'output': WindowsPath('D:/dev/upstageailab5-ml-regression-ml_r4/output'),\n",
      " 'prep_paths': {'auto': 'D:\\\\dev\\\\upstageailab5-ml-regression-ml_r4\\\\data\\\\processed\\\\df_auto_prep.csv',\n",
      "                'baseline': 'D:\\\\dev\\\\upstageailab5-ml-regression-ml_r4\\\\data\\\\processed\\\\df_base_prep.csv',\n",
      "                'feat': 'D:\\\\dev\\\\upstageailab5-ml-regression-ml_r4\\\\data\\\\processed\\\\df_feat.csv',\n",
      "                'feat_add': 'D:\\\\dev\\\\upstageailab5-ml-regression-ml_r4\\\\data\\\\processed\\\\df_feat_add.csv'},\n",
      " 'processed_path': WindowsPath('D:/dev/upstageailab5-ml-regression-ml_r4/data/processed'),\n",
      " 'report_path': WindowsPath('D:/dev/upstageailab5-ml-regression-ml_r4/output/report')}\n"
     ]
    }
   ],
   "source": [
    "# PathManager에서 경로 가져오기\n",
    "data_path = pm.get_path('data', as_str=True)\n",
    "prep_path = pm.get_path('processed_path', as_str=True)\n",
    "output_path = pm.get_path('output', as_str=True)\n",
    "\n",
    "# 설정 딕셔너리 생성\n",
    "config = {   \n",
    "    'out_path': output_path,\n",
    "    'base_path': str(pm.base_path),\n",
    "    'data_paths': {\n",
    "        'subway_feature': str(Path(data_path) / 'subway_feature.csv'),\n",
    "        'bus_feature': str(Path(data_path) / 'bus_feature.csv'),\n",
    "    },\n",
    "    'prep_paths': {\n",
    "        'baseline': str(Path(prep_path) / 'df_base_prep.csv'),\n",
    "        'auto': str(Path(prep_path) / 'df_auto_prep.csv'),\n",
    "        'feat': str(Path(prep_path) / 'df_feat.csv'),\n",
    "        'feat_add': str(Path(prep_path) / 'df_feat_add.csv')\n",
    "    },\n",
    "    'logger': logger_instance\n",
    "}\n",
    "\n",
    "# 필요한 경우 개별 경로 접근\n",
    "path_baseline = config['prep_paths']['baseline']\n",
    "path_auto = config['prep_paths']['auto']\n",
    "path_feat = config['prep_paths']['feat']\n",
    "path_feat_add = config['prep_paths']['feat_add']\n",
    "\n",
    "config.update(pm.paths)\n",
    "pprint.pprint(config)"
   ]
  },
  {
   "cell_type": "code",
   "execution_count": 6,
   "metadata": {},
   "outputs": [
    {
     "name": "stdout",
     "output_type": "stream",
     "text": [
      "Index(['본번', '부번', '아파트명', '전용면적', '계약일', '층', '건축년도', '도로명',\n",
      "       'k-단지분류(아파트,주상복합등등)', 'k-전화번호', 'k-팩스번호', 'k-세대타입(분양형태)', 'k-관리방식',\n",
      "       'k-복도유형', 'k-난방방식', 'k-전체동수', 'k-전체세대수', 'k-건설사(시공사)', 'k-시행사',\n",
      "       'k-사용검사일-사용승인일', 'k-연면적', 'k-주거전용면적', 'k-관리비부과면적', 'k-전용면적별세대현황(60㎡이하)',\n",
      "       'k-전용면적별세대현황(60㎡~85㎡이하)', 'k-85㎡~135㎡이하', 'k-홈페이지', 'k-수정일자',\n",
      "       '고용보험관리번호', '경비비관리형태', '세대전기계약방법', '청소비관리형태', '건축면적', '주차대수',\n",
      "       '기타/의무/임대/임의=1/2/3/4', '단지승인일', '사용허가여부', '관리비 업로드', '좌표X', '좌표Y',\n",
      "       '단지신청일', 'target', '구', '동', '계약년', '계약월', '강남여부', '신축여부', 'is_test'],\n",
      "      dtype='object') Index(['cluster_dist_transport_count', 'cluster_select',\n",
      "       'cluster_select_count'],\n",
      "      dtype='object') Index(['subway_direct_influence_count', 'subway_indirect_influence_count',\n",
      "       'subway_shortest_distance', 'subway_zone_type',\n",
      "       'bus_station_area_count', 'bus_direct_influence_count',\n",
      "       'bus_indirect_influence_count', 'bus_shortest_distance',\n",
      "       'bus_zone_type'],\n",
      "      dtype='object')\n"
     ]
    }
   ],
   "source": [
    "concat = pd.read_csv(os.path.join(prep_path, 'df_concat_train_test.csv'), index_col=0)\n",
    "feat_cluster = pd.read_csv(os.path.join(prep_path, 'feat_cluster.csv'), index_col=0)\n",
    "feat_transport = pd.read_csv(os.path.join(prep_path, 'feat_transport.csv'), index_col=0)\n",
    "\n",
    "print(concat.columns, feat_cluster.columns, feat_transport.columns)\n",
    "# from src.utils import Utils\n",
    "# concat =Utils.clean_df(concat)\n",
    "# feat_cluster =Utils.clean_df(feat_cluster)\n",
    "# feat_transport =Utils.clean_df(feat_transport)\n",
    "\n"
   ]
  },
  {
   "cell_type": "code",
   "execution_count": 9,
   "metadata": {},
   "outputs": [
    {
     "name": "stdout",
     "output_type": "stream",
     "text": [
      "(1128094, 49) (1128094, 3) (1128094, 9)\n",
      "Index(['본번', '부번', '아파트명', '전용면적', '계약일', '층', '건축년도', '도로명',\n",
      "       'k-단지분류(아파트,주상복합등등)', 'k-전화번호', 'k-팩스번호', 'k-세대타입(분양형태)', 'k-관리방식',\n",
      "       'k-복도유형', 'k-난방방식', 'k-전체동수', 'k-전체세대수', 'k-건설사(시공사)', 'k-시행사',\n",
      "       'k-사용검사일-사용승인일', 'k-연면적', 'k-주거전용면적', 'k-관리비부과면적', 'k-전용면적별세대현황(60㎡이하)',\n",
      "       'k-전용면적별세대현황(60㎡~85㎡이하)', 'k-85㎡~135㎡이하', 'k-홈페이지', 'k-수정일자',\n",
      "       '고용보험관리번호', '경비비관리형태', '세대전기계약방법', '청소비관리형태', '건축면적', '주차대수',\n",
      "       '기타/의무/임대/임의=1/2/3/4', '단지승인일', '사용허가여부', '관리비 업로드', '좌표X', '좌표Y',\n",
      "       '단지신청일', 'target', '구', '동', '계약년', '계약월', '강남여부', '신축여부', 'is_test'],\n",
      "      dtype='object') Index(['cluster_dist_transport_count', 'cluster_select',\n",
      "       'cluster_select_count'],\n",
      "      dtype='object') Index(['subway_direct_influence_count', 'subway_indirect_influence_count',\n",
      "       'subway_shortest_distance', 'subway_zone_type',\n",
      "       'bus_station_area_count', 'bus_direct_influence_count',\n",
      "       'bus_indirect_influence_count', 'bus_shortest_distance',\n",
      "       'bus_zone_type'],\n",
      "      dtype='object')\n"
     ]
    }
   ],
   "source": [
    "print(concat.shape, feat_cluster.shape, feat_transport.shape)\n",
    "print(concat.columns, feat_cluster.columns, feat_transport.columns)\n"
   ]
  },
  {
   "cell_type": "code",
   "execution_count": 11,
   "metadata": {},
   "outputs": [
    {
     "name": "stdout",
     "output_type": "stream",
     "text": [
      "2024-11-10 03:52:14,644 - root - INFO - Shape before concat - concat: (1128094, 49), feat_transport: (1128094, 9), feat_cluster: (1128094, 3)\n",
      "2024-11-10 03:52:14,818 - root - INFO - Shape after concat: (1128094, 61)\n",
      "2024-11-10 03:52:14,819 - root - INFO - Final columns: ['본번', '부번', '아파트명', '전용면적', '계약일', '층', '건축년도', '도로명', 'k-단지분류(아파트,주상복합등등)', 'k-전화번호', 'k-팩스번호', 'k-세대타입(분양형태)', 'k-관리방식', 'k-복도유형', 'k-난방방식', 'k-전체동수', 'k-전체세대수', 'k-건설사(시공사)', 'k-시행사', 'k-사용검사일-사용승인일', 'k-연면적', 'k-주거전용면적', 'k-관리비부과면적', 'k-전용면적별세대현황(60㎡이하)', 'k-전용면적별세대현황(60㎡~85㎡이하)', 'k-85㎡~135㎡이하', 'k-홈페이지', 'k-수정일자', '고용보험관리번호', '경비비관리형태', '세대전기계약방법', '청소비관리형태', '건축면적', '주차대수', '기타/의무/임대/임의=1/2/3/4', '단지승인일', '사용허가여부', '관리비 업로드', '좌표X', '좌표Y', '단지신청일', 'target', '구', '동', '계약년', '계약월', '강남여부', '신축여부', 'is_test', 'subway_direct_influence_count', 'subway_indirect_influence_count', 'subway_shortest_distance', 'subway_zone_type', 'bus_station_area_count', 'bus_direct_influence_count', 'bus_indirect_influence_count', 'bus_shortest_distance', 'bus_zone_type', 'cluster_dist_transport_count', 'cluster_select', 'cluster_select_count']\n"
     ]
    }
   ],
   "source": [
    "# 각 데이터프레임의 인덱스 리셋 및 중복 확인\n",
    "def concat_data(df1, df2, df3):\n",
    "    df1 = df1.reset_index(drop=True)\n",
    "    df2 = df2.reset_index(drop=True)\n",
    "    df3 = df3.reset_index(drop=True)\n",
    "\n",
    "    # 데이터프레임 크기 확인 로깅\n",
    "    logger.info(f'Shape before concat - concat: {df1.shape}, feat_transport: {df2.shape}, feat_cluster: {df3.shape}')\n",
    "\n",
    "    # 중복 컬럼 확인\n",
    "    duplicate_cols = set(df1.columns) & set(df2.columns) & set(df3.columns)\n",
    "    if duplicate_cols:\n",
    "        logger.warning(f'중복된 컬럼 발견: {duplicate_cols}')\n",
    "    # 중복 컬럼 처리\n",
    "    df2 = df2.drop(columns=list(duplicate_cols & set(df2.columns)))\n",
    "    df3 = df3.drop(columns=list(duplicate_cols & set(df3.columns)))\n",
    "\n",
    "    # 데이터프레임 합치기\n",
    "    concat_all = pd.concat([df1, df2, df3], axis=1)\n",
    "\n",
    "    # 결과 확인\n",
    "    logger.info(f'Shape after concat: {concat_all.shape}')\n",
    "    logger.info(f'Final columns: {concat_all.columns.tolist()}')\n",
    "    return concat_all\n",
    "\n",
    "concat_all = concat_data(concat, feat_transport, feat_cluster)"
   ]
  },
  {
   "cell_type": "code",
   "execution_count": 12,
   "metadata": {},
   "outputs": [],
   "source": [
    "# concat.to_csv(os.path.join(prep_path, 'concat_train_test.csv'), index=False)\n",
    "# feat_cluster.to_csv(os.path.join(prep_path, 'feat_cluster.csv'), index=False)\n",
    "# feat_transport.to_csv(os.path.join(prep_path, 'feat_transport.csv'), index=False)\n",
    "\n",
    "concat_all.to_csv(os.path.join(prep_path, 'df_concat_feat.csv'), index=False)\n"
   ]
  },
  {
   "cell_type": "code",
   "execution_count": 13,
   "metadata": {},
   "outputs": [
    {
     "data": {
      "text/plain": [
       "Index(['번지', '본번', '부번', '아파트명', '전용면적', '계약일', '층', '건축년도', '도로명',\n",
       "       'k-단지분류(아파트,주상복합등등)', 'k-전화번호', 'k-팩스번호', 'k-세대타입(분양형태)', 'k-관리방식',\n",
       "       'k-복도유형', 'k-난방방식', 'k-전체동수', 'k-전체세대수', 'k-건설사(시공사)', 'k-시행사',\n",
       "       'k-사용검사일-사용승인일', 'k-연면적', 'k-주거전용면적', 'k-관리비부과면적', 'k-전용면적별세대현황(60㎡이하)',\n",
       "       'k-전용면적별세대현황(60㎡~85㎡이하)', 'k-85㎡~135㎡이하', 'k-홈페이지', 'k-수정일자',\n",
       "       '고용보험관리번호', '경비비관리형태', '세대전기계약방법', '청소비관리형태', '건축면적', '주차대수',\n",
       "       '기타/의무/임대/임의=1/2/3/4', '단지승인일', '사용허가여부', '관리비 업로드', '좌표X', '좌표Y',\n",
       "       '단지신청일', 'target', '구', '동', '계약년', '계약월', '강남여부', '신축여부', 'is_test',\n",
       "       'cluster_dist_transport', 'cluster_dist_transport_count',\n",
       "       'cluster_select', 'cluster_select_count', 'subway_station_area_count',\n",
       "       'subway_direct_influence_count', 'subway_indirect_influence_count',\n",
       "       'subway_shortest_distance', 'subway_zone_type',\n",
       "       'bus_station_area_count', 'bus_direct_influence_count',\n",
       "       'bus_indirect_influence_count', 'bus_shortest_distance',\n",
       "       'bus_zone_type'],\n",
       "      dtype='object')"
      ]
     },
     "execution_count": 13,
     "metadata": {},
     "output_type": "execute_result"
    }
   ],
   "source": [
    "df=pd.concat([concat, feat_cluster, feat_transport], axis=1)\n",
    "df.columns"
   ]
  },
  {
   "cell_type": "code",
   "execution_count": 79,
   "metadata": {},
   "outputs": [
    {
     "name": "stdout",
     "output_type": "stream",
     "text": [
      "2024-11-09 04:42:34,241 - root - INFO - #### Init Data Prep.. \n",
      "D:\\dev\\upstageailab5-ml-regression-ml_r4\\data\\processed\\df_feat_add_cluster_dist_transport.csv\n",
      "2024-11-09 04:42:41,729 - root - INFO - Removing unnamed columns: ['Unnamed: 0']\n"
     ]
    }
   ],
   "source": [
    "########################################################################################################################################\n",
    "### EDA\n",
    "data_prep = DataPrep(config)\n",
    "list_csv = Utils.list_files(prep_path, '.csv')\n",
    "#pprint.pprint(list_csv)\n",
    "path_csv = list_csv[6]\n",
    "print(path_csv)\n",
    "\n",
    "df= pd.read_csv(path_csv)\n",
    "df.head()\n",
    "df = utils.remove_unnamed_columns(df)\n",
    "df.columns\n",
    "\n",
    "path_processed = os.path.join(config.get('processed_path'), 'df_feat_selected_preprocessed_id.csv')\n",
    "df_processed = pd.read_csv(path_processed)\n",
    "# df.columns = df.columns.str.replace('[-/]~', '', regex=True)\n",
    "# df.columns\n",
    "\n",
    "path_baseline = os.path.join(prep_path, 'df_baseline_prep.csv')\n",
    "df_baseline = pd.read_csv(path_baseline)\n",
    "\n"
   ]
  },
  {
   "cell_type": "code",
   "execution_count": 41,
   "metadata": {},
   "outputs": [
    {
     "data": {
      "text/plain": [
       "Index(['번지', '본번', '부번', '아파트명', '전용면적', '계약일', '층', '건축년도', '도로명',\n",
       "       'k-단지분류(아파트,주상복합등등)', 'k-전화번호', 'k-팩스번호', 'k-세대타입(분양형태)', 'k-관리방식',\n",
       "       'k-복도유형', 'k-난방방식', 'k-전체동수', 'k-전체세대수', 'k-건설사(시공사)', 'k-시행사',\n",
       "       'k-사용검사일-사용승인일', 'k-연면적', 'k-주거전용면적', 'k-관리비부과면적', 'k-전용면적별세대현황(60㎡이하)',\n",
       "       'k-전용면적별세대현황(60㎡~85㎡이하)', 'k-85㎡~135㎡이하', 'k-홈페이지', 'k-수정일자',\n",
       "       '고용보험관리번호', '경비비관리형태', '세대전기계약방법', '청소비관리형태', '건축면적', '주차대수',\n",
       "       '기타/의무/임대/임의=1/2/3/4', '단지승인일', '사용허가여부', '관리비 업로드', '좌표X', '좌표Y',\n",
       "       '단지신청일', 'target', '구', '동', '계약년', '계약월', '강남여부', '신축여부', 'is_test',\n",
       "       'subway_station_area_count', 'subway_direct_influence_count',\n",
       "       'subway_indirect_influence_count', 'subway_shortest_distance',\n",
       "       'subway_zone_type', 'bus_station_area_count',\n",
       "       'bus_direct_influence_count', 'bus_indirect_influence_count',\n",
       "       'bus_shortest_distance', 'bus_zone_type', 'cluster_dist_transport',\n",
       "       'cluster_dist_transport_count', 'cluster_select',\n",
       "       'cluster_select_count'],\n",
       "      dtype='object')"
      ]
     },
     "execution_count": 41,
     "metadata": {},
     "output_type": "execute_result"
    }
   ],
   "source": [
    "\n",
    "\n",
    "df_concat = pd.read_csv(os.path.join(prep_path, 'concat_train_test.csv'), index_col=0)\n",
    "feat_transport = pd.read_csv(os.path.join(prep_path, 'feat_transport.csv'), index_col=0)\n",
    "feat_cluster = pd.read_csv(os.path.join(prep_path, 'feat_cluster.csv'), index_col=0)\n",
    "\n",
    "df_concat = pd.concat([df_concat, feat_transport, feat_cluster], axis=1)\n",
    "df_concat.columns\n"
   ]
  },
  {
   "cell_type": "code",
   "execution_count": 42,
   "metadata": {},
   "outputs": [],
   "source": []
  },
  {
   "cell_type": "markdown",
   "metadata": {},
   "source": [
    "## Load Feature Engineering Data (Baseline)"
   ]
  },
  {
   "cell_type": "code",
   "execution_count": 11,
   "metadata": {},
   "outputs": [],
   "source": [
    "import pickle\n",
    "path_feat = os.path.join(prep_path, 'df_feat.pickle')\n",
    "\n",
    "with open(path_feat, 'rb') as f:\n",
    "    feat_eng_data = pickle.load(f)"
   ]
  },
  {
   "cell_type": "code",
   "execution_count": 12,
   "metadata": {},
   "outputs": [],
   "source": [
    "dt_train = feat_eng_data.get('dt_train')\n",
    "dt_test = feat_eng_data.get('dt_test')\n",
    "\n",
    "# dt['is_test'] = 0\n",
    "# dt_test['is_test'] = 1\n",
    "# concat = pd.concat([dt_train, dt_test])    \n",
    "#concat.value_counts('is_test')"
   ]
  },
  {
   "cell_type": "code",
   "execution_count": 13,
   "metadata": {},
   "outputs": [
    {
     "name": "stdout",
     "output_type": "stream",
     "text": [
      "0    1118822\n",
      "1       9272\n",
      "Name: is_test, dtype: int64\n"
     ]
    }
   ],
   "source": [
    "concat = DataPrep.concat_train_test(dt_train, dt_test)\n",
    "\n"
   ]
  },
  {
   "cell_type": "code",
   "execution_count": 14,
   "metadata": {},
   "outputs": [
    {
     "data": {
      "text/plain": [
       "Index(['번지', '본번', '부번', '아파트명', '전용면적', '계약일', '층', '건축년도', '도로명',\n",
       "       'k-단지분류(아파트,주상복합등등)', 'k-전화번호', 'k-팩스번호', 'k-세대타입(분양형태)', 'k-관리방식',\n",
       "       'k-복도유형', 'k-난방방식', 'k-전체동수', 'k-전체세대수', 'k-건설사(시공사)', 'k-시행사',\n",
       "       'k-사용검사일-사용승인일', 'k-연면적', 'k-주거전용면적', 'k-관리비부과면적', 'k-전용면적별세대현황(60㎡이하)',\n",
       "       'k-전용면적별세대현황(60㎡~85㎡이하)', 'k-85㎡~135㎡이하', 'k-홈페이지', 'k-수정일자',\n",
       "       '고용보험관리번호', '경비비관리형태', '세대전기계약방법', '청소비관리형태', '건축면적', '주차대수',\n",
       "       '기타/의무/임대/임의=1/2/3/4', '단지승인일', '사용허가여부', '관리비 업로드', '좌표X', '좌표Y',\n",
       "       '단지신청일', 'target', '구', '동', '계약년', '계약월', '강남여부', '신축여부', 'is_test'],\n",
       "      dtype='object')"
      ]
     },
     "execution_count": 14,
     "metadata": {},
     "output_type": "execute_result"
    }
   ],
   "source": [
    "concat.columns"
   ]
  },
  {
   "cell_type": "code",
   "execution_count": 15,
   "metadata": {},
   "outputs": [],
   "source": [
    "concat.to_csv(os.path.join(prep_path, 'df_concat_train_test.csv'), index=False)\n"
   ]
  },
  {
   "cell_type": "code",
   "execution_count": 78,
   "metadata": {},
   "outputs": [
    {
     "name": "stdout",
     "output_type": "stream",
     "text": [
      "Index(['번지', '본번', '부번', '아파트명', '전용면적', '계약일', '층', '건축년도', '도로명',\n",
      "       'k-단지분류(아파트,주상복합등등)', 'k-전화번호', 'k-팩스번호', 'k-세대타입(분양형태)', 'k-관리방식',\n",
      "       'k-복도유형', 'k-난방방식', 'k-전체동수', 'k-전체세대수', 'k-건설사(시공사)', 'k-시행사',\n",
      "       'k-사용검사일-사용승인일', 'k-연면적', 'k-주거전용면적', 'k-관리비부과면적', 'k-전용면적별세대현황(60㎡이하)',\n",
      "       'k-전용면적별세대현황(60㎡~85㎡이하)', 'k-85㎡~135㎡이하', 'k-홈페이지', 'k-수정일자',\n",
      "       '고용보험관리번호', '경비비관리형태', '세대전기계약방법', '청소비관리형태', '건축면적', '주차대수',\n",
      "       '기타/의무/임대/임의=1/2/3/4', '단지승인일', '사용허가여부', '관리비 업로드', '좌표X', '좌표Y',\n",
      "       '단지신청일', 'target', '구', '동', '계약년', '계약월', '강남여부', '신축여부'],\n",
      "      dtype='object') Index(['번지', '본번', '부번', '아파트명', '전용면적', '계약일', '층', '건축년도', '도로명',\n",
      "       'k-단지분류(아파트,주상복합등등)', 'k-전화번호', 'k-팩스번호', 'k-세대타입(분양형태)', 'k-관리방식',\n",
      "       'k-복도유형', 'k-난방방식', 'k-전체동수', 'k-전체세대수', 'k-건설사(시공사)', 'k-시행사',\n",
      "       'k-사용검사일-사용승인일', 'k-연면적', 'k-주거전용면적', 'k-관리비부과면적', 'k-전용면적별세대현황(60㎡이하)',\n",
      "       'k-전용면적별세대현황(60㎡~85㎡이하)', 'k-85㎡~135㎡이하', 'k-홈페이지', 'k-수정일자',\n",
      "       '고용보험관리번호', '경비비관리형태', '세대전기계약방법', '청소비관리형태', '건축면적', '주차대수',\n",
      "       '기타/의무/임대/임의=1/2/3/4', '단지승인일', '사용허가여부', '관리비 업로드', '좌표X', '좌표Y',\n",
      "       '단지신청일', '구', '동', '계약년', '계약월', '강남여부', '신축여부'],\n",
      "      dtype='object')\n"
     ]
    }
   ],
   "source": [
    "dt_train, dt_test = DataPrep.unconcat_train_test(concat)\n",
    "print(dt_train.columns, dt_test.columns)\n"
   ]
  },
  {
   "cell_type": "markdown",
   "metadata": {},
   "source": [
    "## Full concat data"
   ]
  },
  {
   "cell_type": "code",
   "execution_count": 17,
   "metadata": {},
   "outputs": [],
   "source": [
    "col_id=['is_test','target']\n",
    "cols_transport=['subway_station_area_count', 'subway_direct_influence_count', 'subway_indirect_influence_count', 'subway_shortest_distance', 'subway_zone_type', 'bus_station_area_count', 'bus_direct_influence_count', 'bus_indirect_influence_count', 'bus_shortest_distance', 'bus_zone_type']\n",
    "cols_cluster = ['cluster_dist_transport', 'cluster_dist_transport_count'] #cluster_dist', 'cluster_dist_count',\n",
    "#df_baseline.drop(columns=col_id, inplace=True)"
   ]
  },
  {
   "cell_type": "code",
   "execution_count": null,
   "metadata": {},
   "outputs": [],
   "source": []
  },
  {
   "cell_type": "markdown",
   "metadata": {},
   "source": [
    "## Column Selection"
   ]
  },
  {
   "cell_type": "code",
   "execution_count": 5,
   "metadata": {},
   "outputs": [],
   "source": [
    "\n",
    "\n",
    "# cols_to_select = ['강남여부', '신축여부','건축면적', '주차대수','아파트명','전용면적','계약월','계약년','층','건축년도','도로명','k-단지분류(아파트,주상복합등등)', 'k-세대타입(분양형태)', 'k-관리방식', 'k-복도유형', 'k-난방방식', 'k-전체동수', 'k-전체세대수', 'k-건설사(시공사)', 'k-시행사', 'k-연면적', 'k-주거전용면적', 'k-관리비부과면적', 'k-전용면적별세대현황(60㎡이하)','k-전용면적별세대현황(60㎡~85㎡이하)', 'k-85㎡~135㎡이하','경비비관리형태', '세대전기계약방법', '청소비관리형태']\n",
    "# col_feat = ['subway_station_area_count', 'subway_direct_influence_count',\n",
    "#        'subway_indirect_influence_count', 'subway_shortest_distance',\n",
    "#        'subway_zone_type', 'bus_station_area_count',\n",
    "#        'bus_direct_influence_count', 'bus_indirect_influence_count',\n",
    "#        'bus_shortest_distance', 'bus_zone_type', 'cluster_dist',\n",
    "#        'cluster_dist_count', 'cluster_dist_transport',\n",
    "#        'cluster_dist_transport_count']\n",
    "# col_to_drop = ['cluster_dist_count', 'cluster_dist']"
   ]
  },
  {
   "cell_type": "code",
   "execution_count": 28,
   "metadata": {},
   "outputs": [
    {
     "data": {
      "text/plain": [
       "Index(['subway_shortest_distance', '건축면적', 'k-전용면적별세대현황(60㎡이하)',\n",
       "       'subway_direct_influence_count', 'bus_zone_type',\n",
       "       'subway_station_area_count', 'cluster_dist_transport', 'k-시행사',\n",
       "       'subway_zone_type', '건축년도', 'k-관리비부과면적', 'bus_direct_influence_count',\n",
       "       'k-주거전용면적', '전용면적', '계약년', '강남여부', 'k-난방방식',\n",
       "       'subway_indirect_influence_count', 'k-세대타입(분양형태)',\n",
       "       'bus_station_area_count', '아파트명', '도로명', '주차대수',\n",
       "       'bus_indirect_influence_count', 'k-전용면적별세대현황(60㎡~85㎡이하)',\n",
       "       'k-85㎡~135㎡이하', '층', 'k-전체동수', 'k-건설사(시공사)', '계약월',\n",
       "       'cluster_dist_transport_count', 'bus_shortest_distance', '신축여부'],\n",
       "      dtype='object')"
      ]
     },
     "execution_count": 28,
     "metadata": {},
     "output_type": "execute_result"
    }
   ],
   "source": [
    "\n",
    "# # col_feat=df.columns[50:]\n",
    "# df_selected = df[cols_to_select+list(col_feat)]\n",
    "# df_selected.drop(columns=col_to_drop, inplace=True)\n",
    "# df_id=df[col_id]\n",
    "# df_selected.columns\n",
    "\n",
    "# df_selected = df_processed.drop(columns=col_id)\n",
    "# df_selected.columns\n"
   ]
  },
  {
   "cell_type": "code",
   "execution_count": 7,
   "metadata": {},
   "outputs": [
    {
     "name": "stdout",
     "output_type": "stream",
     "text": [
      "['D:\\\\dev\\\\upstageailab5-ml-regression-ml_r4\\\\data\\\\bus_feature.csv', 'D:\\\\dev\\\\upstageailab5-ml-regression-ml_r4\\\\data\\\\sample_submission.csv', 'D:\\\\dev\\\\upstageailab5-ml-regression-ml_r4\\\\data\\\\subway_feature.csv', 'D:\\\\dev\\\\upstageailab5-ml-regression-ml_r4\\\\data\\\\test.csv', 'D:\\\\dev\\\\upstageailab5-ml-regression-ml_r4\\\\data\\\\train.csv', 'D:\\\\dev\\\\upstageailab5-ml-regression-ml_r4\\\\data\\\\processed\\\\df_auto_prep.csv', 'D:\\\\dev\\\\upstageailab5-ml-regression-ml_r4\\\\data\\\\processed\\\\df_baseline_prep.csv', 'D:\\\\dev\\\\upstageailab5-ml-regression-ml_r4\\\\data\\\\processed\\\\df_feat.csv', 'D:\\\\dev\\\\upstageailab5-ml-regression-ml_r4\\\\data\\\\processed\\\\df_feat_add.csv', 'D:\\\\dev\\\\upstageailab5-ml-regression-ml_r4\\\\data\\\\processed\\\\df_feat_add_cluster.csv', 'D:\\\\dev\\\\upstageailab5-ml-regression-ml_r4\\\\data\\\\processed\\\\df_feat_add_cluster_dist.csv', 'D:\\\\dev\\\\upstageailab5-ml-regression-ml_r4\\\\data\\\\processed\\\\df_feat_add_cluster_dist_transport.csv', 'D:\\\\dev\\\\upstageailab5-ml-regression-ml_r4\\\\data\\\\processed\\\\df_fest_selected.csv']\n"
     ]
    }
   ],
   "source": [
    "path_data = os.path.join(base_path, 'data')\n",
    "list_csv_data = Utils.list_files(path_data, '.csv')\n",
    "print(list_csv_data)"
   ]
  },
  {
   "cell_type": "markdown",
   "metadata": {},
   "source": [
    "# EDA"
   ]
  },
  {
   "cell_type": "markdown",
   "metadata": {},
   "source": [
    "## Numeric processing\n"
   ]
  },
  {
   "cell_type": "code",
   "execution_count": 58,
   "metadata": {},
   "outputs": [
    {
     "name": "stdout",
     "output_type": "stream",
     "text": [
      "\n",
      "=== 데이터 타입 요약 ===\n",
      "float64    34\n",
      "int64       1\n",
      "dtype: int64\n"
     ]
    }
   ],
   "source": [
    "def clean_data_types(df):\n",
    "    \"\"\"\n",
    "    데이터프레임의 데이터 타입을 정리하는 함수\n",
    "    \"\"\"\n",
    "    df_cleaned = df.copy()\n",
    "    \n",
    "    for col in df_cleaned.columns:\n",
    "        # 각 컬럼의 데이터 타입 확인\n",
    "        if df_cleaned[col].dtypes == 'object':  # dtype이 아닌 dtypes 사용\n",
    "            try:\n",
    "                # 숫자로 변환 가능한지 테스트\n",
    "                numeric_values = pd.to_numeric(df_cleaned[col], errors='raise')\n",
    "                # 가능하다면 숫자로 변환\n",
    "                df_cleaned[col] = numeric_values\n",
    "                print(f\"컬럼 '{col}' 숫자형으로 변환 완료\")\n",
    "            except ValueError:\n",
    "                print(f\"컬럼 '{col}' 문자형 유지\")\n",
    "                continue\n",
    "    \n",
    "    # 변환 후 데이터 타입 확인\n",
    "    print(\"\\n=== 데이터 타입 요약 ===\")\n",
    "    print(df_cleaned.dtypes.value_counts())\n",
    "    \n",
    "    return df_cleaned\n",
    "\n",
    "# 데이터 정리\n",
    "df_cleaned = clean_data_types(df_processed)"
   ]
  },
  {
   "cell_type": "code",
   "execution_count": 60,
   "metadata": {},
   "outputs": [
    {
     "data": {
      "text/plain": [
       "(1128094, 35)"
      ]
     },
     "execution_count": 60,
     "metadata": {},
     "output_type": "execute_result"
    }
   ],
   "source": [
    "df_processed.shape"
   ]
  },
  {
   "cell_type": "code",
   "execution_count": 61,
   "metadata": {},
   "outputs": [],
   "source": [
    "df_cleaned.shape\n",
    "df=df_cleaned\n"
   ]
  },
  {
   "cell_type": "markdown",
   "metadata": {},
   "source": [
    "## PygWalker"
   ]
  },
  {
   "cell_type": "code",
   "execution_count": 47,
   "metadata": {},
   "outputs": [
    {
     "data": {
      "text/plain": [
       "Index(['subway_shortest_distance', '건축면적', 'k-전용면적별세대현황(60㎡이하)',\n",
       "       'subway_direct_influence_count', 'bus_zone_type',\n",
       "       'subway_station_area_count', 'cluster_dist_transport', 'k-시행사',\n",
       "       'subway_zone_type', '건축년도', 'k-관리비부과면적', 'bus_direct_influence_count',\n",
       "       'k-주거전용면적', '전용면적', '계약년', '강남여부', 'k-난방방식',\n",
       "       'subway_indirect_influence_count', 'k-세대타입(분양형태)',\n",
       "       'bus_station_area_count', '아파트명', '도로명', '주차대수',\n",
       "       'bus_indirect_influence_count', 'k-전용면적별세대현황(60㎡~85㎡이하)',\n",
       "       'k-85㎡~135㎡이하', '층', 'k-전체동수', 'k-건설사(시공사)', '계약월',\n",
       "       'cluster_dist_transport_count', 'bus_shortest_distance', '신축여부'],\n",
       "      dtype='object')"
      ]
     },
     "execution_count": 47,
     "metadata": {},
     "output_type": "execute_result"
    }
   ],
   "source": [
    "df_selected.columns"
   ]
  },
  {
   "cell_type": "code",
   "execution_count": 62,
   "metadata": {},
   "outputs": [
    {
     "data": {
      "application/vnd.jupyter.widget-view+json": {
       "model_id": "cf652c43f2014552ba312dca9f24d2d2",
       "version_major": 2,
       "version_minor": 0
      },
      "text/plain": [
       "Box(children=(HTML(value='\\n<div id=\"ifr-pyg-0006266b7587e266Knk1bjWxDY9UGJ4m\" style=\"height: auto\">\\n    <hea…"
      ]
     },
     "metadata": {},
     "output_type": "display_data"
    },
    {
     "data": {
      "text/html": [
       "<script>\n",
       "    window.addEventListener(\"message\", function(event) {\n",
       "        const backgroundMap = {\n",
       "            \"dark\": \"hsl(240 10% 3.9%)\",\n",
       "            \"light\": \"hsl(0 0 100%)\",\n",
       "        };\n",
       "        const colorMap = {\n",
       "            \"dark\": \"hsl(0 0% 98%)\",\n",
       "            \"light\": \"hsl(240 10% 3.9%)\",\n",
       "        };\n",
       "        if (event.data.action === \"changeAppearance\" && event.data.gid === \"0006266b7587e266Knk1bjWxDY9UGJ4m\") {\n",
       "            var iframe = document.getElementById(\"gwalker-0006266b7587e266Knk1bjWxDY9UGJ4m\");\n",
       "            iframe.style.background  = backgroundMap[event.data.appearance];\n",
       "            iframe.style.color = colorMap[event.data.appearance];\n",
       "        }\n",
       "    });\n",
       "</script>"
      ],
      "text/plain": [
       "<IPython.core.display.HTML object>"
      ]
     },
     "metadata": {},
     "output_type": "display_data"
    },
    {
     "data": {
      "text/html": [],
      "text/plain": [
       "<IPython.core.display.HTML object>"
      ]
     },
     "metadata": {},
     "output_type": "display_data"
    }
   ],
   "source": [
    "df_name = 'df_baseline_cleaned'\n",
    "\n",
    "html_path = os.path.join(config['report_path'],f\"report_eda_pygwalker_{df_name}.html\")\n",
    "walker = pyg.walk(\n",
    "    df,\n",
    "    spec=os.path.join(config['report_path'],f\"eda_pygwalker_{df_name}.json\"),    # this json file will save your chart state, you need to click save button in ui mannual when you finish a chart, 'autosave' will be supported in the future.\n",
    "    kernel_computation=True,          # set `kernel_computation=True`, pygwalker will use duckdb as computing engine, it support you explore bigger dataset(<=100GB).\n",
    ")\n",
    "# 시각화를 HTML로 저장하기\n",
    "\n"
   ]
  },
  {
   "cell_type": "code",
   "execution_count": 63,
   "metadata": {},
   "outputs": [],
   "source": [
    "with open(html_path, 'w') as f:\n",
    "    f.write(walker.to_html())\n"
   ]
  },
  {
   "cell_type": "code",
   "execution_count": 64,
   "metadata": {},
   "outputs": [],
   "source": [
    "\n",
    "html_str = pyg.to_html(df)\n",
    "with open(html_path, 'w') as f:\n",
    "    f.write(html_str)"
   ]
  },
  {
   "cell_type": "code",
   "execution_count": 21,
   "metadata": {},
   "outputs": [
    {
     "data": {
      "text/html": [
       "<div>\n",
       "<style scoped>\n",
       "    .dataframe tbody tr th:only-of-type {\n",
       "        vertical-align: middle;\n",
       "    }\n",
       "\n",
       "    .dataframe tbody tr th {\n",
       "        vertical-align: top;\n",
       "    }\n",
       "\n",
       "    .dataframe thead th {\n",
       "        text-align: right;\n",
       "    }\n",
       "</style>\n",
       "<table border=\"1\" class=\"dataframe\">\n",
       "  <thead>\n",
       "    <tr style=\"text-align: right;\">\n",
       "      <th></th>\n",
       "      <th>본번</th>\n",
       "      <th>부번</th>\n",
       "      <th>전용면적</th>\n",
       "      <th>계약년월</th>\n",
       "      <th>계약일</th>\n",
       "      <th>층</th>\n",
       "      <th>건축년도</th>\n",
       "      <th>k-전체동수</th>\n",
       "      <th>k-전체세대수</th>\n",
       "      <th>k-연면적</th>\n",
       "      <th>...</th>\n",
       "      <th>subway_zone_type</th>\n",
       "      <th>bus_station_area_count</th>\n",
       "      <th>bus_direct_influence_count</th>\n",
       "      <th>bus_indirect_influence_count</th>\n",
       "      <th>bus_shortest_distance</th>\n",
       "      <th>bus_zone_type</th>\n",
       "      <th>cluster_dist_transport</th>\n",
       "      <th>cluster_dist_transport_count</th>\n",
       "      <th>is_test</th>\n",
       "      <th>target</th>\n",
       "    </tr>\n",
       "  </thead>\n",
       "  <tbody>\n",
       "    <tr>\n",
       "      <th>count</th>\n",
       "      <td>1.128019e+06</td>\n",
       "      <td>1.128019e+06</td>\n",
       "      <td>1.128094e+06</td>\n",
       "      <td>1.128094e+06</td>\n",
       "      <td>1.128094e+06</td>\n",
       "      <td>1.128094e+06</td>\n",
       "      <td>1.128094e+06</td>\n",
       "      <td>1.128094e+06</td>\n",
       "      <td>1.128094e+06</td>\n",
       "      <td>1.128094e+06</td>\n",
       "      <td>...</td>\n",
       "      <td>1.128094e+06</td>\n",
       "      <td>1.128094e+06</td>\n",
       "      <td>1.128094e+06</td>\n",
       "      <td>1.128094e+06</td>\n",
       "      <td>1.128094e+06</td>\n",
       "      <td>1.128094e+06</td>\n",
       "      <td>1.128094e+06</td>\n",
       "      <td>1.128094e+06</td>\n",
       "      <td>1.128094e+06</td>\n",
       "      <td>1.128094e+06</td>\n",
       "    </tr>\n",
       "    <tr>\n",
       "      <th>mean</th>\n",
       "      <td>5.653234e+02</td>\n",
       "      <td>5.976400e+00</td>\n",
       "      <td>7.716028e+01</td>\n",
       "      <td>2.014829e+05</td>\n",
       "      <td>1.579966e+01</td>\n",
       "      <td>8.881412e+00</td>\n",
       "      <td>1.998791e+03</td>\n",
       "      <td>1.060994e+01</td>\n",
       "      <td>8.820438e+02</td>\n",
       "      <td>1.194089e+05</td>\n",
       "      <td>...</td>\n",
       "      <td>-3.716685e-16</td>\n",
       "      <td>-1.252870e-15</td>\n",
       "      <td>2.206883e-15</td>\n",
       "      <td>2.083682e-15</td>\n",
       "      <td>-2.281610e-15</td>\n",
       "      <td>-1.024910e-16</td>\n",
       "      <td>4.297166e-16</td>\n",
       "      <td>-2.246388e-15</td>\n",
       "      <td>8.219173e-03</td>\n",
       "      <td>5.751489e+04</td>\n",
       "    </tr>\n",
       "    <tr>\n",
       "      <th>std</th>\n",
       "      <td>5.167611e+02</td>\n",
       "      <td>4.674920e+01</td>\n",
       "      <td>2.936448e+01</td>\n",
       "      <td>4.237691e+02</td>\n",
       "      <td>8.722162e+00</td>\n",
       "      <td>5.989302e+00</td>\n",
       "      <td>9.358540e+00</td>\n",
       "      <td>1.397597e+01</td>\n",
       "      <td>9.864624e+02</td>\n",
       "      <td>1.427995e+05</td>\n",
       "      <td>...</td>\n",
       "      <td>1.000000e+00</td>\n",
       "      <td>1.000000e+00</td>\n",
       "      <td>1.000000e+00</td>\n",
       "      <td>1.000000e+00</td>\n",
       "      <td>1.000000e+00</td>\n",
       "      <td>1.000000e+00</td>\n",
       "      <td>1.000000e+00</td>\n",
       "      <td>1.000000e+00</td>\n",
       "      <td>9.028635e-02</td>\n",
       "      <td>4.653036e+04</td>\n",
       "    </tr>\n",
       "    <tr>\n",
       "      <th>min</th>\n",
       "      <td>0.000000e+00</td>\n",
       "      <td>0.000000e+00</td>\n",
       "      <td>1.002000e+01</td>\n",
       "      <td>2.007010e+05</td>\n",
       "      <td>1.000000e+00</td>\n",
       "      <td>-4.000000e+00</td>\n",
       "      <td>1.961000e+03</td>\n",
       "      <td>1.000000e+00</td>\n",
       "      <td>5.900000e+01</td>\n",
       "      <td>0.000000e+00</td>\n",
       "      <td>...</td>\n",
       "      <td>-2.623050e+00</td>\n",
       "      <td>-1.901191e+00</td>\n",
       "      <td>-3.291555e+00</td>\n",
       "      <td>-3.098350e+00</td>\n",
       "      <td>-4.882642e+00</td>\n",
       "      <td>-3.128874e-01</td>\n",
       "      <td>-2.265198e+00</td>\n",
       "      <td>-4.093856e+00</td>\n",
       "      <td>0.000000e+00</td>\n",
       "      <td>0.000000e+00</td>\n",
       "    </tr>\n",
       "    <tr>\n",
       "      <th>25%</th>\n",
       "      <td>1.770000e+02</td>\n",
       "      <td>0.000000e+00</td>\n",
       "      <td>5.965000e+01</td>\n",
       "      <td>2.011110e+05</td>\n",
       "      <td>8.000000e+00</td>\n",
       "      <td>4.000000e+00</td>\n",
       "      <td>1.992000e+03</td>\n",
       "      <td>3.280629e+00</td>\n",
       "      <td>2.882427e+02</td>\n",
       "      <td>4.117400e+04</td>\n",
       "      <td>...</td>\n",
       "      <td>-4.477037e-01</td>\n",
       "      <td>-4.843279e-01</td>\n",
       "      <td>-6.569186e-01</td>\n",
       "      <td>-7.125884e-01</td>\n",
       "      <td>-6.140049e-01</td>\n",
       "      <td>-3.128874e-01</td>\n",
       "      <td>-7.159372e-01</td>\n",
       "      <td>-7.219438e-01</td>\n",
       "      <td>0.000000e+00</td>\n",
       "      <td>3.000000e+04</td>\n",
       "    </tr>\n",
       "    <tr>\n",
       "      <th>50%</th>\n",
       "      <td>4.710000e+02</td>\n",
       "      <td>0.000000e+00</td>\n",
       "      <td>8.187000e+01</td>\n",
       "      <td>2.015080e+05</td>\n",
       "      <td>1.600000e+01</td>\n",
       "      <td>8.000000e+00</td>\n",
       "      <td>2.000000e+03</td>\n",
       "      <td>6.275765e+00</td>\n",
       "      <td>5.180000e+02</td>\n",
       "      <td>7.136500e+04</td>\n",
       "      <td>...</td>\n",
       "      <td>-4.477037e-01</td>\n",
       "      <td>1.380923e-01</td>\n",
       "      <td>1.666451e-02</td>\n",
       "      <td>-2.608610e-02</td>\n",
       "      <td>5.562454e-03</td>\n",
       "      <td>-3.128874e-01</td>\n",
       "      <td>2.636594e-02</td>\n",
       "      <td>-1.590953e-03</td>\n",
       "      <td>0.000000e+00</td>\n",
       "      <td>4.450000e+04</td>\n",
       "    </tr>\n",
       "    <tr>\n",
       "      <th>75%</th>\n",
       "      <td>7.810000e+02</td>\n",
       "      <td>1.000000e+00</td>\n",
       "      <td>8.496000e+01</td>\n",
       "      <td>2.018050e+05</td>\n",
       "      <td>2.300000e+01</td>\n",
       "      <td>1.200000e+01</td>\n",
       "      <td>2.005000e+03</td>\n",
       "      <td>1.205642e+01</td>\n",
       "      <td>9.980000e+02</td>\n",
       "      <td>1.390690e+05</td>\n",
       "      <td>...</td>\n",
       "      <td>1.183940e+00</td>\n",
       "      <td>6.578332e-01</td>\n",
       "      <td>6.281924e-01</td>\n",
       "      <td>7.580091e-01</td>\n",
       "      <td>6.061873e-01</td>\n",
       "      <td>-3.128874e-01</td>\n",
       "      <td>8.581787e-01</td>\n",
       "      <td>6.698232e-01</td>\n",
       "      <td>0.000000e+00</td>\n",
       "      <td>6.950000e+04</td>\n",
       "    </tr>\n",
       "    <tr>\n",
       "      <th>max</th>\n",
       "      <td>4.974000e+03</td>\n",
       "      <td>2.837000e+03</td>\n",
       "      <td>4.243200e+02</td>\n",
       "      <td>2.023090e+05</td>\n",
       "      <td>3.100000e+01</td>\n",
       "      <td>6.900000e+01</td>\n",
       "      <td>2.023000e+03</td>\n",
       "      <td>1.240000e+02</td>\n",
       "      <td>9.510000e+03</td>\n",
       "      <td>9.591851e+06</td>\n",
       "      <td>...</td>\n",
       "      <td>1.183940e+00</td>\n",
       "      <td>3.833186e+00</td>\n",
       "      <td>4.054855e+00</td>\n",
       "      <td>2.438959e+00</td>\n",
       "      <td>5.736422e+00</td>\n",
       "      <td>3.196093e+00</td>\n",
       "      <td>2.047940e+00</td>\n",
       "      <td>2.555496e+00</td>\n",
       "      <td>1.000000e+00</td>\n",
       "      <td>1.450000e+06</td>\n",
       "    </tr>\n",
       "  </tbody>\n",
       "</table>\n",
       "<p>8 rows × 33 columns</p>\n",
       "</div>"
      ],
      "text/plain": [
       "                 본번            부번          전용면적          계약년월           계약일  \\\n",
       "count  1.128019e+06  1.128019e+06  1.128094e+06  1.128094e+06  1.128094e+06   \n",
       "mean   5.653234e+02  5.976400e+00  7.716028e+01  2.014829e+05  1.579966e+01   \n",
       "std    5.167611e+02  4.674920e+01  2.936448e+01  4.237691e+02  8.722162e+00   \n",
       "min    0.000000e+00  0.000000e+00  1.002000e+01  2.007010e+05  1.000000e+00   \n",
       "25%    1.770000e+02  0.000000e+00  5.965000e+01  2.011110e+05  8.000000e+00   \n",
       "50%    4.710000e+02  0.000000e+00  8.187000e+01  2.015080e+05  1.600000e+01   \n",
       "75%    7.810000e+02  1.000000e+00  8.496000e+01  2.018050e+05  2.300000e+01   \n",
       "max    4.974000e+03  2.837000e+03  4.243200e+02  2.023090e+05  3.100000e+01   \n",
       "\n",
       "                  층          건축년도        k-전체동수       k-전체세대수         k-연면적  \\\n",
       "count  1.128094e+06  1.128094e+06  1.128094e+06  1.128094e+06  1.128094e+06   \n",
       "mean   8.881412e+00  1.998791e+03  1.060994e+01  8.820438e+02  1.194089e+05   \n",
       "std    5.989302e+00  9.358540e+00  1.397597e+01  9.864624e+02  1.427995e+05   \n",
       "min   -4.000000e+00  1.961000e+03  1.000000e+00  5.900000e+01  0.000000e+00   \n",
       "25%    4.000000e+00  1.992000e+03  3.280629e+00  2.882427e+02  4.117400e+04   \n",
       "50%    8.000000e+00  2.000000e+03  6.275765e+00  5.180000e+02  7.136500e+04   \n",
       "75%    1.200000e+01  2.005000e+03  1.205642e+01  9.980000e+02  1.390690e+05   \n",
       "max    6.900000e+01  2.023000e+03  1.240000e+02  9.510000e+03  9.591851e+06   \n",
       "\n",
       "       ...  subway_zone_type  bus_station_area_count  \\\n",
       "count  ...      1.128094e+06            1.128094e+06   \n",
       "mean   ...     -3.716685e-16           -1.252870e-15   \n",
       "std    ...      1.000000e+00            1.000000e+00   \n",
       "min    ...     -2.623050e+00           -1.901191e+00   \n",
       "25%    ...     -4.477037e-01           -4.843279e-01   \n",
       "50%    ...     -4.477037e-01            1.380923e-01   \n",
       "75%    ...      1.183940e+00            6.578332e-01   \n",
       "max    ...      1.183940e+00            3.833186e+00   \n",
       "\n",
       "       bus_direct_influence_count  bus_indirect_influence_count  \\\n",
       "count                1.128094e+06                  1.128094e+06   \n",
       "mean                 2.206883e-15                  2.083682e-15   \n",
       "std                  1.000000e+00                  1.000000e+00   \n",
       "min                 -3.291555e+00                 -3.098350e+00   \n",
       "25%                 -6.569186e-01                 -7.125884e-01   \n",
       "50%                  1.666451e-02                 -2.608610e-02   \n",
       "75%                  6.281924e-01                  7.580091e-01   \n",
       "max                  4.054855e+00                  2.438959e+00   \n",
       "\n",
       "       bus_shortest_distance  bus_zone_type  cluster_dist_transport  \\\n",
       "count           1.128094e+06   1.128094e+06            1.128094e+06   \n",
       "mean           -2.281610e-15  -1.024910e-16            4.297166e-16   \n",
       "std             1.000000e+00   1.000000e+00            1.000000e+00   \n",
       "min            -4.882642e+00  -3.128874e-01           -2.265198e+00   \n",
       "25%            -6.140049e-01  -3.128874e-01           -7.159372e-01   \n",
       "50%             5.562454e-03  -3.128874e-01            2.636594e-02   \n",
       "75%             6.061873e-01  -3.128874e-01            8.581787e-01   \n",
       "max             5.736422e+00   3.196093e+00            2.047940e+00   \n",
       "\n",
       "       cluster_dist_transport_count       is_test        target  \n",
       "count                  1.128094e+06  1.128094e+06  1.128094e+06  \n",
       "mean                  -2.246388e-15  8.219173e-03  5.751489e+04  \n",
       "std                    1.000000e+00  9.028635e-02  4.653036e+04  \n",
       "min                   -4.093856e+00  0.000000e+00  0.000000e+00  \n",
       "25%                   -7.219438e-01  0.000000e+00  3.000000e+04  \n",
       "50%                   -1.590953e-03  0.000000e+00  4.450000e+04  \n",
       "75%                    6.698232e-01  0.000000e+00  6.950000e+04  \n",
       "max                    2.555496e+00  1.000000e+00  1.450000e+06  \n",
       "\n",
       "[8 rows x 33 columns]"
      ]
     },
     "execution_count": 21,
     "metadata": {},
     "output_type": "execute_result"
    }
   ],
   "source": [
    "# # !pip install pygwalker\n",
    "\n",
    "# df_name = 'df_feat_selected_preprocessed'\n",
    "# html_path = os.path.join(config['report_path'],f\"report_eda_pygwalker_{df_name}.html\")\n",
    "# gwalker = pyg.walk(df_selected, return_html=True)\n",
    "df.describe()\n"
   ]
  },
  {
   "cell_type": "code",
   "execution_count": 46,
   "metadata": {},
   "outputs": [
    {
     "data": {
      "text/plain": [
       "(1128094, 65)"
      ]
     },
     "execution_count": 46,
     "metadata": {},
     "output_type": "execute_result"
    }
   ],
   "source": [
    "df.shape"
   ]
  },
  {
   "cell_type": "markdown",
   "metadata": {},
   "source": [
    "## ydata profiling"
   ]
  },
  {
   "cell_type": "code",
   "execution_count": 65,
   "metadata": {},
   "outputs": [],
   "source": [
    "from ydata_profiling import ProfileReport\n",
    "\n",
    "# 방법 1: 설정 딕셔너리 사용\n",
    "profile_config = {\n",
    "    \"title\": \"yData Profiling Report: House Price Prediction\",\n",
    "    \"dataset\": {\n",
    "        \"description\": \"House Price Prediction\",\n",
    "        \"copyright_holder\": \"CC0: Public Domain\",\n",
    "        \"url\": \"\"\n",
    "    },\n",
    "    \"correlations\": {\n",
    "        \"pearson\": {\"calculate\": True},\n",
    "        \"spearman\": {\"calculate\": True},\n",
    "        \"kendall\": {\"calculate\": False},\n",
    "        \"phi_k\": {\"calculate\": False}\n",
    "    },\n",
    "    \"explorative\": True,\n",
    "    \"plot\": {\n",
    "        \"wordcloud\": {\n",
    "            \"enabled\": True,\n",
    "            \"max_words\": 100\n",
    "        }\n",
    "    }\n",
    "}\n",
    "\n",
    "profile = ProfileReport(df, **profile_config)\n",
    "\n",
    "# ydata profiling 실행\n",
    "# # 결과 출력\n",
    "# profile.to_widgets() # ~15 minutes\n",
    "\n",
    "# profile.to_notebook_iframe()"
   ]
  },
  {
   "cell_type": "code",
   "execution_count": 66,
   "metadata": {},
   "outputs": [
    {
     "data": {
      "application/vnd.jupyter.widget-view+json": {
       "model_id": "0cb93205ed484130b59e8c408992f954",
       "version_major": 2,
       "version_minor": 0
      },
      "text/plain": [
       "Summarize dataset:   0%|          | 0/5 [00:00<?, ?it/s]"
      ]
     },
     "metadata": {},
     "output_type": "display_data"
    },
    {
     "data": {
      "application/vnd.jupyter.widget-view+json": {
       "model_id": "d1bf990c72114edb8d50d8610735c79e",
       "version_major": 2,
       "version_minor": 0
      },
      "text/plain": [
       "Generate report structure:   0%|          | 0/1 [00:00<?, ?it/s]"
      ]
     },
     "metadata": {},
     "output_type": "display_data"
    },
    {
     "data": {
      "application/vnd.jupyter.widget-view+json": {
       "model_id": "2fa4fe2e266343b192e6f1f111d84f21",
       "version_major": 2,
       "version_minor": 0
      },
      "text/plain": [
       "Render HTML:   0%|          | 0/1 [00:00<?, ?it/s]"
      ]
     },
     "metadata": {},
     "output_type": "display_data"
    },
    {
     "data": {
      "application/vnd.jupyter.widget-view+json": {
       "model_id": "7c42c5fa44c64ef3b4d2758dcaf0dad4",
       "version_major": 2,
       "version_minor": 0
      },
      "text/plain": [
       "Export report to file:   0%|          | 0/1 [00:00<?, ?it/s]"
      ]
     },
     "metadata": {},
     "output_type": "display_data"
    }
   ],
   "source": [
    "html_path = os.path.join(config['report_path'], f\"report_ydata_profiling_eda_{df_name}.html\")\n",
    "profile.to_file(html_path)"
   ]
  },
  {
   "cell_type": "code",
   "execution_count": 45,
   "metadata": {},
   "outputs": [
    {
     "data": {
      "text/plain": [
       "Index(['Unnamed: 0', '번지', '본번', '부번', '아파트명', '전용면적', '계약일', '층', '건축년도',\n",
       "       '도로명', 'k-단지분류(아파트,주상복합등등)', 'k-전화번호', 'k-팩스번호', 'k-세대타입(분양형태)',\n",
       "       'k-관리방식', 'k-복도유형', 'k-난방방식', 'k-전체동수', 'k-전체세대수', 'k-건설사(시공사)',\n",
       "       'k-시행사', 'k-사용검사일-사용승인일', 'k-연면적', 'k-주거전용면적', 'k-관리비부과면적',\n",
       "       'k-전용면적별세대현황(60㎡이하)', 'k-전용면적별세대현황(60㎡~85㎡이하)', 'k-85㎡~135㎡이하',\n",
       "       'k-홈페이지', 'k-수정일자', '고용보험관리번호', '경비비관리형태', '세대전기계약방법', '청소비관리형태',\n",
       "       '건축면적', '주차대수', '기타/의무/임대/임의=1/2/3/4', '단지승인일', '사용허가여부', '관리비 업로드',\n",
       "       '좌표X', '좌표Y', '단지신청일', 'target', '구', '동', '계약년', '계약월', '강남여부', '신축여부',\n",
       "       'is_test', 'subway_station_area_count', 'subway_direct_influence_count',\n",
       "       'subway_indirect_influence_count', 'subway_shortest_distance',\n",
       "       'subway_zone_type', 'bus_station_area_count',\n",
       "       'bus_direct_influence_count', 'bus_indirect_influence_count',\n",
       "       'bus_shortest_distance', 'bus_zone_type', 'cluster_dist_transport',\n",
       "       'cluster_dist_transport_count', 'is_test', 'target'],\n",
       "      dtype='object')"
      ]
     },
     "execution_count": 45,
     "metadata": {},
     "output_type": "execute_result"
    }
   ],
   "source": [
    "df.columns\n",
    "['해제사유발생일', '등기신청일자', '거래유형', '중개사소재지', 'k-홈페이지', 'k-등록일자']"
   ]
  },
  {
   "cell_type": "markdown",
   "metadata": {},
   "source": [
    "## DataPrep"
   ]
  },
  {
   "cell_type": "code",
   "execution_count": 67,
   "metadata": {},
   "outputs": [
    {
     "name": "stdout",
     "output_type": "stream",
     "text": [
      "강남여부    int32\n",
      "dtype: object\n"
     ]
    },
    {
     "data": {
      "application/vnd.jupyter.widget-view+json": {
       "model_id": "c75aeb0e76f54297af090529fb15d630",
       "version_major": 2,
       "version_minor": 0
      },
      "text/plain": [
       "100%|##########| 3/3 [00:00<?, ?it/s]"
      ]
     },
     "metadata": {},
     "output_type": "display_data"
    },
    {
     "data": {
      "application/vnd.jupyter.widget-view+json": {
       "model_id": "762a4c16300646c5b49fea1267d02d09",
       "version_major": 2,
       "version_minor": 0
      },
      "text/plain": [
       "100%|##########| 3/3 [00:00<?, ?it/s]"
      ]
     },
     "metadata": {},
     "output_type": "display_data"
    },
    {
     "data": {
      "application/vnd.jupyter.widget-view+json": {
       "model_id": "ab3994717f844fa8bf5b956d0d1dc5dd",
       "version_major": 2,
       "version_minor": 0
      },
      "text/plain": [
       "100%|##########| 3/3 [00:00<?, ?it/s]"
      ]
     },
     "metadata": {},
     "output_type": "display_data"
    },
    {
     "data": {
      "application/vnd.jupyter.widget-view+json": {
       "model_id": "e3c4e72319654129a193de218fdb0005",
       "version_major": 2,
       "version_minor": 0
      },
      "text/plain": [
       "100%|##########| 3/3 [00:00<?, ?it/s]"
      ]
     },
     "metadata": {},
     "output_type": "display_data"
    },
    {
     "data": {
      "application/vnd.jupyter.widget-view+json": {
       "model_id": "5b8eccb3eb3d44e48b8b546cc4727f1e",
       "version_major": 2,
       "version_minor": 0
      },
      "text/plain": [
       "100%|##########| 3/3 [00:00<?, ?it/s]"
      ]
     },
     "metadata": {},
     "output_type": "display_data"
    },
    {
     "data": {
      "application/vnd.jupyter.widget-view+json": {
       "model_id": "72a69ddb1f29402d8df5f6070bc3291e",
       "version_major": 2,
       "version_minor": 0
      },
      "text/plain": [
       "100%|##########| 3/3 [00:00<?, ?it/s]"
      ]
     },
     "metadata": {},
     "output_type": "display_data"
    },
    {
     "data": {
      "application/vnd.jupyter.widget-view+json": {
       "model_id": "0e49c821c41745fea9cbfc10324c688c",
       "version_major": 2,
       "version_minor": 0
      },
      "text/plain": [
       "  0%|          | 0/9493 [00:00<?, ?it/s]"
      ]
     },
     "metadata": {},
     "output_type": "display_data"
    },
    {
     "name": "stdout",
     "output_type": "stream",
     "text": [
      "Report has been saved to D:\\dev\\upstageailab5-ml-regression-ml_r4\\output\\report\\report_dataprep_eda_df_baseline_cleaned.html!\n"
     ]
    }
   ],
   "source": [
    "from dataprep.eda import create_report\n",
    "from dataprep.eda import plot\n",
    "\n",
    "def convert_column_types(df):\n",
    "    # 정수형으로 변환할 컬럼들\n",
    "    int_columns = ['강남여부', '신축여부']\n",
    "    \n",
    "    for col in int_columns:\n",
    "        if col in df.columns:\n",
    "            # NA 값을 0으로 채우고 정수형으로 변환\n",
    "            df[col] = df[col].fillna(0).astype('int32')\n",
    "    \n",
    "    return df\n",
    "\n",
    "# 데이터프레임에 적용\n",
    "df_converted = convert_column_types(df)\n",
    "print(df_converted[['강남여부']].dtypes)\n",
    "# EDA 보고서 생성\n",
    "report = create_report(df_converted)\n",
    "html_path = os.path.join(config['report_path'],f\"report_dataprep_eda_{df_name}.html\")\n",
    "# HTML 파일로 리포트를 저장\n",
    "report.save(html_path)\n",
    "# report.show_browser()\n",
    "\n",
    "# # 특정 컬럼에 대한 상세 분석\n",
    "# plot(df, \"column_name\")\n",
    "# # 두 변수 간의 관계 분석\n",
    "# plot(df, \"column1\", \"column2\")\n",
    "\n",
    "# # # 결측값 처리\n",
    "# # from dataprep.clean import clean_missing\n",
    "# # from dataprep.clean import clean_outliers\n",
    "# # df_cleaned = clean_missing(df, missing_num='mean', missing_cat='mode')\n",
    "# # df_no_outliers = clean_outliers(df, method='zscore')"
   ]
  },
  {
   "cell_type": "code",
   "execution_count": 26,
   "metadata": {},
   "outputs": [
    {
     "data": {
      "text/plain": [
       "Index(['시군구', '번지', '본번', '부번', '아파트명', '전용면적', '계약년월', '계약일', '층', '건축년도',\n",
       "       '도로명', 'k-단지분류(아파트,주상복합등등)', 'k-전화번호', 'k-팩스번호', 'k-세대타입(분양형태)',\n",
       "       'k-관리방식', 'k-복도유형', 'k-난방방식', 'k-전체동수', 'k-전체세대수', 'k-건설사(시공사)',\n",
       "       'k-시행사', 'k-사용검사일-사용승인일', 'k-연면적', 'k-주거전용면적', 'k-관리비부과면적',\n",
       "       'k-전용면적별세대현황(60㎡이하)', 'k-전용면적별세대현황(60㎡~85㎡이하)', 'k-85㎡~135㎡이하',\n",
       "       'k-홈페이지', 'k-수정일자', '고용보험관리번호', '경비비관리형태', '세대전기계약방법', '청소비관리형태',\n",
       "       '건축면적', '주차대수', '기타/의무/임대/임의=1/2/3/4', '단지승인일', '사용허가여부', '관리비 업로드',\n",
       "       '좌표X', '좌표Y', '단지신청일', 'subway_station_area_count',\n",
       "       'subway_direct_influence_count', 'subway_indirect_influence_count',\n",
       "       'subway_shortest_distance', 'subway_zone_type',\n",
       "       'bus_station_area_count', 'bus_direct_influence_count',\n",
       "       'bus_indirect_influence_count', 'bus_shortest_distance',\n",
       "       'bus_zone_type', 'cluster_dist_transport',\n",
       "       'cluster_dist_transport_count', 'is_test', 'target'],\n",
       "      dtype='object')"
      ]
     },
     "execution_count": 26,
     "metadata": {},
     "output_type": "execute_result"
    }
   ],
   "source": [
    "df.columns"
   ]
  },
  {
   "cell_type": "markdown",
   "metadata": {},
   "source": [
    "## Sweetviz"
   ]
  },
  {
   "cell_type": "code",
   "execution_count": 68,
   "metadata": {},
   "outputs": [
    {
     "data": {
      "application/vnd.jupyter.widget-view+json": {
       "model_id": "1da003ac8e3b44f68dd46df7a85a2a9f",
       "version_major": 2,
       "version_minor": 0
      },
      "text/plain": [
       "                                             |          | [  0%]   00:00 -> (? left)"
      ]
     },
     "metadata": {},
     "output_type": "display_data"
    },
    {
     "name": "stdout",
     "output_type": "stream",
     "text": [
      "Report D:\\dev\\upstageailab5-ml-regression-ml_r4\\output\\report\\report_sweetviz_eda_df_baseline_cleaned.html was generated! NOTEBOOK/COLAB USERS: the web browser MAY not pop up, regardless, the report IS saved in your notebook/colab files.\n"
     ]
    }
   ],
   "source": [
    "import sweetviz as sv\n",
    "# 데이터 로드\n",
    "# df = pd.read_csv('your_dataset.csv')\n",
    "html_path = os.path.join(config['report_path'],f\"report_sweetviz_eda_{df_name}.html\")\n",
    "# 단일 데이터셋 분석\n",
    "report = sv.analyze(df)\n",
    "report.show_html(html_path)\n",
    "\n",
    "# # 두 데이터셋 비교 (예: 훈련셋과 테스트셋)\n",
    "# train_df = pd.read_csv('train.csv')\n",
    "# test_df = pd.read_csv('test.csv')\n",
    "# compare_report = sv.compare([train_df, \"Train\"], [test_df, \"Test\"])\n",
    "# compare_report.show_html('comparison_report.html')\n",
    "\n",
    "# # 타겟 변수 지정 및 특정 설정 적용\n",
    "# report_with_target = sv.analyze(df, target_feat='target_column', \n",
    "#                                 feat_cfg=sv.FeatureConfig(skip=['column_to_skip'], \n",
    "#                                                          force_text=['column_as_text']))\n",
    "# report_with_target.show_html('report_with_target.html')"
   ]
  },
  {
   "cell_type": "markdown",
   "metadata": {},
   "source": [
    "# Re-DataPrep after EDA"
   ]
  },
  {
   "cell_type": "code",
   "execution_count": 59,
   "metadata": {},
   "outputs": [],
   "source": []
  },
  {
   "cell_type": "code",
   "execution_count": 60,
   "metadata": {},
   "outputs": [],
   "source": [
    "# concat = pd.read_csv(os.path.join(prep_path, 'concat_train_test.csv'), index_col=0)"
   ]
  },
  {
   "cell_type": "code",
   "execution_count": 19,
   "metadata": {},
   "outputs": [
    {
     "name": "stdout",
     "output_type": "stream",
     "text": [
      "Analyzing data distributions...\n",
      "\n",
      "Skewness Analysis:\n",
      "건축면적                      16.143615\n",
      "k-연면적                      5.515308\n",
      "k-전체동수                     4.384373\n",
      "k-전용면적별세대현황(60㎡~85㎡이하)     4.358334\n",
      "k-전용면적별세대현황(60㎡이하)         4.102860\n",
      "target                     3.517641\n",
      "주차대수                       3.172313\n",
      "k-주거전용면적                   3.132270\n",
      "k-관리비부과면적                  3.052206\n",
      "k-85㎡~135㎡이하               2.716200\n",
      "k-전체세대수                    2.692889\n",
      "신축여부                       2.158182\n",
      "전용면적                       1.252131\n",
      "층                          1.149168\n",
      "강남여부                       0.543761\n",
      "좌표Y                        0.481409\n",
      "계약일                        0.002171\n",
      "좌표X                       -0.240098\n",
      "건축년도                      -0.343281\n",
      "dtype: float64\n",
      "\n",
      "Applying feature scaling...\n",
      "\n",
      "Analyzing feature correlations...\n"
     ]
    },
    {
     "data": {
      "image/png": "[encoded data removed]",
      "text/plain": [
       "<Figure size 1500x1000 with 2 Axes>"
      ]
     },
     "metadata": {},
     "output_type": "display_data"
    },
    {
     "data": {
      "image/png": "[encoded data removed]",
      "text/plain": [
       "<Figure size 1200x800 with 2 Axes>"
      ]
     },
     "metadata": {},
     "output_type": "display_data"
    },
    {
     "name": "stdout",
     "output_type": "stream",
     "text": [
      "\n",
      "Calculating feature importance...\n"
     ]
    }
   ],
   "source": [
    "import pandas as pd\n",
    "import numpy as np\n",
    "from sklearn.preprocessing import PowerTransformer, RobustScaler\n",
    "from sklearn.feature_selection import mutual_info_regression\n",
    "import seaborn as sns\n",
    "import matplotlib.pyplot as plt\n",
    "\n",
    "class PropertyDataPreprocessor:\n",
    "    def __init__(self, target_col):\n",
    "        self.target_col = target_col\n",
    "        self.scalers = {}\n",
    "        self.feature_importance = {}\n",
    "        self.correlation_groups = {}\n",
    "        \n",
    "    def analyze_distributions(self, df):\n",
    "        \"\"\"데이터 분포 분석 및 시각화\"\"\"\n",
    "        numeric_cols = df.select_dtypes(include=['int64', 'float64']).columns\n",
    "        \n",
    "        fig, axes = plt.subplots(2, 1, figsize=(15, 10))\n",
    "        \n",
    "        # 스케일링 전 분포\n",
    "        sns.boxplot(data=df[numeric_cols], ax=axes[0])\n",
    "        axes[0].set_title('Distribution Before Scaling')\n",
    "        axes[0].tick_params(axis='x', rotation=45)\n",
    "        \n",
    "        # Skewness 분석\n",
    "        skewness = df[numeric_cols].skew().sort_values(ascending=False)\n",
    "        print(\"\\nSkewness Analysis:\")\n",
    "        print(skewness)\n",
    "        \n",
    "        return skewness\n",
    "        \n",
    "    def scale_features(self, df):\n",
    "        \"\"\"특성별 적절한 스케일링 적용\"\"\"\n",
    "        scaled_df = df.copy()\n",
    "        numeric_cols = df.select_dtypes(include=['int64', 'float64']).columns\n",
    "        \n",
    "        for col in numeric_cols:\n",
    "            if col == self.target_col:\n",
    "                continue\n",
    "                \n",
    "            skewness = df[col].skew()\n",
    "            \n",
    "            # 좌표나 날짜 관련 컬럼은 RobustScaler 사용\n",
    "            if '좌표' in col or '년도' in col or '날짜' in col:\n",
    "                scaler = RobustScaler()\n",
    "            # 심한 왜도는 PowerTransformer 사용\n",
    "            elif abs(skewness) > 1:\n",
    "                scaler = PowerTransformer(method='yeo-johnson')\n",
    "            else:\n",
    "                scaler = RobustScaler()\n",
    "                \n",
    "            scaled_df[col] = scaler.fit_transform(df[[col]])\n",
    "            self.scalers[col] = scaler\n",
    "            \n",
    "        return scaled_df\n",
    "        \n",
    "    def analyze_correlations(self, df, threshold=0.7):\n",
    "        \"\"\"상관관계 분석 및 그룹화\"\"\"\n",
    "        numeric_cols = df.select_dtypes(include=['int64', 'float64']).columns\n",
    "        corr_matrix = df[numeric_cols].corr()\n",
    "        \n",
    "        # 상관관계 히트맵 시각화\n",
    "        plt.figure(figsize=(12, 8))\n",
    "        sns.heatmap(corr_matrix, annot=True, cmap='coolwarm', center=0)\n",
    "        plt.title('Feature Correlation Heatmap')\n",
    "        plt.tight_layout()\n",
    "        plt.show()\n",
    "        \n",
    "        # 높은 상관관계를 가진 피처 그룹화\n",
    "        self.correlation_groups = {}\n",
    "        processed_features = set()\n",
    "        \n",
    "        for i in range(len(numeric_cols)):\n",
    "            feature1 = numeric_cols[i]\n",
    "            if feature1 in processed_features:\n",
    "                continue\n",
    "                \n",
    "            correlated_features = {feature1}\n",
    "            for j in range(i + 1, len(numeric_cols)):\n",
    "                feature2 = numeric_cols[j]\n",
    "                if abs(corr_matrix.iloc[i, j]) > threshold:\n",
    "                    correlated_features.add(feature2)\n",
    "                    \n",
    "            if len(correlated_features) > 1:\n",
    "                self.correlation_groups[feature1] = correlated_features\n",
    "                processed_features.update(correlated_features)\n",
    "                \n",
    "        return self.correlation_groups\n",
    "        \n",
    "    def calculate_feature_importance(self, df):\n",
    "        \"\"\"특성 중요도 계산\"\"\"\n",
    "        X = df.drop(columns=[self.target_col])\n",
    "        y = df[self.target_col]\n",
    "        \n",
    "        importance_scores = mutual_info_regression(X, y)\n",
    "        self.feature_importance = dict(zip(X.columns, importance_scores))\n",
    "        \n",
    "        # 중요도 시각화\n",
    "        importance_df = pd.DataFrame(\n",
    "            importance_scores,\n",
    "            index=X.columns,\n",
    "            columns=['importance']\n",
    "        ).sort_values('importance', ascending=True)\n",
    "        \n",
    "        plt.figure(figsize=(10, 6))\n",
    "        importance_df.plot(kind='barh')\n",
    "        plt.title('Feature Importance Scores')\n",
    "        plt.tight_layout()\n",
    "        plt.show()\n",
    "        \n",
    "        return self.feature_importance\n",
    "        \n",
    "    def select_features(self, df, correlation_threshold=0.7, importance_threshold=0.01):\n",
    "        \"\"\"최종 특성 선택\"\"\"\n",
    "        selected_features = set()\n",
    "        \n",
    "        # 상관관계 그룹에서 가장 중요한 특성 선택\n",
    "        for group in self.correlation_groups.values():\n",
    "            best_feature = max(group, key=lambda x: self.feature_importance.get(x, 0))\n",
    "            selected_features.add(best_feature)\n",
    "        \n",
    "        # 상관관계가 낮은 중요 특성 추가\n",
    "        uncorrelated_features = set(df.columns) - set.union(*self.correlation_groups.values())\n",
    "        for feature in uncorrelated_features:\n",
    "            if feature != self.target_col and self.feature_importance.get(feature, 0) > importance_threshold:\n",
    "                selected_features.add(feature)\n",
    "                \n",
    "        return list(selected_features)\n",
    "\n",
    "# 사용 예시\n",
    "def preprocess_property_data(train_df, test_df, target_col='매매가격'):\n",
    "    \"\"\"부동산 데이터 전처리 파이프라인\"\"\"\n",
    "    preprocessor = PropertyDataPreprocessor(target_col=target_col)\n",
    "    \n",
    "    # 1. 데이터 분포 분석\n",
    "    print(\"Analyzing data distributions...\")\n",
    "    skewness = preprocessor.analyze_distributions(train_df)\n",
    "    \n",
    "    # 2. 스케일링\n",
    "    print(\"\\nApplying feature scaling...\")\n",
    "    scaled_train = preprocessor.scale_features(train_df)\n",
    "    scaled_test = test_df.copy()\n",
    "    for col, scaler in preprocessor.scalers.items():\n",
    "        if col in test_df.columns:\n",
    "            scaled_test[col] = scaler.transform(test_df[[col]])\n",
    "    \n",
    "    # 3. 상관관계 분석\n",
    "    print(\"\\nAnalyzing feature correlations...\")\n",
    "    correlation_groups = preprocessor.analyze_correlations(scaled_train)\n",
    "    \n",
    "    # 4. 특성 중요도 계산\n",
    "    print(\"\\nCalculating feature importance...\")\n",
    "    feature_importance = preprocessor.calculate_feature_importance(scaled_train)\n",
    "    \n",
    "    # 5. 최종 특성 선택\n",
    "    print(\"\\nSelecting final features...\")\n",
    "    selected_features = preprocessor.select_features(scaled_train)\n",
    "    print(selected_features)\n",
    "    # 최종 데이터셋 생성\n",
    "    X_train = scaled_train[selected_features]\n",
    "    y_train = train_df[target_col]\n",
    "    X_test = scaled_test[selected_features]\n",
    "    \n",
    "    return X_train, y_train, X_test, preprocessor\n",
    "\n",
    "\n",
    "train_data, test_data = DataPrep.unconcat_train_test(concat)\n",
    "\n",
    "# y_train = train_data['target']\n",
    "# X_train = train_data.drop('target', inplace=False)\n",
    "# X_test = test_data\n",
    "\n",
    "# 전처리 파이프라인 실행\n",
    "X_train, y_train, X_test, preprocessor = preprocess_property_data(\n",
    "    train_data,\n",
    "    test_data,\n",
    "    target_col='target'\n",
    ")\n",
    "\n",
    "# 결과 출력\n",
    "print(\"\\nFinal selected features:\", len(X_train.columns))\n",
    "print(X_train.columns.tolist())\n",
    "\n",
    "# 상위 5개 중요 특성\n",
    "top_features = sorted(\n",
    "    preprocessor.feature_importance.items(),\n",
    "    key=lambda x: x[1],\n",
    "    reverse=True\n",
    ")[:5]\n",
    "print(\"\\nTop 5 important features:\")\n",
    "for feature, importance in top_features:\n",
    "    print(f\"{feature}: {importance:.4f}\")\n",
    "\n"
   ]
  },
  {
   "cell_type": "code",
   "execution_count": null,
   "metadata": {},
   "outputs": [],
   "source": [
    "\n",
    "X_train['target']=y_train\n",
    "concat_scaled_selected_v2 = DataPrep.concat_train_test(X_train, X_test)\n",
    "\n",
    "concat_scaled_selected_v2.to_csv(os.path.join(prep_path, 'df_concat_scaled_selected.csv'), index=False)"
   ]
  },
  {
   "cell_type": "code",
   "execution_count": 18,
   "metadata": {},
   "outputs": [
    {
     "data": {
      "text/plain": [
       "Index(['번지', '본번', '부번', '아파트명', '전용면적', '계약일', '층', '건축년도', '도로명',\n",
       "       'k-단지분류(아파트,주상복합등등)', 'k-전화번호', 'k-팩스번호', 'k-세대타입(분양형태)', 'k-관리방식',\n",
       "       'k-복도유형', 'k-난방방식', 'k-전체동수', 'k-전체세대수', 'k-건설사(시공사)', 'k-시행사',\n",
       "       'k-사용검사일-사용승인일', 'k-연면적', 'k-주거전용면적', 'k-관리비부과면적', 'k-전용면적별세대현황(60㎡이하)',\n",
       "       'k-전용면적별세대현황(60㎡~85㎡이하)', 'k-85㎡~135㎡이하', 'k-홈페이지', 'k-수정일자',\n",
       "       '고용보험관리번호', '경비비관리형태', '세대전기계약방법', '청소비관리형태', '건축면적', '주차대수',\n",
       "       '기타/의무/임대/임의=1/2/3/4', '단지승인일', '사용허가여부', '관리비 업로드', '좌표X', '좌표Y',\n",
       "       '단지신청일', '구', '동', '계약년', '계약월', '강남여부', '신축여부'],\n",
       "      dtype='object')"
      ]
     },
     "execution_count": 18,
     "metadata": {},
     "output_type": "execute_result"
    }
   ],
   "source": [
    "test_data.columns"
   ]
  },
  {
   "cell_type": "code",
   "execution_count": 61,
   "metadata": {},
   "outputs": [],
   "source": [
    "train_df, test_df = DataPrep.unconcat_train_test(concat)"
   ]
  },
  {
   "cell_type": "code",
   "execution_count": 62,
   "metadata": {},
   "outputs": [
    {
     "data": {
      "text/plain": [
       "Index(['본번', '부번', '아파트명', '전용면적', '계약일', '층', '건축년도', '도로명',\n",
       "       'k-단지분류(아파트,주상복합등등)', 'k-전화번호', 'k-팩스번호', 'k-세대타입(분양형태)', 'k-관리방식',\n",
       "       'k-복도유형', 'k-난방방식', 'k-전체동수', 'k-전체세대수', 'k-건설사(시공사)', 'k-시행사',\n",
       "       'k-사용검사일-사용승인일', 'k-연면적', 'k-주거전용면적', 'k-관리비부과면적', 'k-전용면적별세대현황(60㎡이하)',\n",
       "       'k-전용면적별세대현황(60㎡~85㎡이하)', 'k-85㎡~135㎡이하', 'k-홈페이지', 'k-수정일자',\n",
       "       '고용보험관리번호', '경비비관리형태', '세대전기계약방법', '청소비관리형태', '건축면적', '주차대수',\n",
       "       '기타/의무/임대/임의=1/2/3/4', '단지승인일', '사용허가여부', '관리비 업로드', '좌표X', '좌표Y',\n",
       "       '단지신청일', 'target', '구', '동', '계약년', '계약월', '강남여부', '신축여부'],\n",
       "      dtype='object')"
      ]
     },
     "execution_count": 62,
     "metadata": {},
     "output_type": "execute_result"
    }
   ],
   "source": [
    "train_df.columns\n"
   ]
  },
  {
   "cell_type": "code",
   "execution_count": 63,
   "metadata": {},
   "outputs": [
    {
     "data": {
      "text/plain": [
       "Index(['본번', '부번', '아파트명', '전용면적', '계약일', '층', '건축년도', '도로명',\n",
       "       'k-단지분류(아파트,주상복합등등)', 'k-전화번호', 'k-팩스번호', 'k-세대타입(분양형태)', 'k-관리방식',\n",
       "       'k-복도유형', 'k-난방방식', 'k-전체동수', 'k-전체세대수', 'k-건설사(시공사)', 'k-시행사',\n",
       "       'k-사용검사일-사용승인일', 'k-연면적', 'k-주거전용면적', 'k-관리비부과면적', 'k-전용면적별세대현황(60㎡이하)',\n",
       "       'k-전용면적별세대현황(60㎡~85㎡이하)', 'k-85㎡~135㎡이하', 'k-홈페이지', 'k-수정일자',\n",
       "       '고용보험관리번호', '경비비관리형태', '세대전기계약방법', '청소비관리형태', '건축면적', '주차대수',\n",
       "       '기타/의무/임대/임의=1/2/3/4', '단지승인일', '사용허가여부', '관리비 업로드', '좌표X', '좌표Y',\n",
       "       '단지신청일', '구', '동', '계약년', '계약월', '강남여부', '신축여부'],\n",
       "      dtype='object')"
      ]
     },
     "execution_count": 63,
     "metadata": {},
     "output_type": "execute_result"
    }
   ],
   "source": [
    "test_df.columns\n"
   ]
  },
  {
   "cell_type": "code",
   "execution_count": 64,
   "metadata": {},
   "outputs": [
    {
     "name": "stdout",
     "output_type": "stream",
     "text": [
      "Combined data shape: (1128094, 47)\n",
      "Numeric columns:32 \n",
      "['본번', '부번', '아파트명', '전용면적', '계약일', '층', '건축년도', '도로명', 'k-전화번호', 'k-팩스번호', 'k-전체동수', 'k-전체세대수', 'k-건설사(시공사)', 'k-시행사', 'k-사용검사일-사용승인일', 'k-연면적', 'k-주거전용면적', 'k-관리비부과면적', 'k-전용면적별세대현황(60㎡이하)', 'k-전용면적별세대현황(60㎡~85㎡이하)', 'k-85㎡~135㎡이하', 'k-수정일자', '건축면적', '주차대수', '단지승인일', '좌표X', '좌표Y', '단지신청일', '구', '동', '계약년', '계약월']\n",
      "Categorical columns:15 \n",
      "['k-단지분류(아파트,주상복합등등)', 'k-세대타입(분양형태)', 'k-관리방식', 'k-복도유형', 'k-난방방식', 'k-홈페이지', '고용보험관리번호', '경비비관리형태', '세대전기계약방법', '청소비관리형태', '기타/의무/임대/임의=1/2/3/4', '사용허가여부', '관리비 업로드', '강남여부', '신축여부']\n",
      "Calculating correlation with threshold: 0.9\n"
     ]
    },
    {
     "name": "stderr",
     "output_type": "stream",
     "text": [
      "100%|██████████| 47/47 [00:00<00:00, 1424.29it/s]\n"
     ]
    },
    {
     "name": "stdout",
     "output_type": "stream",
     "text": [
      "Found 16 groups of correlated features.\n",
      "{'k-전화번호': {'k-단지분류(아파트,주상복합등등)', 'k-전화번호'}, 'k-팩스번호': {'k-팩스번호', 'k-전화번호'}, 'k-세대타입(분양형태)': {'k-세대타입(분양형태)', 'k-단지분류(아파트,주상복합등등)'}, 'k-관리방식': {'k-세대타입(분양형태)', 'k-관리방식', 'k-단지분류(아파트,주상복합등등)'}, 'k-사용검사일-사용승인일': {'k-세대타입(분양형태)', 'k-관리방식', 'k-사용검사일-사용승인일', 'k-단지분류(아파트,주상복합등등)'}, 'k-주거전용면적': {'k-전체세대수', 'k-주거전용면적', 'k-연면적'}, 'k-관리비부과면적': {'k-주거전용면적', 'k-관리비부과면적', 'k-연면적'}, 'k-수정일자': {'k-세대타입(분양형태)', 'k-사용검사일-사용승인일', 'k-수정일자', 'k-단지분류(아파트,주상복합등등)'}, '경비비관리형태': {'k-세대타입(분양형태)', 'k-단지분류(아파트,주상복합등등)', '경비비관리형태', 'k-사용검사일-사용승인일', 'k-관리방식'}, '세대전기계약방법': {'세대전기계약방법', 'k-단지분류(아파트,주상복합등등)'}, '청소비관리형태': {'k-세대타입(분양형태)', 'k-단지분류(아파트,주상복합등등)', '경비비관리형태', 'k-사용검사일-사용승인일', 'k-관리방식', '청소비관리형태'}, '기타/의무/임대/임의=1/2/3/4': {'k-세대타입(분양형태)', 'k-단지분류(아파트,주상복합등등)', '경비비관리형태', '기타/의무/임대/임의=1/2/3/4', '세대전기계약방법', 'k-사용검사일-사용승인일', 'k-수정일자', 'k-전화번호', 'k-관리방식', '청소비관리형태'}, '단지승인일': {'k-세대타입(분양형태)', 'k-단지분류(아파트,주상복합등등)', '단지승인일', '경비비관리형태', '기타/의무/임대/임의=1/2/3/4', 'k-사용검사일-사용승인일', 'k-전화번호', 'k-관리방식', '청소비관리형태'}, '사용허가여부': {'k-세대타입(분양형태)', '사용허가여부', 'k-단지분류(아파트,주상복합등등)', '단지승인일', '경비비관리형태', '기타/의무/임대/임의=1/2/3/4', '세대전기계약방법', 'k-사용검사일-사용승인일', 'k-수정일자', 'k-전화번호', 'k-관리방식', 'k-팩스번호', '청소비관리형태'}, '관리비 업로드': {'k-세대타입(분양형태)', '관리비 업로드', '사용허가여부', 'k-단지분류(아파트,주상복합등등)', '단지승인일', '경비비관리형태', '기타/의무/임대/임의=1/2/3/4', '세대전기계약방법', 'k-사용검사일-사용승인일', 'k-수정일자', 'k-전화번호', 'k-관리방식', 'k-팩스번호', '청소비관리형태'}, '단지신청일': {'k-세대타입(분양형태)', '관리비 업로드', 'k-단지분류(아파트,주상복합등등)', '단지승인일', '경비비관리형태', '기타/의무/임대/임의=1/2/3/4', '세대전기계약방법', '단지신청일', 'k-사용검사일-사용승인일', 'k-수정일자', 'k-전화번호', 'k-관리방식', '사용허가여부', '청소비관리형태'}}\n",
      "'calculate_correlation' 함수 실행 시간: 10.912009초\n",
      "Selecting important features from 16 groups\n"
     ]
    },
    {
     "name": "stderr",
     "output_type": "stream",
     "text": [
      "100%|██████████| 47/47 [20:26<00:00, 26.09s/it]\n",
      "100%|██████████| 16/16 [00:00<00:00, 16004.98it/s]\n"
     ]
    },
    {
     "name": "stdout",
     "output_type": "stream",
     "text": [
      "Found 28 uncorrelated features: {'동', 'k-복도유형', '부번', '주차대수', 'k-홈페이지', '구', '도로명', 'k-전체동수', '전용면적', '건축년도', '고용보험관리번호', 'k-시행사', 'k-전용면적별세대현황(60㎡이하)', '강남여부', '좌표Y', '계약일', 'k-전용면적별세대현황(60㎡~85㎡이하)', '좌표X', '본번', '층', 'k-85㎡~135㎡이하', '계약월', 'k-건설사(시공사)', '아파트명', '건축면적', 'k-난방방식', '신축여부', '계약년'}\n",
      "'select_important_features' 함수 실행 시간: 1226.897969초\n",
      "Selected features: 36\n",
      "Train shape: (1118822, 36)\n",
      "Test shape: (9272, 36)\n",
      "'preprocess_and_select' 함수 실행 시간: 1344.220491초\n",
      "0    1118822\n",
      "1       9272\n",
      "Name: is_test, dtype: int64\n"
     ]
    }
   ],
   "source": [
    "X_train_scaled, y_train, X_test_scaled, selected_features, scaler_dict = preprocess_and_select(\n",
    "    train_df=train_df,\n",
    "    test_df=test_df,\n",
    "    target_col='target'\n",
    ")\n",
    "X_train_scaled['target'] = y_train\n",
    "concat = DataPrep.concat_train_test(X_train_scaled, X_test_scaled)\n"
   ]
  },
  {
   "cell_type": "code",
   "execution_count": 81,
   "metadata": {},
   "outputs": [],
   "source": [
    "concat.to_csv(os.path.join(prep_path, 'concat_scaled_selected.csv'), index=False)\n"
   ]
  },
  {
   "cell_type": "code",
   "execution_count": 82,
   "metadata": {},
   "outputs": [
    {
     "data": {
      "text/plain": [
       "Index(['번지', '본번', '부번', '아파트명', '전용면적', '계약일', '층', '건축년도', '도로명',\n",
       "       'k-단지분류(아파트,주상복합등등)', 'k-전화번호', 'k-팩스번호', 'k-세대타입(분양형태)', 'k-관리방식',\n",
       "       'k-복도유형', 'k-난방방식', 'k-전체동수', 'k-전체세대수', 'k-건설사(시공사)', 'k-시행사',\n",
       "       'k-사용검사일-사용승인일', 'k-연면적', 'k-주거전용면적', 'k-관리비부과면적', 'k-전용면적별세대현황(60㎡이하)',\n",
       "       'k-전용면적별세대현황(60㎡~85㎡이하)', 'k-85㎡~135㎡이하', 'k-홈페이지', 'k-수정일자',\n",
       "       '고용보험관리번호', '경비비관리형태', '세대전기계약방법', '청소비관리형태', '건축면적', '주차대수',\n",
       "       '기타/의무/임대/임의=1/2/3/4', '단지승인일', '사용허가여부', '관리비 업로드', '좌표X', '좌표Y',\n",
       "       '단지신청일', 'target', '구', '동', '계약년', '계약월', '강남여부', '신축여부', 'is_test'],\n",
       "      dtype='object')"
      ]
     },
     "execution_count": 82,
     "metadata": {},
     "output_type": "execute_result"
    }
   ],
   "source": [
    "concat_scaled_selected = pd.read_csv(os.path.join(prep_path, 'concat_scaled_selected.csv'))\n",
    "\n",
    "concat_scaled_selected.columns\n"
   ]
  },
  {
   "cell_type": "code",
   "execution_count": 83,
   "metadata": {},
   "outputs": [
    {
     "data": {
      "text/plain": [
       "Index(['번지', '본번', '부번', '아파트명', '전용면적', '계약일', '층', '건축년도', '도로명',\n",
       "       'k-단지분류(아파트,주상복합등등)', 'k-전화번호', 'k-팩스번호', 'k-세대타입(분양형태)', 'k-관리방식',\n",
       "       'k-복도유형', 'k-난방방식', 'k-전체동수', 'k-전체세대수', 'k-건설사(시공사)', 'k-시행사',\n",
       "       'k-사용검사일-사용승인일', 'k-연면적', 'k-주거전용면적', 'k-관리비부과면적', 'k-전용면적별세대현황(60㎡이하)',\n",
       "       'k-전용면적별세대현황(60㎡~85㎡이하)', 'k-85㎡~135㎡이하', 'k-홈페이지', 'k-수정일자',\n",
       "       '고용보험관리번호', '경비비관리형태', '세대전기계약방법', '청소비관리형태', '건축면적', '주차대수',\n",
       "       '기타/의무/임대/임의=1/2/3/4', '단지승인일', '사용허가여부', '관리비 업로드', '좌표X', '좌표Y',\n",
       "       '단지신청일', 'target', '구', '동', '계약년', '계약월', '강남여부', '신축여부', 'is_test'],\n",
       "      dtype='object')"
      ]
     },
     "execution_count": 83,
     "metadata": {},
     "output_type": "execute_result"
    }
   ],
   "source": [
    "\n",
    "concat_scaled_selected.columns"
   ]
  },
  {
   "cell_type": "code",
   "execution_count": 65,
   "metadata": {},
   "outputs": [],
   "source": [
    "concat.to_csv(os.path.join(prep_path, 'concat_scaled_selected.csv'), index=False)\n"
   ]
  },
  {
   "cell_type": "code",
   "execution_count": 70,
   "metadata": {},
   "outputs": [],
   "source": [
    "import pickle\n",
    "path_feat_pickle = os.path.join(prep_path, 'df_feat.pickle')\n",
    "with open(path_feat_pickle, 'rb') as f:\n",
    "    feat_eng_data = pickle.load(f)"
   ]
  },
  {
   "cell_type": "code",
   "execution_count": 74,
   "metadata": {},
   "outputs": [
    {
     "name": "stdout",
     "output_type": "stream",
     "text": [
      "Index(['번지', '본번', '부번', '아파트명', '전용면적', '계약일', '층', '건축년도', '도로명',\n",
      "       'k-단지분류(아파트,주상복합등등)', 'k-전화번호', 'k-팩스번호', 'k-세대타입(분양형태)', 'k-관리방식',\n",
      "       'k-복도유형', 'k-난방방식', 'k-전체동수', 'k-전체세대수', 'k-건설사(시공사)', 'k-시행사',\n",
      "       'k-사용검사일-사용승인일', 'k-연면적', 'k-주거전용면적', 'k-관리비부과면적', 'k-전용면적별세대현황(60㎡이하)',\n",
      "       'k-전용면적별세대현황(60㎡~85㎡이하)', 'k-85㎡~135㎡이하', 'k-홈페이지', 'k-수정일자',\n",
      "       '고용보험관리번호', '경비비관리형태', '세대전기계약방법', '청소비관리형태', '건축면적', '주차대수',\n",
      "       '기타/의무/임대/임의=1/2/3/4', '단지승인일', '사용허가여부', '관리비 업로드', '좌표X', '좌표Y',\n",
      "       '단지신청일', 'target', '구', '동', '계약년', '계약월', '강남여부', '신축여부'],\n",
      "      dtype='object')\n",
      "Index(['번지', '본번', '부번', '아파트명', '전용면적', '계약일', '층', '건축년도', '도로명',\n",
      "       'k-단지분류(아파트,주상복합등등)', 'k-전화번호', 'k-팩스번호', 'k-세대타입(분양형태)', 'k-관리방식',\n",
      "       'k-복도유형', 'k-난방방식', 'k-전체동수', 'k-전체세대수', 'k-건설사(시공사)', 'k-시행사',\n",
      "       'k-사용검사일-사용승인일', 'k-연면적', 'k-주거전용면적', 'k-관리비부과면적', 'k-전용면적별세대현황(60㎡이하)',\n",
      "       'k-전용면적별세대현황(60㎡~85㎡이하)', 'k-85㎡~135㎡이하', 'k-홈페이지', 'k-수정일자',\n",
      "       '고용보험관리번호', '경비비관리형태', '세대전기계약방법', '청소비관리형태', '건축면적', '주차대수',\n",
      "       '기타/의무/임대/임의=1/2/3/4', '단지승인일', '사용허가여부', '관리비 업로드', '좌표X', '좌표Y',\n",
      "       '단지신청일', 'target', '구', '동', '계약년', '계약월', '강남여부', '신축여부'],\n",
      "      dtype='object')\n"
     ]
    },
    {
     "ename": "AttributeError",
     "evalue": "type object 'Utils' has no attribute 'concat_train_test'",
     "output_type": "error",
     "traceback": [
      "\u001b[1;31m---------------------------------------------------------------------------\u001b[0m",
      "\u001b[1;31mAttributeError\u001b[0m                            Traceback (most recent call last)",
      "Cell \u001b[1;32mIn[74], line 7\u001b[0m\n\u001b[0;32m      4\u001b[0m \u001b[38;5;28mprint\u001b[39m(dt_train\u001b[38;5;241m.\u001b[39mcolumns)\n\u001b[0;32m      5\u001b[0m \u001b[38;5;28mprint\u001b[39m(dt_test\u001b[38;5;241m.\u001b[39mcolumns)\n\u001b[1;32m----> 7\u001b[0m concat \u001b[38;5;241m=\u001b[39m \u001b[43mUtils\u001b[49m\u001b[38;5;241;43m.\u001b[39;49m\u001b[43mconcat_train_test\u001b[49m(dt_train, dt_test)\n\u001b[0;32m      8\u001b[0m concat\u001b[38;5;241m.\u001b[39mto_csv(os\u001b[38;5;241m.\u001b[39mpath\u001b[38;5;241m.\u001b[39mjoin(prep_path, \u001b[38;5;124m'\u001b[39m\u001b[38;5;124mconcat_scaled_selected_re.csv\u001b[39m\u001b[38;5;124m'\u001b[39m), index\u001b[38;5;241m=\u001b[39m\u001b[38;5;28;01mFalse\u001b[39;00m)\n",
      "\u001b[1;31mAttributeError\u001b[0m: type object 'Utils' has no attribute 'concat_train_test'"
     ]
    }
   ],
   "source": [
    "dt_train = feat_eng_data.get('dt_train')\n",
    "dt_test = feat_eng_data.get('dt_test')\n",
    "\n",
    "print(dt_train.columns)\n",
    "print(dt_test.columns)\n",
    "\n",
    "\n",
    "concat = Utils.concat_train_test(dt_train, dt_test)\n",
    "concat.to_csv(os.path.join(prep_path, 'concat_scaled_selected_re.csv'), index=False)\n",
    "\n",
    "\n"
   ]
  },
  {
   "cell_type": "code",
   "execution_count": null,
   "metadata": {},
   "outputs": [],
   "source": []
  },
  {
   "cell_type": "code",
   "execution_count": 31,
   "metadata": {},
   "outputs": [
    {
     "name": "stdout",
     "output_type": "stream",
     "text": [
      "Scaling numeric features\n"
     ]
    },
    {
     "name": "stderr",
     "output_type": "stream",
     "text": [
      "100%|██████████| 48/48 [01:28<00:00,  1.84s/it]\n"
     ]
    },
    {
     "name": "stdout",
     "output_type": "stream",
     "text": [
      "'scale_numeric_features' 함수 실행 시간: 88.672610초\n",
      "Calculating correlation with threshold: 0.9\n"
     ]
    },
    {
     "name": "stderr",
     "output_type": "stream",
     "text": [
      "100%|██████████| 48/48 [00:00<00:00, 1297.31it/s]\n"
     ]
    },
    {
     "name": "stdout",
     "output_type": "stream",
     "text": [
      "Found 18 groups of correlated features.\n",
      "{'k-전화번호': {'k-단지분류(아파트,주상복합등등)', 'k-전화번호'}, 'k-팩스번호': {'k-팩스번호', 'k-단지분류(아파트,주상복합등등)', 'k-전화번호'}, 'k-세대타입(분양형태)': {'k-세대타입(분양형태)', 'k-팩스번호', 'k-단지분류(아파트,주상복합등등)', 'k-전화번호'}, 'k-관리방식': {'k-세대타입(분양형태)', 'k-단지분류(아파트,주상복합등등)', 'k-전화번호', 'k-관리방식', 'k-팩스번호'}, 'k-복도유형': {'k-세대타입(분양형태)', 'k-단지분류(아파트,주상복합등등)', 'k-복도유형', 'k-전화번호', 'k-관리방식', 'k-팩스번호'}, 'k-난방방식': {'k-세대타입(분양형태)', 'k-단지분류(아파트,주상복합등등)', 'k-복도유형', 'k-난방방식', 'k-전화번호', 'k-관리방식', 'k-팩스번호'}, 'k-사용검사일-사용승인일': {'k-세대타입(분양형태)', 'k-단지분류(아파트,주상복합등등)', 'k-복도유형', 'k-난방방식', 'k-사용검사일-사용승인일', 'k-관리방식'}, 'k-주거전용면적': {'k-전체세대수', 'k-주거전용면적', 'k-연면적'}, 'k-관리비부과면적': {'k-주거전용면적', 'k-관리비부과면적', 'k-연면적'}, 'k-수정일자': {'k-세대타입(분양형태)', 'k-단지분류(아파트,주상복합등등)', 'k-복도유형', 'k-난방방식', 'k-사용검사일-사용승인일', 'k-수정일자', 'k-관리방식'}, '경비비관리형태': {'k-세대타입(분양형태)', 'k-단지분류(아파트,주상복합등등)', 'k-복도유형', '경비비관리형태', 'k-난방방식', 'k-사용검사일-사용승인일', 'k-수정일자', 'k-전화번호', 'k-관리방식', 'k-팩스번호'}, '세대전기계약방법': {'k-세대타입(분양형태)', 'k-단지분류(아파트,주상복합등등)', 'k-복도유형', '경비비관리형태', 'k-난방방식', '세대전기계약방법', 'k-사용검사일-사용승인일', 'k-수정일자', 'k-전화번호', 'k-관리방식'}, '청소비관리형태': {'k-세대타입(분양형태)', 'k-단지분류(아파트,주상복합등등)', 'k-복도유형', '경비비관리형태', 'k-난방방식', '세대전기계약방법', 'k-사용검사일-사용승인일', 'k-수정일자', 'k-전화번호', 'k-관리방식', 'k-팩스번호', '청소비관리형태'}, '기타/의무/임대/임의=1/2/3/4': {'k-세대타입(분양형태)', 'k-단지분류(아파트,주상복합등등)', 'k-복도유형', '경비비관리형태', 'k-난방방식', '기타/의무/임대/임의=1/2/3/4', '세대전기계약방법', 'k-사용검사일-사용승인일', 'k-수정일자', 'k-전화번호', 'k-관리방식', 'k-팩스번호', '청소비관리형태'}, '단지승인일': {'k-세대타입(분양형태)', 'k-단지분류(아파트,주상복합등등)', '단지승인일', 'k-복도유형', '경비비관리형태', 'k-난방방식', '기타/의무/임대/임의=1/2/3/4', '세대전기계약방법', 'k-사용검사일-사용승인일', 'k-전화번호', 'k-관리방식', '청소비관리형태'}, '사용허가여부': {'k-세대타입(분양형태)', '사용허가여부', 'k-단지분류(아파트,주상복합등등)', 'k-복도유형', '단지승인일', '경비비관리형태', 'k-난방방식', '기타/의무/임대/임의=1/2/3/4', '세대전기계약방법', 'k-사용검사일-사용승인일', 'k-수정일자', 'k-전화번호', 'k-관리방식', 'k-팩스번호', '청소비관리형태'}, '관리비 업로드': {'k-세대타입(분양형태)', '관리비 업로드', '사용허가여부', 'k-단지분류(아파트,주상복합등등)', 'k-복도유형', '단지승인일', '경비비관리형태', 'k-난방방식', '기타/의무/임대/임의=1/2/3/4', '세대전기계약방법', 'k-사용검사일-사용승인일', 'k-수정일자', 'k-전화번호', 'k-관리방식', 'k-팩스번호', '청소비관리형태'}, '단지신청일': {'k-세대타입(분양형태)', '관리비 업로드', 'k-단지분류(아파트,주상복합등등)', 'k-복도유형', '단지승인일', '경비비관리형태', 'k-난방방식', '기타/의무/임대/임의=1/2/3/4', '세대전기계약방법', '단지신청일', 'k-사용검사일-사용승인일', 'k-수정일자', 'k-전화번호', 'k-관리방식', '사용허가여부', '청소비관리형태'}}\n",
      "'calculate_correlation' 함수 실행 시간: 7.735146초\n",
      "Selecting important features from 18 groups\n"
     ]
    },
    {
     "name": "stderr",
     "output_type": "stream",
     "text": [
      "100%|██████████| 48/48 [12:07<00:00, 15.15s/it]\n",
      "100%|██████████| 18/18 [00:00<?, ?it/s]"
     ]
    },
    {
     "name": "stdout",
     "output_type": "stream",
     "text": [
      "Found 27 uncorrelated features: {'동', '부번', '주차대수', 'k-홈페이지', '구', '도로명', 'k-전체동수', '전용면적', '건축년도', '번지', '고용보험관리번호', 'k-시행사', 'k-전용면적별세대현황(60㎡이하)', '강남여부', '좌표Y', '계약일', 'k-전용면적별세대현황(60㎡~85㎡이하)', '좌표X', '본번', '층', 'k-85㎡~135㎡이하', '계약월', 'k-건설사(시공사)', '아파트명', '건축면적', '신축여부', '계약년'}\n",
      "'select_important_features' 함수 실행 시간: 727.605931초\n",
      "Selected 32 features: ['동', '부번', 'k-연면적', '주차대수', 'k-홈페이지', '구', '도로명', 'k-전체동수', 'k-사용검사일-사용승인일', '전용면적', '건축년도', '번지', '고용보험관리번호', 'k-시행사', 'k-전용면적별세대현황(60㎡이하)', '강남여부', '좌표Y', '계약일', 'k-수정일자', 'k-전용면적별세대현황(60㎡~85㎡이하)', '좌표X', '본번', '층', 'k-85㎡~135㎡이하', '계약월', 'k-건설사(시공사)', 'k-관리비부과면적', '아파트명', '건축면적', '신축여부', '계약년', 'k-전화번호']\n",
      "'preprocess_and_select' 함수 실행 시간: 824.097681초\n"
     ]
    },
    {
     "name": "stderr",
     "output_type": "stream",
     "text": [
      "\n"
     ]
    }
   ],
   "source": [
    "df=concat\n",
    "df_id = df[col_id]\n",
    "df = df.drop(columns=col_id, inplace=False)\n",
    "scaled_df, selected_df, selected_features = preprocess_and_select(df)"
   ]
  },
  {
   "cell_type": "code",
   "execution_count": 34,
   "metadata": {},
   "outputs": [
    {
     "data": {
      "text/plain": [
       "Index(['is_test', 'target', '동', '부번', 'k-연면적', '주차대수', 'k-홈페이지', '구', '도로명',\n",
       "       'k-전체동수', 'k-사용검사일-사용승인일', '전용면적', '건축년도', '번지', '고용보험관리번호', 'k-시행사',\n",
       "       'k-전용면적별세대현황(60㎡이하)', '강남여부', '좌표Y', '계약일', 'k-수정일자',\n",
       "       'k-전용면적별세대현황(60㎡~85㎡이하)', '좌표X', '본번', '층', 'k-85㎡~135㎡이하', '계약월',\n",
       "       'k-건설사(시공사)', 'k-관리비부과면적', '아파트명', '건축면적', '신축여부', '계약년', 'k-전화번호'],\n",
       "      dtype='object')"
      ]
     },
     "execution_count": 34,
     "metadata": {},
     "output_type": "execute_result"
    }
   ],
   "source": [
    "selected_df.columns\n"
   ]
  },
  {
   "cell_type": "code",
   "execution_count": null,
   "metadata": {},
   "outputs": [],
   "source": []
  },
  {
   "cell_type": "code",
   "execution_count": 33,
   "metadata": {},
   "outputs": [],
   "source": [
    "scaled_df = pd.concat([df_id, scaled_df], axis=1)\n",
    "scaled_df.to_csv(os.path.join(prep_path, 'df_base_scaled.csv'), index=False)\n",
    "\n",
    "selected_df = pd.concat([df_id, selected_df], axis=1)\n",
    "selected_df.to_csv(os.path.join(prep_path, 'df_base_selected.csv'), index=False)\n",
    "\n"
   ]
  },
  {
   "cell_type": "code",
   "execution_count": null,
   "metadata": {},
   "outputs": [],
   "source": [
    "selected_df.columns\n",
    "selected_df.head()\n",
    "selected_df.shape\n",
    "selected_df.info()\n",
    "selected_df.describe()"
   ]
  },
  {
   "cell_type": "code",
   "execution_count": 101,
   "metadata": {},
   "outputs": [
    {
     "name": "stdout",
     "output_type": "stream",
     "text": [
      "2024-11-09 08:12:03,512 - root - INFO - Removing unnamed columns: ['Unnamed: 0']\n",
      "중복된 컬럼: ['target']\n"
     ]
    },
    {
     "data": {
      "text/plain": [
       "Index(['is_test', '번지', '본번', '부번', '아파트명', '전용면적', '계약일', '층', '건축년도', '도로명',\n",
       "       'k-단지분류(아파트,주상복합등등)', 'k-전화번호', 'k-팩스번호', 'k-세대타입(분양형태)', 'k-관리방식',\n",
       "       'k-복도유형', 'k-난방방식', 'k-전체동수', 'k-전체세대수', 'k-건설사(시공사)', 'k-시행사',\n",
       "       'k-사용검사일-사용승인일', 'k-연면적', 'k-주거전용면적', 'k-관리비부과면적', 'k-전용면적별세대현황(60㎡이하)',\n",
       "       'k-전용면적별세대현황(60㎡~85㎡이하)', 'k-85㎡~135㎡이하', 'k-홈페이지', 'k-수정일자',\n",
       "       '고용보험관리번호', '경비비관리형태', '세대전기계약방법', '청소비관리형태', '건축면적', '주차대수',\n",
       "       '기타/의무/임대/임의=1/2/3/4', '단지승인일', '사용허가여부', '관리비 업로드', '좌표X', '좌표Y',\n",
       "       '단지신청일', '구', '동', '계약년', '계약월', '강남여부', '신축여부',\n",
       "       'subway_station_area_count', 'subway_direct_influence_count',\n",
       "       'subway_indirect_influence_count', 'subway_shortest_distance',\n",
       "       'subway_zone_type', 'bus_station_area_count',\n",
       "       'bus_direct_influence_count', 'bus_indirect_influence_count',\n",
       "       'bus_shortest_distance', 'bus_zone_type', 'cluster_dist_transport',\n",
       "       'cluster_dist_transport_count'],\n",
       "      dtype='object')"
      ]
     },
     "execution_count": 101,
     "metadata": {},
     "output_type": "execute_result"
    }
   ],
   "source": [
    "def clean_df(df):\n",
    "    df = utils.remove_unnamed_columns(df)\n",
    "\n",
    "    duplicated_cols = df.columns[df.columns.duplicated()].tolist()\n",
    "    print(\"중복된 컬럼:\", duplicated_cols)\n",
    "\n",
    "    # 방법 1: 중복 컬럼 제거 (첫 번째 컬럼 유지)\n",
    "    df = df.loc[:, ~df.columns.duplicated(keep='first')]\n",
    "    df.drop(columns=['target'], inplace=True)\n",
    "    return df\n",
    "\n",
    "cleaned_df = clean_df(scaled_df)\n",
    "cleaned_df.columns"
   ]
  },
  {
   "cell_type": "code",
   "execution_count": 102,
   "metadata": {},
   "outputs": [
    {
     "name": "stdout",
     "output_type": "stream",
     "text": [
      "2024-11-09 08:12:28,007 - root - INFO - Removing unnamed columns: ['Unnamed: 0']\n",
      "중복된 컬럼: ['target']\n"
     ]
    },
    {
     "data": {
      "text/plain": [
       "Index(['is_test', '본번', 'k-전용면적별세대현황(60㎡이하)', 'cluster_dist_transport_count',\n",
       "       'cluster_dist_transport', 'bus_direct_influence_count', '강남여부',\n",
       "       'bus_station_area_count', 'k-관리비부과면적', '건축면적', 'k-전화번호', 'k-전체동수', '번지',\n",
       "       '계약월', 'subway_zone_type', '신축여부', '고용보험관리번호', '전용면적',\n",
       "       'k-전용면적별세대현황(60㎡~85㎡이하)', 'bus_zone_type', 'k-사용검사일-사용승인일',\n",
       "       'subway_direct_influence_count', 'k-홈페이지', '부번', '층', '아파트명',\n",
       "       'subway_station_area_count', 'bus_shortest_distance',\n",
       "       'subway_shortest_distance', '도로명', 'k-85㎡~135㎡이하', 'k-연면적', '구', '계약일',\n",
       "       '좌표Y', 'k-시행사', '건축년도', 'k-건설사(시공사)', '계약년',\n",
       "       'subway_indirect_influence_count', '주차대수', '동', '좌표X', 'k-수정일자',\n",
       "       'bus_indirect_influence_count'],\n",
       "      dtype='object')"
      ]
     },
     "execution_count": 102,
     "metadata": {},
     "output_type": "execute_result"
    }
   ],
   "source": [
    "procseed_df = clean_df(processed_df)\n",
    "procseed_df.columns\n"
   ]
  },
  {
   "cell_type": "code",
   "execution_count": 106,
   "metadata": {},
   "outputs": [],
   "source": [
    "cleaned_df.to_csv(os.path.join(prep_path, 'df_baseline_scaled.csv'), index=False)"
   ]
  },
  {
   "cell_type": "code",
   "execution_count": 107,
   "metadata": {},
   "outputs": [],
   "source": [
    "processed_df.to_csv(os.path.join(prep_path, 'df_baseline_preprocessed.csv'), index=False)"
   ]
  },
  {
   "cell_type": "code",
   "execution_count": 100,
   "metadata": {},
   "outputs": [
    {
     "data": {
      "text/plain": [
       "0          0\n",
       "1          0\n",
       "2          0\n",
       "3          0\n",
       "4          0\n",
       "          ..\n",
       "1128089    1\n",
       "1128090    1\n",
       "1128091    1\n",
       "1128092    1\n",
       "1128093    1\n",
       "Name: is_test, Length: 1128094, dtype: int64"
      ]
     },
     "execution_count": 100,
     "metadata": {},
     "output_type": "execute_result"
    }
   ],
   "source": [
    "processed_df['is_test']"
   ]
  },
  {
   "cell_type": "code",
   "execution_count": null,
   "metadata": {},
   "outputs": [],
   "source": []
  },
  {
   "cell_type": "code",
   "execution_count": 95,
   "metadata": {},
   "outputs": [
    {
     "data": {
      "text/plain": [
       "62"
      ]
     },
     "execution_count": 95,
     "metadata": {},
     "output_type": "execute_result"
    }
   ],
   "source": [
    "len(cleaned_df.columns)"
   ]
  },
  {
   "cell_type": "code",
   "execution_count": 93,
   "metadata": {},
   "outputs": [
    {
     "data": {
      "text/plain": [
       "Index(['is_test', 'target', 'target', 'Unnamed: 0', '번지', '본번', '부번', '아파트명',\n",
       "       '전용면적', '계약일', '층', '건축년도', '도로명', 'k-단지분류(아파트,주상복합등등)', 'k-전화번호',\n",
       "       'k-팩스번호', 'k-세대타입(분양형태)', 'k-관리방식', 'k-복도유형', 'k-난방방식', 'k-전체동수',\n",
       "       'k-전체세대수', 'k-건설사(시공사)', 'k-시행사', 'k-사용검사일-사용승인일', 'k-연면적', 'k-주거전용면적',\n",
       "       'k-관리비부과면적', 'k-전용면적별세대현황(60㎡이하)', 'k-전용면적별세대현황(60㎡~85㎡이하)',\n",
       "       'k-85㎡~135㎡이하', 'k-홈페이지', 'k-수정일자', '고용보험관리번호', '경비비관리형태', '세대전기계약방법',\n",
       "       '청소비관리형태', '건축면적', '주차대수', '기타/의무/임대/임의=1/2/3/4', '단지승인일', '사용허가여부',\n",
       "       '관리비 업로드', '좌표X', '좌표Y', '단지신청일', '구', '동', '계약년', '계약월', '강남여부',\n",
       "       '신축여부', 'subway_station_area_count', 'subway_direct_influence_count',\n",
       "       'subway_indirect_influence_count', 'subway_shortest_distance',\n",
       "       'subway_zone_type', 'bus_station_area_count',\n",
       "       'bus_direct_influence_count', 'bus_indirect_influence_count',\n",
       "       'bus_shortest_distance', 'bus_zone_type', 'cluster_dist_transport',\n",
       "       'cluster_dist_transport_count'],\n",
       "      dtype='object')"
      ]
     },
     "execution_count": 93,
     "metadata": {},
     "output_type": "execute_result"
    }
   ],
   "source": [
    "df_id.columns\n",
    "scaled_df.columns[]"
   ]
  },
  {
   "cell_type": "code",
   "execution_count": 92,
   "metadata": {},
   "outputs": [
    {
     "data": {
      "text/html": [
       "<div>\n",
       "<style scoped>\n",
       "    .dataframe tbody tr th:only-of-type {\n",
       "        vertical-align: middle;\n",
       "    }\n",
       "\n",
       "    .dataframe tbody tr th {\n",
       "        vertical-align: top;\n",
       "    }\n",
       "\n",
       "    .dataframe thead th {\n",
       "        text-align: right;\n",
       "    }\n",
       "</style>\n",
       "<table border=\"1\" class=\"dataframe\">\n",
       "  <thead>\n",
       "    <tr style=\"text-align: right;\">\n",
       "      <th></th>\n",
       "      <th>target</th>\n",
       "      <th>target</th>\n",
       "    </tr>\n",
       "  </thead>\n",
       "  <tbody>\n",
       "    <tr>\n",
       "      <th>0</th>\n",
       "      <td>124000.0</td>\n",
       "      <td>124000.0</td>\n",
       "    </tr>\n",
       "    <tr>\n",
       "      <th>1</th>\n",
       "      <td>123500.0</td>\n",
       "      <td>123500.0</td>\n",
       "    </tr>\n",
       "    <tr>\n",
       "      <th>2</th>\n",
       "      <td>91500.0</td>\n",
       "      <td>91500.0</td>\n",
       "    </tr>\n",
       "    <tr>\n",
       "      <th>3</th>\n",
       "      <td>130000.0</td>\n",
       "      <td>130000.0</td>\n",
       "    </tr>\n",
       "    <tr>\n",
       "      <th>4</th>\n",
       "      <td>117000.0</td>\n",
       "      <td>117000.0</td>\n",
       "    </tr>\n",
       "    <tr>\n",
       "      <th>...</th>\n",
       "      <td>...</td>\n",
       "      <td>...</td>\n",
       "    </tr>\n",
       "    <tr>\n",
       "      <th>1128089</th>\n",
       "      <td>0.0</td>\n",
       "      <td>0.0</td>\n",
       "    </tr>\n",
       "    <tr>\n",
       "      <th>1128090</th>\n",
       "      <td>0.0</td>\n",
       "      <td>0.0</td>\n",
       "    </tr>\n",
       "    <tr>\n",
       "      <th>1128091</th>\n",
       "      <td>0.0</td>\n",
       "      <td>0.0</td>\n",
       "    </tr>\n",
       "    <tr>\n",
       "      <th>1128092</th>\n",
       "      <td>0.0</td>\n",
       "      <td>0.0</td>\n",
       "    </tr>\n",
       "    <tr>\n",
       "      <th>1128093</th>\n",
       "      <td>0.0</td>\n",
       "      <td>0.0</td>\n",
       "    </tr>\n",
       "  </tbody>\n",
       "</table>\n",
       "<p>1128094 rows × 2 columns</p>\n",
       "</div>"
      ],
      "text/plain": [
       "           target    target\n",
       "0        124000.0  124000.0\n",
       "1        123500.0  123500.0\n",
       "2         91500.0   91500.0\n",
       "3        130000.0  130000.0\n",
       "4        117000.0  117000.0\n",
       "...           ...       ...\n",
       "1128089       0.0       0.0\n",
       "1128090       0.0       0.0\n",
       "1128091       0.0       0.0\n",
       "1128092       0.0       0.0\n",
       "1128093       0.0       0.0\n",
       "\n",
       "[1128094 rows x 2 columns]"
      ]
     },
     "execution_count": 92,
     "metadata": {},
     "output_type": "execute_result"
    }
   ],
   "source": [
    "scaled_df[['target']]"
   ]
  },
  {
   "cell_type": "code",
   "execution_count": 88,
   "metadata": {},
   "outputs": [
    {
     "data": {
      "text/plain": [
       "(1128094, 48)"
      ]
     },
     "execution_count": 88,
     "metadata": {},
     "output_type": "execute_result"
    }
   ],
   "source": [
    "processed_df.shape"
   ]
  },
  {
   "cell_type": "code",
   "execution_count": 89,
   "metadata": {},
   "outputs": [
    {
     "data": {
      "text/plain": [
       "Index(['is_test', 'target', 'target', '본번', 'k-전용면적별세대현황(60㎡이하)',\n",
       "       'cluster_dist_transport_count', 'cluster_dist_transport',\n",
       "       'bus_direct_influence_count', '강남여부', 'bus_station_area_count',\n",
       "       'k-관리비부과면적', '건축면적', 'Unnamed: 0', 'k-전화번호', 'k-전체동수', '번지', '계약월',\n",
       "       'subway_zone_type', '신축여부', '고용보험관리번호', '전용면적',\n",
       "       'k-전용면적별세대현황(60㎡~85㎡이하)', 'bus_zone_type', 'k-사용검사일-사용승인일',\n",
       "       'subway_direct_influence_count', 'k-홈페이지', '부번', '층', '아파트명',\n",
       "       'subway_station_area_count', 'bus_shortest_distance',\n",
       "       'subway_shortest_distance', '도로명', 'k-85㎡~135㎡이하', 'k-연면적', '구', '계약일',\n",
       "       '좌표Y', 'k-시행사', '건축년도', 'k-건설사(시공사)', '계약년',\n",
       "       'subway_indirect_influence_count', '주차대수', '동', '좌표X', 'k-수정일자',\n",
       "       'bus_indirect_influence_count'],\n",
       "      dtype='object')"
      ]
     },
     "execution_count": 89,
     "metadata": {},
     "output_type": "execute_result"
    }
   ],
   "source": [
    "processed_df.columns"
   ]
  },
  {
   "cell_type": "code",
   "execution_count": 52,
   "metadata": {},
   "outputs": [
    {
     "data": {
      "text/plain": [
       "(1128094, 61)"
      ]
     },
     "execution_count": 52,
     "metadata": {},
     "output_type": "execute_result"
    }
   ],
   "source": [
    "df.shape"
   ]
  },
  {
   "cell_type": "code",
   "execution_count": 49,
   "metadata": {},
   "outputs": [
    {
     "name": "stdout",
     "output_type": "stream",
     "text": [
      "1\n"
     ]
    }
   ],
   "source": [
    "print(1)"
   ]
  },
  {
   "cell_type": "markdown",
   "metadata": {},
   "source": [
    "# Pandas AI\n"
   ]
  },
  {
   "cell_type": "code",
   "execution_count": 18,
   "metadata": {},
   "outputs": [],
   "source": []
  },
  {
   "cell_type": "code",
   "execution_count": null,
   "metadata": {},
   "outputs": [],
   "source": [
    "smart_df = SmartDataframe(df)\n",
    "smart_df.chat('Which column features are critical to predict house price? Convert putative numeric values as float or integer.')\n"
   ]
  },
  {
   "cell_type": "code",
   "execution_count": null,
   "metadata": {},
   "outputs": [],
   "source": [
    "smart_df.chat('Do Basic EDA and explain it.')\n",
    "\n",
    "#\n",
    "# 시군구\t번지\t본번\t부번\t아파트명\t전용면적(㎡)\t계약년월\t계약일\t층\t건축년도\t도로명\t해제사유발생일\t등기신청일자\t거래유형\t중개사소재지\tk-단지분류(아파트,주상복합등등)\n",
    "# 0\t서울특별시 종로구 옥인동\t\t4933.0\t307.0\tDMC래미안클라시스\t71.84\t202004\t23\t40\t1998\t마들로 646\t20200917.0\t20230914\t중개거래\t서울 강북구, 서울 성동구\t도시형 생활주택(아파트)\n",
    "# 1\t서울특별시 성북구 성북동\t44-8\tNaN\tNaN\t래미안하이리버\t15.94\t201709\t8\t20\t2022\t남부순환로248길 78\tNaN\t20230915\t직거래\t서울 광진구, 서울 송파구\tNone\n",
    "# 2\t서울특별시 용산구 효창동\t1312\t1293.0\t2000.0\tNone\t112.23\t201702\t4\t8\t1978\t이촌로54길 5\t20230325.0\t20230413\t-\t경기 김포시, 서울 강서구\t연립주택"
   ]
  },
  {
   "cell_type": "code",
   "execution_count": null,
   "metadata": {},
   "outputs": [],
   "source": [
    "smart_df.chat('Classify Two groups: Categorical or Numeric. Print total number of each group, and each columns. plot basic EDA stuff, based on the sorting (feature importance). Including correlation, heatmap.')"
   ]
  },
  {
   "cell_type": "code",
   "execution_count": null,
   "metadata": {},
   "outputs": [],
   "source": [
    "smart_df.chat('Select important features, and suggest proper scaling method for each different features, for house price (numerica) prediction problem.')"
   ]
  },
  {
   "cell_type": "code",
   "execution_count": null,
   "metadata": {},
   "outputs": [],
   "source": [
    "smart_df.chat('Select important features and tell me why, for house price (numerica) prediction problem.')"
   ]
  },
  {
   "cell_type": "code",
   "execution_count": null,
   "metadata": {},
   "outputs": [],
   "source": [
    "smart_df.chat('Plot distribution and scatter plot altogher. if possible, 3D plot.')"
   ]
  },
  {
   "cell_type": "code",
   "execution_count": null,
   "metadata": {},
   "outputs": [],
   "source": [
    "smart_df.chat('Plot distribution and scatter plot altogher. if possible, 3D plot.')"
   ]
  },
  {
   "cell_type": "code",
   "execution_count": null,
   "metadata": {},
   "outputs": [],
   "source": [
    "smart_df.chat('Plot 3 most import figures.')"
   ]
  },
  {
   "cell_type": "code",
   "execution_count": null,
   "metadata": {},
   "outputs": [],
   "source": [
    "smart_df.chat('What kind of scaling is needed for important features, each?')"
   ]
  },
  {
   "cell_type": "code",
   "execution_count": null,
   "metadata": {},
   "outputs": [],
   "source": [
    "agent = Agent(df)\n",
    "agent.chat('')\n",
    "\n"
   ]
  },
  {
   "cell_type": "code",
   "execution_count": null,
   "metadata": {},
   "outputs": [],
   "source": [
    "agent.chat('Plot the histogram')\n"
   ]
  },
  {
   "cell_type": "code",
   "execution_count": null,
   "metadata": {},
   "outputs": [],
   "source": []
  },
  {
   "cell_type": "code",
   "execution_count": null,
   "metadata": {},
   "outputs": [],
   "source": [
    "\n",
    "from main_baseline import DataPrep, EDA, FeatureEngineer, Model\n",
    "# import pygwalker as pyg\n",
    "\n",
    "\n",
    "data_prep = DataPrep(config)\n",
    "feat_eng = FeatureEngineer(config)\n",
    "model_instance = Model(config)\n",
    "df = data_prep.load_data(base_path)\n",
    "\n"
   ]
  },
  {
   "cell_type": "code",
   "execution_count": null,
   "metadata": {},
   "outputs": [],
   "source": []
  },
  {
   "cell_type": "code",
   "execution_count": null,
   "metadata": {},
   "outputs": [],
   "source": [
    "df = data_prep.prep_null(df)\n",
    "df = data_prep.prep_inter(df)\n",
    "# 위 방법으로 전용 면적에 대한 이상치를 제거해보겠습니다.\n",
    "cols = ['계약년', '전용면적', '강남여부', '구', '건축년도', '좌표X', '좌표Y', '동']\n",
    "df = data_prep.remove_outliers_iqr(df, '전용면적')\n",
    "# 이상치 제거 후의 shape은 아래와 같습니다. 약 10만개의 데이터가 제거된 모습을 확인할 수 있습니다.\n",
    "print(df.shape)\n",
    "df['is_test'].value_counts()     # 또한, train data만 제거되었습니다."
   ]
  },
  {
   "cell_type": "code",
   "execution_count": null,
   "metadata": {},
   "outputs": [],
   "source": [
    "\n",
    "walker = pyg.walk(\n",
    "    df,\n",
    "    spec=\"./chart_meta_0.json\",    # this json file will save your chart state, you need to click save button in ui mannual when you finish a chart, 'autosave' will be supported in the future.\n",
    "    kernel_computation=True,          # set `kernel_computation=True`, pygwalker will use duckdb as computing engine, it support you explore bigger dataset(<=100GB).\n",
    ")"
   ]
  },
  {
   "cell_type": "code",
   "execution_count": null,
   "metadata": {},
   "outputs": [],
   "source": [
    "\n",
    "#### Feat eng\n",
    "df = feat_eng.prep_feat(df)\n",
    "df_coor = {'x': '좌표X', 'y': '좌표Y'}\n",
    "df_subway = data_prep.load_feat_data(os.path.join(base_path, 'data','subway_feature.csv'))\n",
    "df_bus = data_prep.load_feat_data(os.path.joing(base_path, 'data','bus_feature.csv'))\n",
    "subway_coor = {'x': '위도', 'y': '경도'}\n",
    "bus_coor = {'x': 'X좌표', 'y': 'Y좌표'}\n",
    "\n",
    "df = feat_eng.sum_distances_from_a_to_b(df, df_coor , df_subway, subway_coor, 'subway')\n",
    "df = feat_eng.sum_distances_from_a_to_b(df, df_coor , df_bus, bus_coor, 'bus')\n",
    "### split\n",
    "dt_train, dt_test, continuous_columns_v2, categorical_columns_v2 = feat_eng.split_train_test(df)\n",
    "dt_train, label_encoders = feat_eng.encode_label(dt_train, dt_test, continuous_columns_v2, categorical_columns_v2)\n",
    "X_train, X_val, y_train, y_val = feat_eng.split_dataset(dt_train)\n",
    "\n",
    "prep_data = {'X_train': X_train,\n",
    "            'X_val': X_val,\n",
    "            'y_train': y_train,\n",
    "            'y_val': y_val,\n",
    "            'continuous_columns': continuous_columns_v2,\n",
    "            'categorical_columns': categorical_columns_v2\n",
    "}\n",
    "out_path_data = model_instance.save_data(prep_data)\n",
    "# loaded_data = load_data_pkl(out_path_data)\n",
    "# print(loaded_data)\n",
    "model, pred = model_instance.model_train(X_train, X_val, y_train, y_val)\n",
    "feat_eng.select_var(model, X_val, y_val, pred, label_encoders, categorical_columns_v2)\n",
    "model_instance.inference(dt_test)"
   ]
  }
 ],
 "metadata": {
  "kernelspec": {
   "display_name": "Python 3",
   "language": "python",
   "name": "python3"
  },
  "language_info": {
   "codemirror_mode": {
    "name": "ipython",
    "version": 3
   },
   "file_extension": ".py",
   "mimetype": "text/x-python",
   "name": "python",
   "nbconvert_exporter": "python",
   "pygments_lexer": "ipython3",
   "version": "3.9.20"
  }
 },
 "nbformat": 4,
 "nbformat_minor": 2
}
